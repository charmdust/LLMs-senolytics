{
  "cells": [
    {
      "cell_type": "markdown",
      "metadata": {
        "id": "view-in-github",
        "colab_type": "text"
      },
      "source": [
        "<a href=\"https://colab.research.google.com/github/charmdust/LLMs-senolytics/blob/main/PCA_classifier.ipynb\" target=\"_parent\"><img src=\"https://colab.research.google.com/assets/colab-badge.svg\" alt=\"Open In Colab\"/></a>"
      ]
    },
    {
      "cell_type": "code",
      "execution_count": null,
      "metadata": {
        "colab": {
          "base_uri": "https://localhost:8080/",
          "height": 73
        },
        "id": "7z4qRdHabgam",
        "outputId": "e8f7fb07-3895-4c5f-ce54-2f82728304f8"
      },
      "outputs": [
        {
          "data": {
            "text/html": [
              "\n",
              "     <input type=\"file\" id=\"files-939e98b3-9a95-4553-8f73-167417c27786\" name=\"files[]\" multiple disabled\n",
              "        style=\"border:none\" />\n",
              "     <output id=\"result-939e98b3-9a95-4553-8f73-167417c27786\">\n",
              "      Upload widget is only available when the cell has been executed in the\n",
              "      current browser session. Please rerun this cell to enable.\n",
              "      </output>\n",
              "      <script>// Copyright 2017 Google LLC\n",
              "//\n",
              "// Licensed under the Apache License, Version 2.0 (the \"License\");\n",
              "// you may not use this file except in compliance with the License.\n",
              "// You may obtain a copy of the License at\n",
              "//\n",
              "//      http://www.apache.org/licenses/LICENSE-2.0\n",
              "//\n",
              "// Unless required by applicable law or agreed to in writing, software\n",
              "// distributed under the License is distributed on an \"AS IS\" BASIS,\n",
              "// WITHOUT WARRANTIES OR CONDITIONS OF ANY KIND, either express or implied.\n",
              "// See the License for the specific language governing permissions and\n",
              "// limitations under the License.\n",
              "\n",
              "/**\n",
              " * @fileoverview Helpers for google.colab Python module.\n",
              " */\n",
              "(function(scope) {\n",
              "function span(text, styleAttributes = {}) {\n",
              "  const element = document.createElement('span');\n",
              "  element.textContent = text;\n",
              "  for (const key of Object.keys(styleAttributes)) {\n",
              "    element.style[key] = styleAttributes[key];\n",
              "  }\n",
              "  return element;\n",
              "}\n",
              "\n",
              "// Max number of bytes which will be uploaded at a time.\n",
              "const MAX_PAYLOAD_SIZE = 100 * 1024;\n",
              "\n",
              "function _uploadFiles(inputId, outputId) {\n",
              "  const steps = uploadFilesStep(inputId, outputId);\n",
              "  const outputElement = document.getElementById(outputId);\n",
              "  // Cache steps on the outputElement to make it available for the next call\n",
              "  // to uploadFilesContinue from Python.\n",
              "  outputElement.steps = steps;\n",
              "\n",
              "  return _uploadFilesContinue(outputId);\n",
              "}\n",
              "\n",
              "// This is roughly an async generator (not supported in the browser yet),\n",
              "// where there are multiple asynchronous steps and the Python side is going\n",
              "// to poll for completion of each step.\n",
              "// This uses a Promise to block the python side on completion of each step,\n",
              "// then passes the result of the previous step as the input to the next step.\n",
              "function _uploadFilesContinue(outputId) {\n",
              "  const outputElement = document.getElementById(outputId);\n",
              "  const steps = outputElement.steps;\n",
              "\n",
              "  const next = steps.next(outputElement.lastPromiseValue);\n",
              "  return Promise.resolve(next.value.promise).then((value) => {\n",
              "    // Cache the last promise value to make it available to the next\n",
              "    // step of the generator.\n",
              "    outputElement.lastPromiseValue = value;\n",
              "    return next.value.response;\n",
              "  });\n",
              "}\n",
              "\n",
              "/**\n",
              " * Generator function which is called between each async step of the upload\n",
              " * process.\n",
              " * @param {string} inputId Element ID of the input file picker element.\n",
              " * @param {string} outputId Element ID of the output display.\n",
              " * @return {!Iterable<!Object>} Iterable of next steps.\n",
              " */\n",
              "function* uploadFilesStep(inputId, outputId) {\n",
              "  const inputElement = document.getElementById(inputId);\n",
              "  inputElement.disabled = false;\n",
              "\n",
              "  const outputElement = document.getElementById(outputId);\n",
              "  outputElement.innerHTML = '';\n",
              "\n",
              "  const pickedPromise = new Promise((resolve) => {\n",
              "    inputElement.addEventListener('change', (e) => {\n",
              "      resolve(e.target.files);\n",
              "    });\n",
              "  });\n",
              "\n",
              "  const cancel = document.createElement('button');\n",
              "  inputElement.parentElement.appendChild(cancel);\n",
              "  cancel.textContent = 'Cancel upload';\n",
              "  const cancelPromise = new Promise((resolve) => {\n",
              "    cancel.onclick = () => {\n",
              "      resolve(null);\n",
              "    };\n",
              "  });\n",
              "\n",
              "  // Wait for the user to pick the files.\n",
              "  const files = yield {\n",
              "    promise: Promise.race([pickedPromise, cancelPromise]),\n",
              "    response: {\n",
              "      action: 'starting',\n",
              "    }\n",
              "  };\n",
              "\n",
              "  cancel.remove();\n",
              "\n",
              "  // Disable the input element since further picks are not allowed.\n",
              "  inputElement.disabled = true;\n",
              "\n",
              "  if (!files) {\n",
              "    return {\n",
              "      response: {\n",
              "        action: 'complete',\n",
              "      }\n",
              "    };\n",
              "  }\n",
              "\n",
              "  for (const file of files) {\n",
              "    const li = document.createElement('li');\n",
              "    li.append(span(file.name, {fontWeight: 'bold'}));\n",
              "    li.append(span(\n",
              "        `(${file.type || 'n/a'}) - ${file.size} bytes, ` +\n",
              "        `last modified: ${\n",
              "            file.lastModifiedDate ? file.lastModifiedDate.toLocaleDateString() :\n",
              "                                    'n/a'} - `));\n",
              "    const percent = span('0% done');\n",
              "    li.appendChild(percent);\n",
              "\n",
              "    outputElement.appendChild(li);\n",
              "\n",
              "    const fileDataPromise = new Promise((resolve) => {\n",
              "      const reader = new FileReader();\n",
              "      reader.onload = (e) => {\n",
              "        resolve(e.target.result);\n",
              "      };\n",
              "      reader.readAsArrayBuffer(file);\n",
              "    });\n",
              "    // Wait for the data to be ready.\n",
              "    let fileData = yield {\n",
              "      promise: fileDataPromise,\n",
              "      response: {\n",
              "        action: 'continue',\n",
              "      }\n",
              "    };\n",
              "\n",
              "    // Use a chunked sending to avoid message size limits. See b/62115660.\n",
              "    let position = 0;\n",
              "    do {\n",
              "      const length = Math.min(fileData.byteLength - position, MAX_PAYLOAD_SIZE);\n",
              "      const chunk = new Uint8Array(fileData, position, length);\n",
              "      position += length;\n",
              "\n",
              "      const base64 = btoa(String.fromCharCode.apply(null, chunk));\n",
              "      yield {\n",
              "        response: {\n",
              "          action: 'append',\n",
              "          file: file.name,\n",
              "          data: base64,\n",
              "        },\n",
              "      };\n",
              "\n",
              "      let percentDone = fileData.byteLength === 0 ?\n",
              "          100 :\n",
              "          Math.round((position / fileData.byteLength) * 100);\n",
              "      percent.textContent = `${percentDone}% done`;\n",
              "\n",
              "    } while (position < fileData.byteLength);\n",
              "  }\n",
              "\n",
              "  // All done.\n",
              "  yield {\n",
              "    response: {\n",
              "      action: 'complete',\n",
              "    }\n",
              "  };\n",
              "}\n",
              "\n",
              "scope.google = scope.google || {};\n",
              "scope.google.colab = scope.google.colab || {};\n",
              "scope.google.colab._files = {\n",
              "  _uploadFiles,\n",
              "  _uploadFilesContinue,\n",
              "};\n",
              "})(self);\n",
              "</script> "
            ],
            "text/plain": [
              "<IPython.core.display.HTML object>"
            ]
          },
          "metadata": {},
          "output_type": "display_data"
        },
        {
          "name": "stdout",
          "output_type": "stream",
          "text": [
            "Saving embeddings_ChemBERTa-77M-MTR.csv to embeddings_ChemBERTa-77M-MTR.csv\n"
          ]
        }
      ],
      "source": [
        "# Upload csv file of senolytics dataset #embeddings_ChemBERTa-77M-MTR.csv\n",
        "from google.colab import files\n",
        "\n",
        "uploaded_files = files.upload()"
      ]
    },
    {
      "cell_type": "code",
      "execution_count": null,
      "metadata": {
        "id": "RI3yeGnPccUG"
      },
      "outputs": [],
      "source": [
        "import pandas as pd"
      ]
    },
    {
      "cell_type": "code",
      "execution_count": null,
      "metadata": {
        "id": "m972HfNGcKfh"
      },
      "outputs": [],
      "source": [
        "# Senolytic embedding dataset\n",
        "embeddings_df = pd.read_csv('embeddings_ChemBERTa-77M-MTR.csv', index_col=0)\n",
        "embeddings_unlabelled_df= embeddings_df.drop(['senolytic'], axis=1)"
      ]
    },
    {
      "cell_type": "code",
      "execution_count": null,
      "metadata": {
        "colab": {
          "base_uri": "https://localhost:8080/",
          "height": 444
        },
        "id": "Kp7zNJS-fX6C",
        "outputId": "bfef1471-cacc-4080-a9f0-90898af6cd81"
      },
      "outputs": [
        {
          "data": {
            "text/html": [
              "\n",
              "  <div id=\"df-14f78697-10ac-44df-a6b1-ea05d745ab95\" class=\"colab-df-container\">\n",
              "    <div>\n",
              "<style scoped>\n",
              "    .dataframe tbody tr th:only-of-type {\n",
              "        vertical-align: middle;\n",
              "    }\n",
              "\n",
              "    .dataframe tbody tr th {\n",
              "        vertical-align: top;\n",
              "    }\n",
              "\n",
              "    .dataframe thead th {\n",
              "        text-align: right;\n",
              "    }\n",
              "</style>\n",
              "<table border=\"1\" class=\"dataframe\">\n",
              "  <thead>\n",
              "    <tr style=\"text-align: right;\">\n",
              "      <th></th>\n",
              "      <th>0</th>\n",
              "      <th>1</th>\n",
              "      <th>2</th>\n",
              "      <th>3</th>\n",
              "      <th>4</th>\n",
              "      <th>5</th>\n",
              "      <th>6</th>\n",
              "      <th>7</th>\n",
              "      <th>8</th>\n",
              "      <th>9</th>\n",
              "      <th>...</th>\n",
              "      <th>374</th>\n",
              "      <th>375</th>\n",
              "      <th>376</th>\n",
              "      <th>377</th>\n",
              "      <th>378</th>\n",
              "      <th>379</th>\n",
              "      <th>380</th>\n",
              "      <th>381</th>\n",
              "      <th>382</th>\n",
              "      <th>383</th>\n",
              "    </tr>\n",
              "  </thead>\n",
              "  <tbody>\n",
              "    <tr>\n",
              "      <th>0</th>\n",
              "      <td>-0.290031</td>\n",
              "      <td>0.263885</td>\n",
              "      <td>-0.066671</td>\n",
              "      <td>0.100327</td>\n",
              "      <td>-0.259569</td>\n",
              "      <td>0.022748</td>\n",
              "      <td>0.140864</td>\n",
              "      <td>0.243493</td>\n",
              "      <td>0.567811</td>\n",
              "      <td>0.118618</td>\n",
              "      <td>...</td>\n",
              "      <td>0.252246</td>\n",
              "      <td>-0.237621</td>\n",
              "      <td>0.464819</td>\n",
              "      <td>0.230708</td>\n",
              "      <td>0.672948</td>\n",
              "      <td>0.419122</td>\n",
              "      <td>-0.358063</td>\n",
              "      <td>-0.216196</td>\n",
              "      <td>-0.069715</td>\n",
              "      <td>-0.678289</td>\n",
              "    </tr>\n",
              "    <tr>\n",
              "      <th>1</th>\n",
              "      <td>-0.012639</td>\n",
              "      <td>0.213503</td>\n",
              "      <td>-0.134192</td>\n",
              "      <td>0.392547</td>\n",
              "      <td>0.022338</td>\n",
              "      <td>-0.086408</td>\n",
              "      <td>-0.035086</td>\n",
              "      <td>0.005343</td>\n",
              "      <td>0.619932</td>\n",
              "      <td>0.673573</td>\n",
              "      <td>...</td>\n",
              "      <td>-0.170875</td>\n",
              "      <td>-0.184574</td>\n",
              "      <td>0.427398</td>\n",
              "      <td>0.281019</td>\n",
              "      <td>0.306216</td>\n",
              "      <td>-0.392882</td>\n",
              "      <td>0.011277</td>\n",
              "      <td>-0.131439</td>\n",
              "      <td>-0.803637</td>\n",
              "      <td>-0.826964</td>\n",
              "    </tr>\n",
              "    <tr>\n",
              "      <th>2</th>\n",
              "      <td>-0.095006</td>\n",
              "      <td>0.644539</td>\n",
              "      <td>-0.066614</td>\n",
              "      <td>-0.268834</td>\n",
              "      <td>-0.206784</td>\n",
              "      <td>0.095967</td>\n",
              "      <td>0.055044</td>\n",
              "      <td>0.056933</td>\n",
              "      <td>0.307201</td>\n",
              "      <td>0.020258</td>\n",
              "      <td>...</td>\n",
              "      <td>-0.307819</td>\n",
              "      <td>-0.593354</td>\n",
              "      <td>0.454562</td>\n",
              "      <td>-0.237803</td>\n",
              "      <td>0.814712</td>\n",
              "      <td>0.062407</td>\n",
              "      <td>-0.265970</td>\n",
              "      <td>-0.249852</td>\n",
              "      <td>-0.228299</td>\n",
              "      <td>-0.416776</td>\n",
              "    </tr>\n",
              "    <tr>\n",
              "      <th>3</th>\n",
              "      <td>0.026083</td>\n",
              "      <td>0.318502</td>\n",
              "      <td>0.013914</td>\n",
              "      <td>0.172785</td>\n",
              "      <td>0.111354</td>\n",
              "      <td>0.511077</td>\n",
              "      <td>0.080710</td>\n",
              "      <td>0.520043</td>\n",
              "      <td>0.804374</td>\n",
              "      <td>0.651797</td>\n",
              "      <td>...</td>\n",
              "      <td>0.248897</td>\n",
              "      <td>0.402831</td>\n",
              "      <td>0.576898</td>\n",
              "      <td>0.511677</td>\n",
              "      <td>0.750589</td>\n",
              "      <td>0.018256</td>\n",
              "      <td>-0.694583</td>\n",
              "      <td>-0.071945</td>\n",
              "      <td>-0.761183</td>\n",
              "      <td>-0.756916</td>\n",
              "    </tr>\n",
              "    <tr>\n",
              "      <th>4</th>\n",
              "      <td>-0.460030</td>\n",
              "      <td>0.421303</td>\n",
              "      <td>-0.162309</td>\n",
              "      <td>0.028112</td>\n",
              "      <td>0.387106</td>\n",
              "      <td>-0.287026</td>\n",
              "      <td>0.056716</td>\n",
              "      <td>0.360014</td>\n",
              "      <td>0.328866</td>\n",
              "      <td>1.121849</td>\n",
              "      <td>...</td>\n",
              "      <td>0.191067</td>\n",
              "      <td>0.192859</td>\n",
              "      <td>0.277388</td>\n",
              "      <td>-0.047801</td>\n",
              "      <td>0.186759</td>\n",
              "      <td>0.439925</td>\n",
              "      <td>-1.476240</td>\n",
              "      <td>-0.124936</td>\n",
              "      <td>0.020092</td>\n",
              "      <td>0.159189</td>\n",
              "    </tr>\n",
              "    <tr>\n",
              "      <th>...</th>\n",
              "      <td>...</td>\n",
              "      <td>...</td>\n",
              "      <td>...</td>\n",
              "      <td>...</td>\n",
              "      <td>...</td>\n",
              "      <td>...</td>\n",
              "      <td>...</td>\n",
              "      <td>...</td>\n",
              "      <td>...</td>\n",
              "      <td>...</td>\n",
              "      <td>...</td>\n",
              "      <td>...</td>\n",
              "      <td>...</td>\n",
              "      <td>...</td>\n",
              "      <td>...</td>\n",
              "      <td>...</td>\n",
              "      <td>...</td>\n",
              "      <td>...</td>\n",
              "      <td>...</td>\n",
              "      <td>...</td>\n",
              "      <td>...</td>\n",
              "    </tr>\n",
              "    <tr>\n",
              "      <th>2518</th>\n",
              "      <td>-0.295840</td>\n",
              "      <td>0.303825</td>\n",
              "      <td>-0.136295</td>\n",
              "      <td>-0.366104</td>\n",
              "      <td>0.202789</td>\n",
              "      <td>-0.212097</td>\n",
              "      <td>-0.128841</td>\n",
              "      <td>0.362939</td>\n",
              "      <td>0.497204</td>\n",
              "      <td>0.649837</td>\n",
              "      <td>...</td>\n",
              "      <td>-0.062955</td>\n",
              "      <td>-0.157866</td>\n",
              "      <td>0.413815</td>\n",
              "      <td>-0.354008</td>\n",
              "      <td>0.722578</td>\n",
              "      <td>0.321399</td>\n",
              "      <td>0.043701</td>\n",
              "      <td>-0.206395</td>\n",
              "      <td>-0.436977</td>\n",
              "      <td>-0.842718</td>\n",
              "    </tr>\n",
              "    <tr>\n",
              "      <th>2519</th>\n",
              "      <td>-0.283768</td>\n",
              "      <td>0.370120</td>\n",
              "      <td>-0.110231</td>\n",
              "      <td>0.512154</td>\n",
              "      <td>0.233257</td>\n",
              "      <td>0.242050</td>\n",
              "      <td>-0.017050</td>\n",
              "      <td>0.329926</td>\n",
              "      <td>1.005854</td>\n",
              "      <td>0.521571</td>\n",
              "      <td>...</td>\n",
              "      <td>0.547734</td>\n",
              "      <td>-0.104136</td>\n",
              "      <td>0.552833</td>\n",
              "      <td>0.152982</td>\n",
              "      <td>0.785510</td>\n",
              "      <td>0.187130</td>\n",
              "      <td>-0.635683</td>\n",
              "      <td>-0.121113</td>\n",
              "      <td>-0.242070</td>\n",
              "      <td>-0.921150</td>\n",
              "    </tr>\n",
              "    <tr>\n",
              "      <th>2520</th>\n",
              "      <td>0.040798</td>\n",
              "      <td>0.458825</td>\n",
              "      <td>-0.366712</td>\n",
              "      <td>0.276873</td>\n",
              "      <td>0.680884</td>\n",
              "      <td>-0.451345</td>\n",
              "      <td>0.026750</td>\n",
              "      <td>0.578484</td>\n",
              "      <td>0.377602</td>\n",
              "      <td>-0.237474</td>\n",
              "      <td>...</td>\n",
              "      <td>0.565088</td>\n",
              "      <td>-0.183758</td>\n",
              "      <td>0.269405</td>\n",
              "      <td>0.014521</td>\n",
              "      <td>0.020281</td>\n",
              "      <td>0.076221</td>\n",
              "      <td>-0.285806</td>\n",
              "      <td>0.119852</td>\n",
              "      <td>-0.045421</td>\n",
              "      <td>-1.112874</td>\n",
              "    </tr>\n",
              "    <tr>\n",
              "      <th>2521</th>\n",
              "      <td>-0.046136</td>\n",
              "      <td>0.064962</td>\n",
              "      <td>-0.046859</td>\n",
              "      <td>0.374524</td>\n",
              "      <td>0.312591</td>\n",
              "      <td>-0.085187</td>\n",
              "      <td>0.275788</td>\n",
              "      <td>-0.065989</td>\n",
              "      <td>0.277828</td>\n",
              "      <td>0.562855</td>\n",
              "      <td>...</td>\n",
              "      <td>0.701727</td>\n",
              "      <td>-0.350442</td>\n",
              "      <td>0.424701</td>\n",
              "      <td>0.048650</td>\n",
              "      <td>0.542230</td>\n",
              "      <td>0.177762</td>\n",
              "      <td>-0.557880</td>\n",
              "      <td>0.414519</td>\n",
              "      <td>-0.289631</td>\n",
              "      <td>-0.846267</td>\n",
              "    </tr>\n",
              "    <tr>\n",
              "      <th>2522</th>\n",
              "      <td>-0.340833</td>\n",
              "      <td>0.036012</td>\n",
              "      <td>-0.093934</td>\n",
              "      <td>0.356755</td>\n",
              "      <td>0.303230</td>\n",
              "      <td>-0.087457</td>\n",
              "      <td>0.237567</td>\n",
              "      <td>0.108472</td>\n",
              "      <td>0.453123</td>\n",
              "      <td>0.686885</td>\n",
              "      <td>...</td>\n",
              "      <td>0.518301</td>\n",
              "      <td>-0.355392</td>\n",
              "      <td>0.466483</td>\n",
              "      <td>-0.352834</td>\n",
              "      <td>0.630193</td>\n",
              "      <td>-0.106499</td>\n",
              "      <td>-0.692074</td>\n",
              "      <td>0.250324</td>\n",
              "      <td>-0.436076</td>\n",
              "      <td>-0.856834</td>\n",
              "    </tr>\n",
              "  </tbody>\n",
              "</table>\n",
              "<p>2523 rows × 384 columns</p>\n",
              "</div>\n",
              "    <div class=\"colab-df-buttons\">\n",
              "\n",
              "  <div class=\"colab-df-container\">\n",
              "    <button class=\"colab-df-convert\" onclick=\"convertToInteractive('df-14f78697-10ac-44df-a6b1-ea05d745ab95')\"\n",
              "            title=\"Convert this dataframe to an interactive table.\"\n",
              "            style=\"display:none;\">\n",
              "\n",
              "  <svg xmlns=\"http://www.w3.org/2000/svg\" height=\"24px\" viewBox=\"0 -960 960 960\">\n",
              "    <path d=\"M120-120v-720h720v720H120Zm60-500h600v-160H180v160Zm220 220h160v-160H400v160Zm0 220h160v-160H400v160ZM180-400h160v-160H180v160Zm440 0h160v-160H620v160ZM180-180h160v-160H180v160Zm440 0h160v-160H620v160Z\"/>\n",
              "  </svg>\n",
              "    </button>\n",
              "\n",
              "  <style>\n",
              "    .colab-df-container {\n",
              "      display:flex;\n",
              "      gap: 12px;\n",
              "    }\n",
              "\n",
              "    .colab-df-convert {\n",
              "      background-color: #E8F0FE;\n",
              "      border: none;\n",
              "      border-radius: 50%;\n",
              "      cursor: pointer;\n",
              "      display: none;\n",
              "      fill: #1967D2;\n",
              "      height: 32px;\n",
              "      padding: 0 0 0 0;\n",
              "      width: 32px;\n",
              "    }\n",
              "\n",
              "    .colab-df-convert:hover {\n",
              "      background-color: #E2EBFA;\n",
              "      box-shadow: 0px 1px 2px rgba(60, 64, 67, 0.3), 0px 1px 3px 1px rgba(60, 64, 67, 0.15);\n",
              "      fill: #174EA6;\n",
              "    }\n",
              "\n",
              "    .colab-df-buttons div {\n",
              "      margin-bottom: 4px;\n",
              "    }\n",
              "\n",
              "    [theme=dark] .colab-df-convert {\n",
              "      background-color: #3B4455;\n",
              "      fill: #D2E3FC;\n",
              "    }\n",
              "\n",
              "    [theme=dark] .colab-df-convert:hover {\n",
              "      background-color: #434B5C;\n",
              "      box-shadow: 0px 1px 3px 1px rgba(0, 0, 0, 0.15);\n",
              "      filter: drop-shadow(0px 1px 2px rgba(0, 0, 0, 0.3));\n",
              "      fill: #FFFFFF;\n",
              "    }\n",
              "  </style>\n",
              "\n",
              "    <script>\n",
              "      const buttonEl =\n",
              "        document.querySelector('#df-14f78697-10ac-44df-a6b1-ea05d745ab95 button.colab-df-convert');\n",
              "      buttonEl.style.display =\n",
              "        google.colab.kernel.accessAllowed ? 'block' : 'none';\n",
              "\n",
              "      async function convertToInteractive(key) {\n",
              "        const element = document.querySelector('#df-14f78697-10ac-44df-a6b1-ea05d745ab95');\n",
              "        const dataTable =\n",
              "          await google.colab.kernel.invokeFunction('convertToInteractive',\n",
              "                                                    [key], {});\n",
              "        if (!dataTable) return;\n",
              "\n",
              "        const docLinkHtml = 'Like what you see? Visit the ' +\n",
              "          '<a target=\"_blank\" href=https://colab.research.google.com/notebooks/data_table.ipynb>data table notebook</a>'\n",
              "          + ' to learn more about interactive tables.';\n",
              "        element.innerHTML = '';\n",
              "        dataTable['output_type'] = 'display_data';\n",
              "        await google.colab.output.renderOutput(dataTable, element);\n",
              "        const docLink = document.createElement('div');\n",
              "        docLink.innerHTML = docLinkHtml;\n",
              "        element.appendChild(docLink);\n",
              "      }\n",
              "    </script>\n",
              "  </div>\n",
              "\n",
              "\n",
              "<div id=\"df-0d2efb9c-9830-43e1-9d2a-7eeaf2c00049\">\n",
              "  <button class=\"colab-df-quickchart\" onclick=\"quickchart('df-0d2efb9c-9830-43e1-9d2a-7eeaf2c00049')\"\n",
              "            title=\"Suggest charts.\"\n",
              "            style=\"display:none;\">\n",
              "\n",
              "<svg xmlns=\"http://www.w3.org/2000/svg\" height=\"24px\"viewBox=\"0 0 24 24\"\n",
              "     width=\"24px\">\n",
              "    <g>\n",
              "        <path d=\"M19 3H5c-1.1 0-2 .9-2 2v14c0 1.1.9 2 2 2h14c1.1 0 2-.9 2-2V5c0-1.1-.9-2-2-2zM9 17H7v-7h2v7zm4 0h-2V7h2v10zm4 0h-2v-4h2v4z\"/>\n",
              "    </g>\n",
              "</svg>\n",
              "  </button>\n",
              "\n",
              "<style>\n",
              "  .colab-df-quickchart {\n",
              "      --bg-color: #E8F0FE;\n",
              "      --fill-color: #1967D2;\n",
              "      --hover-bg-color: #E2EBFA;\n",
              "      --hover-fill-color: #174EA6;\n",
              "      --disabled-fill-color: #AAA;\n",
              "      --disabled-bg-color: #DDD;\n",
              "  }\n",
              "\n",
              "  [theme=dark] .colab-df-quickchart {\n",
              "      --bg-color: #3B4455;\n",
              "      --fill-color: #D2E3FC;\n",
              "      --hover-bg-color: #434B5C;\n",
              "      --hover-fill-color: #FFFFFF;\n",
              "      --disabled-bg-color: #3B4455;\n",
              "      --disabled-fill-color: #666;\n",
              "  }\n",
              "\n",
              "  .colab-df-quickchart {\n",
              "    background-color: var(--bg-color);\n",
              "    border: none;\n",
              "    border-radius: 50%;\n",
              "    cursor: pointer;\n",
              "    display: none;\n",
              "    fill: var(--fill-color);\n",
              "    height: 32px;\n",
              "    padding: 0;\n",
              "    width: 32px;\n",
              "  }\n",
              "\n",
              "  .colab-df-quickchart:hover {\n",
              "    background-color: var(--hover-bg-color);\n",
              "    box-shadow: 0 1px 2px rgba(60, 64, 67, 0.3), 0 1px 3px 1px rgba(60, 64, 67, 0.15);\n",
              "    fill: var(--button-hover-fill-color);\n",
              "  }\n",
              "\n",
              "  .colab-df-quickchart-complete:disabled,\n",
              "  .colab-df-quickchart-complete:disabled:hover {\n",
              "    background-color: var(--disabled-bg-color);\n",
              "    fill: var(--disabled-fill-color);\n",
              "    box-shadow: none;\n",
              "  }\n",
              "\n",
              "  .colab-df-spinner {\n",
              "    border: 2px solid var(--fill-color);\n",
              "    border-color: transparent;\n",
              "    border-bottom-color: var(--fill-color);\n",
              "    animation:\n",
              "      spin 1s steps(1) infinite;\n",
              "  }\n",
              "\n",
              "  @keyframes spin {\n",
              "    0% {\n",
              "      border-color: transparent;\n",
              "      border-bottom-color: var(--fill-color);\n",
              "      border-left-color: var(--fill-color);\n",
              "    }\n",
              "    20% {\n",
              "      border-color: transparent;\n",
              "      border-left-color: var(--fill-color);\n",
              "      border-top-color: var(--fill-color);\n",
              "    }\n",
              "    30% {\n",
              "      border-color: transparent;\n",
              "      border-left-color: var(--fill-color);\n",
              "      border-top-color: var(--fill-color);\n",
              "      border-right-color: var(--fill-color);\n",
              "    }\n",
              "    40% {\n",
              "      border-color: transparent;\n",
              "      border-right-color: var(--fill-color);\n",
              "      border-top-color: var(--fill-color);\n",
              "    }\n",
              "    60% {\n",
              "      border-color: transparent;\n",
              "      border-right-color: var(--fill-color);\n",
              "    }\n",
              "    80% {\n",
              "      border-color: transparent;\n",
              "      border-right-color: var(--fill-color);\n",
              "      border-bottom-color: var(--fill-color);\n",
              "    }\n",
              "    90% {\n",
              "      border-color: transparent;\n",
              "      border-bottom-color: var(--fill-color);\n",
              "    }\n",
              "  }\n",
              "</style>\n",
              "\n",
              "  <script>\n",
              "    async function quickchart(key) {\n",
              "      const quickchartButtonEl =\n",
              "        document.querySelector('#' + key + ' button');\n",
              "      quickchartButtonEl.disabled = true;  // To prevent multiple clicks.\n",
              "      quickchartButtonEl.classList.add('colab-df-spinner');\n",
              "      try {\n",
              "        const charts = await google.colab.kernel.invokeFunction(\n",
              "            'suggestCharts', [key], {});\n",
              "      } catch (error) {\n",
              "        console.error('Error during call to suggestCharts:', error);\n",
              "      }\n",
              "      quickchartButtonEl.classList.remove('colab-df-spinner');\n",
              "      quickchartButtonEl.classList.add('colab-df-quickchart-complete');\n",
              "    }\n",
              "    (() => {\n",
              "      let quickchartButtonEl =\n",
              "        document.querySelector('#df-0d2efb9c-9830-43e1-9d2a-7eeaf2c00049 button');\n",
              "      quickchartButtonEl.style.display =\n",
              "        google.colab.kernel.accessAllowed ? 'block' : 'none';\n",
              "    })();\n",
              "  </script>\n",
              "</div>\n",
              "    </div>\n",
              "  </div>\n"
            ],
            "text/plain": [
              "             0         1         2         3         4         5         6  \\\n",
              "0    -0.290031  0.263885 -0.066671  0.100327 -0.259569  0.022748  0.140864   \n",
              "1    -0.012639  0.213503 -0.134192  0.392547  0.022338 -0.086408 -0.035086   \n",
              "2    -0.095006  0.644539 -0.066614 -0.268834 -0.206784  0.095967  0.055044   \n",
              "3     0.026083  0.318502  0.013914  0.172785  0.111354  0.511077  0.080710   \n",
              "4    -0.460030  0.421303 -0.162309  0.028112  0.387106 -0.287026  0.056716   \n",
              "...        ...       ...       ...       ...       ...       ...       ...   \n",
              "2518 -0.295840  0.303825 -0.136295 -0.366104  0.202789 -0.212097 -0.128841   \n",
              "2519 -0.283768  0.370120 -0.110231  0.512154  0.233257  0.242050 -0.017050   \n",
              "2520  0.040798  0.458825 -0.366712  0.276873  0.680884 -0.451345  0.026750   \n",
              "2521 -0.046136  0.064962 -0.046859  0.374524  0.312591 -0.085187  0.275788   \n",
              "2522 -0.340833  0.036012 -0.093934  0.356755  0.303230 -0.087457  0.237567   \n",
              "\n",
              "             7         8         9  ...       374       375       376  \\\n",
              "0     0.243493  0.567811  0.118618  ...  0.252246 -0.237621  0.464819   \n",
              "1     0.005343  0.619932  0.673573  ... -0.170875 -0.184574  0.427398   \n",
              "2     0.056933  0.307201  0.020258  ... -0.307819 -0.593354  0.454562   \n",
              "3     0.520043  0.804374  0.651797  ...  0.248897  0.402831  0.576898   \n",
              "4     0.360014  0.328866  1.121849  ...  0.191067  0.192859  0.277388   \n",
              "...        ...       ...       ...  ...       ...       ...       ...   \n",
              "2518  0.362939  0.497204  0.649837  ... -0.062955 -0.157866  0.413815   \n",
              "2519  0.329926  1.005854  0.521571  ...  0.547734 -0.104136  0.552833   \n",
              "2520  0.578484  0.377602 -0.237474  ...  0.565088 -0.183758  0.269405   \n",
              "2521 -0.065989  0.277828  0.562855  ...  0.701727 -0.350442  0.424701   \n",
              "2522  0.108472  0.453123  0.686885  ...  0.518301 -0.355392  0.466483   \n",
              "\n",
              "           377       378       379       380       381       382       383  \n",
              "0     0.230708  0.672948  0.419122 -0.358063 -0.216196 -0.069715 -0.678289  \n",
              "1     0.281019  0.306216 -0.392882  0.011277 -0.131439 -0.803637 -0.826964  \n",
              "2    -0.237803  0.814712  0.062407 -0.265970 -0.249852 -0.228299 -0.416776  \n",
              "3     0.511677  0.750589  0.018256 -0.694583 -0.071945 -0.761183 -0.756916  \n",
              "4    -0.047801  0.186759  0.439925 -1.476240 -0.124936  0.020092  0.159189  \n",
              "...        ...       ...       ...       ...       ...       ...       ...  \n",
              "2518 -0.354008  0.722578  0.321399  0.043701 -0.206395 -0.436977 -0.842718  \n",
              "2519  0.152982  0.785510  0.187130 -0.635683 -0.121113 -0.242070 -0.921150  \n",
              "2520  0.014521  0.020281  0.076221 -0.285806  0.119852 -0.045421 -1.112874  \n",
              "2521  0.048650  0.542230  0.177762 -0.557880  0.414519 -0.289631 -0.846267  \n",
              "2522 -0.352834  0.630193 -0.106499 -0.692074  0.250324 -0.436076 -0.856834  \n",
              "\n",
              "[2523 rows x 384 columns]"
            ]
          },
          "execution_count": 5,
          "metadata": {},
          "output_type": "execute_result"
        }
      ],
      "source": [
        "embeddings_unlabelled_df"
      ]
    },
    {
      "cell_type": "markdown",
      "metadata": {
        "id": "KXBLdwBcc45Q"
      },
      "source": [
        "## PCA"
      ]
    },
    {
      "cell_type": "code",
      "execution_count": null,
      "metadata": {
        "id": "oao399UBeQr1"
      },
      "outputs": [],
      "source": [
        "# Scale dataset https://www.kdnuggets.com/2023/05/principal-component-analysis-pca-scikitlearn.html\n",
        "from sklearn.preprocessing import StandardScaler\n",
        "std_scaler = StandardScaler()\n",
        "scaled_embeddings_df = std_scaler.fit_transform(embeddings_unlabelled_df)"
      ]
    },
    {
      "cell_type": "code",
      "execution_count": null,
      "metadata": {
        "colab": {
          "base_uri": "https://localhost:8080/"
        },
        "id": "S1rwwYToefbM",
        "outputId": "14836e94-3ec0-490d-c01b-d41a7b503096"
      },
      "outputs": [
        {
          "data": {
            "text/plain": [
              "array([[-0.40092182, -0.01088595,  0.16195741, ..., -0.59164049,\n",
              "         1.39080996,  0.07436137],\n",
              "       [ 0.9607636 , -0.17080164, -0.86093701, ..., -0.17931584,\n",
              "        -1.10334539, -0.59395979],\n",
              "       [ 0.55643157,  1.19733265,  0.16281985, ..., -0.75537045,\n",
              "         0.85188128,  1.24990879],\n",
              "       ...,\n",
              "       [ 1.22307903,  0.60786455, -4.3834327 , ...,  1.04317136,\n",
              "         1.47337228, -1.87917626],\n",
              "       [ 0.79633095, -0.6422804 ,  0.46210394, ...,  2.47667495,\n",
              "         0.64345018, -0.68073116],\n",
              "       [-0.65030348, -0.73416951, -0.25105294, ...,  1.67789607,\n",
              "         0.1457734 , -0.72823335]])"
            ]
          },
          "execution_count": 7,
          "metadata": {},
          "output_type": "execute_result"
        }
      ],
      "source": [
        "scaled_embeddings_df"
      ]
    },
    {
      "cell_type": "code",
      "execution_count": null,
      "metadata": {
        "colab": {
          "base_uri": "https://localhost:8080/"
        },
        "id": "RYPTp3Grcr2y",
        "outputId": "b6f481ec-af86-4ea2-f0b0-926fce1ed18b"
      },
      "outputs": [
        {
          "name": "stdout",
          "output_type": "stream",
          "text": [
            "[0.19784905 0.10650279 0.07463944 0.06021996 0.0386067  0.03240106]\n"
          ]
        }
      ],
      "source": [
        "#https://scikit-learn.org/stable/modules/generated/sklearn.decomposition.PCA.html\n",
        "from sklearn.decomposition import PCA\n",
        "import numpy as np\n",
        "\n",
        "pca = PCA(n_components=6)\n",
        "pca.fit(scaled_embeddings_df)\n",
        "print(pca.explained_variance_ratio_)\n"
      ]
    },
    {
      "cell_type": "code",
      "execution_count": null,
      "metadata": {
        "colab": {
          "base_uri": "https://localhost:8080/"
        },
        "id": "ojJxy7UpiTOn",
        "outputId": "6a752518-d4ad-41ec-923e-2009dbce38cf"
      },
      "outputs": [
        {
          "data": {
            "text/plain": [
              "0.5102189968811102"
            ]
          },
          "execution_count": 9,
          "metadata": {},
          "output_type": "execute_result"
        }
      ],
      "source": [
        "pca.explained_variance_ratio_.sum()"
      ]
    },
    {
      "cell_type": "code",
      "execution_count": null,
      "metadata": {
        "colab": {
          "base_uri": "https://localhost:8080/"
        },
        "id": "2kOXhfGOigNm",
        "outputId": "c9f0a4b8-6a22-4639-de76-82321db0702d"
      },
      "outputs": [
        {
          "name": "stdout",
          "output_type": "stream",
          "text": [
            "[1.97849054e-01 1.06502787e-01 7.46394434e-02 6.02199554e-02\n",
            " 3.86067005e-02 3.24010728e-02 3.14279970e-02 2.94632597e-02\n",
            " 2.52303959e-02 2.12486635e-02 2.00801965e-02 1.74194333e-02\n",
            " 1.57710492e-02 1.43729412e-02 1.27266319e-02 1.14364108e-02\n",
            " 1.09035731e-02 1.03738602e-02 1.00752941e-02 9.52632944e-03\n",
            " 8.93648120e-03 8.23000209e-03 7.62657655e-03 7.18250527e-03\n",
            " 6.84993667e-03 6.60586016e-03 6.36705559e-03 5.99882002e-03\n",
            " 5.73207037e-03 5.25234192e-03 5.15618151e-03 5.03125021e-03\n",
            " 4.88765066e-03 4.64281078e-03 4.58704370e-03 4.36810732e-03\n",
            " 4.24783230e-03 4.05052090e-03 3.99858423e-03 3.82510014e-03\n",
            " 3.70072323e-03 3.46963250e-03 3.39552462e-03 3.35107662e-03\n",
            " 3.31044305e-03 3.09667484e-03 3.01588525e-03 2.84729900e-03\n",
            " 2.83089702e-03 2.81349780e-03 2.65581632e-03 2.59433791e-03\n",
            " 2.52816463e-03 2.42407372e-03 2.32317050e-03 2.29213290e-03\n",
            " 2.22670997e-03 2.18962175e-03 2.14331554e-03 2.10626593e-03\n",
            " 2.00484064e-03 1.98950646e-03 1.93700356e-03 1.83209028e-03\n",
            " 1.76365360e-03 1.73967265e-03 1.69260792e-03 1.61149616e-03\n",
            " 1.59252206e-03 1.57142882e-03 1.54675067e-03 1.48591345e-03\n",
            " 1.47061164e-03 1.41603621e-03 1.36766829e-03 1.32737348e-03\n",
            " 1.31340980e-03 1.30377875e-03 1.22868345e-03 1.19597336e-03\n",
            " 1.17278676e-03 1.16596582e-03 1.12567917e-03 1.11500278e-03\n",
            " 1.09422068e-03 1.07270686e-03 1.04139740e-03 1.01310740e-03\n",
            " 1.00131079e-03 9.67765184e-04 9.60615374e-04 9.44832683e-04\n",
            " 8.81798029e-04 8.71427445e-04 8.46220824e-04 8.31517045e-04\n",
            " 8.26534159e-04 8.00329653e-04 7.68001887e-04 7.56618145e-04\n",
            " 7.35252627e-04 7.12222902e-04 6.99420207e-04 6.94617655e-04\n",
            " 6.80834499e-04 6.64183444e-04 6.39813091e-04 6.30159493e-04\n",
            " 6.17190500e-04 5.90441622e-04 5.76833398e-04 5.63384084e-04\n",
            " 5.58236787e-04 5.32186005e-04 5.28981288e-04 5.21356294e-04\n",
            " 5.18018100e-04 5.05126973e-04 4.91712633e-04 4.73659944e-04\n",
            " 4.69953052e-04 4.52669513e-04 4.48500719e-04 4.38362246e-04\n",
            " 4.23607905e-04 4.01053110e-04 3.97796630e-04 3.82854460e-04\n",
            " 3.70866259e-04 3.65114670e-04 3.48736989e-04 3.46840024e-04\n",
            " 3.42265095e-04 3.36651783e-04 3.31285653e-04 3.13175955e-04\n",
            " 3.05646084e-04 3.00491714e-04 2.92340614e-04 2.85496920e-04\n",
            " 2.79437789e-04 2.71395754e-04 2.69609456e-04 2.59380769e-04\n",
            " 2.56513695e-04 2.50753925e-04 2.49235094e-04 2.37046101e-04\n",
            " 2.34579381e-04 2.22264753e-04 2.13730285e-04 2.07593174e-04\n",
            " 2.02270646e-04 1.96875998e-04 1.89445043e-04 1.85867731e-04\n",
            " 1.80987680e-04 1.79225260e-04 1.72747115e-04 1.65883385e-04\n",
            " 1.62965792e-04 1.59413654e-04 1.56374993e-04 1.52106205e-04\n",
            " 1.50334040e-04 1.42668209e-04 1.38787394e-04 1.37894309e-04\n",
            " 1.32664042e-04 1.28472572e-04 1.22778496e-04 1.20608618e-04\n",
            " 1.16111178e-04 1.13231696e-04 1.11307122e-04 1.06612237e-04\n",
            " 1.05522205e-04 1.01321636e-04 9.86630879e-05 9.74329018e-05\n",
            " 9.54215177e-05 9.30690593e-05 8.86222833e-05 8.68811433e-05\n",
            " 8.41145255e-05 8.10427921e-05 7.86439227e-05 7.80240861e-05\n",
            " 7.59249542e-05 7.28449890e-05 7.03550451e-05 6.95809205e-05\n",
            " 6.66009278e-05 6.60384621e-05 6.55667091e-05 6.43053646e-05\n",
            " 6.33752416e-05 6.16211516e-05 6.10467310e-05 5.88177339e-05\n",
            " 5.66394881e-05 5.40626855e-05 5.35260946e-05 5.29507749e-05\n",
            " 5.20767123e-05 5.13682088e-05 5.04187885e-05 4.78577444e-05\n",
            " 4.66639512e-05 4.53538882e-05 4.45255785e-05 4.37117797e-05\n",
            " 4.21902781e-05 4.11748963e-05 4.06108458e-05 3.89429313e-05\n",
            " 3.79286774e-05 3.78268065e-05 3.73299593e-05 3.68819945e-05\n",
            " 3.60535806e-05 3.44068540e-05 3.41108039e-05 3.31119489e-05\n",
            " 3.16816975e-05 3.13758849e-05 3.06899250e-05 2.96580265e-05\n",
            " 2.94972009e-05 2.92145679e-05 2.77084301e-05 2.70241270e-05\n",
            " 2.64148073e-05 2.60214779e-05 2.58100137e-05 2.47530899e-05\n",
            " 2.46025526e-05 2.36442430e-05 2.34400538e-05 2.28326544e-05\n",
            " 2.16592375e-05 2.12706996e-05 2.04936610e-05 2.03399253e-05\n",
            " 1.98533674e-05 1.96961736e-05 1.91209240e-05 1.88074179e-05\n",
            " 1.81840641e-05 1.79233404e-05 1.78378845e-05 1.72850067e-05\n",
            " 1.68835297e-05 1.66011675e-05 1.63752783e-05 1.56520488e-05\n",
            " 1.52054875e-05 1.49109463e-05 1.45207016e-05 1.41418870e-05\n",
            " 1.38318951e-05 1.36653806e-05 1.33879536e-05 1.28210545e-05\n",
            " 1.27260934e-05 1.23320967e-05 1.19006141e-05 1.17585589e-05\n",
            " 1.13919672e-05 1.13136656e-05 1.10456952e-05 1.09538110e-05\n",
            " 1.07730250e-05 1.03183391e-05 1.01986856e-05 1.00410330e-05\n",
            " 9.90738944e-06 9.74030909e-06 9.53746179e-06 9.48409476e-06\n",
            " 9.11158518e-06 8.85297289e-06 8.62754858e-06 8.35961836e-06\n",
            " 8.25254118e-06 8.17704030e-06 7.89277178e-06 7.79332738e-06\n",
            " 7.70119338e-06 7.60400806e-06 7.54802366e-06 7.19991603e-06\n",
            " 7.13360137e-06 6.94192686e-06 6.67788674e-06 6.49615765e-06\n",
            " 6.46625078e-06 6.28515331e-06 6.23230210e-06 6.06915225e-06\n",
            " 5.95532392e-06 5.77799272e-06 5.67334229e-06 5.40155461e-06\n",
            " 5.32554092e-06 5.26824211e-06 5.20326954e-06 5.09117045e-06\n",
            " 4.98353359e-06 4.93801438e-06 4.78621946e-06 4.67282459e-06\n",
            " 4.61402489e-06 4.45581931e-06 4.29054656e-06 4.20740715e-06\n",
            " 4.19318830e-06 3.96794999e-06 3.90663707e-06 3.89478123e-06\n",
            " 3.85418577e-06 3.72947979e-06 3.70520102e-06 3.59672695e-06\n",
            " 3.51700265e-06 3.41397081e-06 3.30859822e-06 3.23085556e-06\n",
            " 3.19201218e-06 3.15924059e-06 3.06230487e-06 2.93108135e-06\n",
            " 2.80138187e-06 2.77383219e-06 2.71186210e-06 2.67831630e-06\n",
            " 2.65388401e-06 2.51531741e-06 2.44329533e-06 2.37898757e-06\n",
            " 2.31954141e-06 2.29435645e-06 2.22760831e-06 2.18178891e-06\n",
            " 2.15477763e-06 2.11942379e-06 2.04455458e-06 1.92872332e-06\n",
            " 1.91255680e-06 1.87416622e-06 1.84315013e-06 1.79985882e-06\n",
            " 1.70695979e-06 1.67899348e-06 1.64293278e-06 1.61482412e-06\n",
            " 1.47918340e-06 1.47165842e-06 1.41542387e-06 1.38784317e-06\n",
            " 1.35604217e-06 1.33378676e-06 1.26952332e-06 1.25376736e-06\n",
            " 1.22371444e-06 1.19422680e-06 1.12105279e-06 1.08721464e-06\n",
            " 1.07736135e-06 1.03496824e-06 1.02909361e-06 9.76138163e-07\n",
            " 9.40015420e-07 9.25962512e-07 8.63094892e-07 8.50587370e-07\n",
            " 7.84362048e-07 7.28969286e-07 6.98224386e-07 6.80544997e-07\n",
            " 6.27286830e-07 6.07996527e-07 3.08208237e-07 1.33545378e-16]\n"
          ]
        }
      ],
      "source": [
        "# How many to explain 95% of variance?\n",
        "pca = PCA(n_components=len(scaled_embeddings_df[0]))\n",
        "pca.fit(scaled_embeddings_df)\n",
        "print(pca.explained_variance_ratio_)\n"
      ]
    },
    {
      "cell_type": "code",
      "execution_count": null,
      "metadata": {
        "colab": {
          "base_uri": "https://localhost:8080/"
        },
        "id": "uGCrjNM5jHDQ",
        "outputId": "7cb6a53b-996c-46b6-b443-1a7188236afc"
      },
      "outputs": [
        {
          "data": {
            "text/plain": [
              "0.9901830685236713"
            ]
          },
          "execution_count": 11,
          "metadata": {},
          "output_type": "execute_result"
        }
      ],
      "source": [
        "# 144 of 384 features needed to explain 99% of data\n",
        "pca.explained_variance_ratio_[0:144].sum()"
      ]
    },
    {
      "cell_type": "code",
      "execution_count": null,
      "metadata": {
        "colab": {
          "base_uri": "https://localhost:8080/"
        },
        "id": "bUXRA82gkYp4",
        "outputId": "c4b33796-f368-485c-fd3b-e1fd97a95735"
      },
      "outputs": [
        {
          "data": {
            "text/plain": [
              "0.9505580657220372"
            ]
          },
          "execution_count": 12,
          "metadata": {},
          "output_type": "execute_result"
        }
      ],
      "source": [
        "# 80 of 384 features needed to explain 95% of data\n",
        "pca.explained_variance_ratio_[0:80].sum()"
      ]
    },
    {
      "cell_type": "code",
      "execution_count": null,
      "metadata": {
        "colab": {
          "base_uri": "https://localhost:8080/"
        },
        "id": "tcdANvhmpShd",
        "outputId": "3a6f3306-55c5-4b01-9b5d-dba1ed8019aa"
      },
      "outputs": [
        {
          "data": {
            "text/plain": [
              "0.9009335895164144"
            ]
          },
          "execution_count": 13,
          "metadata": {},
          "output_type": "execute_result"
        }
      ],
      "source": [
        "# 52 of 384 features needed to explain 90% of data\n",
        "pca.explained_variance_ratio_[0:52].sum()"
      ]
    },
    {
      "cell_type": "code",
      "execution_count": null,
      "metadata": {
        "colab": {
          "base_uri": "https://localhost:8080/",
          "height": 472
        },
        "id": "hq8TTG5ij_Zs",
        "outputId": "602ac3c7-1075-4028-fb93-dd333a21d5e0"
      },
      "outputs": [
        {
          "data": {
            "image/png": "[encoded data removed]",
            "text/plain": [
              "<Figure size 640x480 with 1 Axes>"
            ]
          },
          "metadata": {},
          "output_type": "display_data"
        }
      ],
      "source": [
        "import matplotlib.pyplot as plt\n",
        "\n",
        "plt.plot(pca.explained_variance_ratio_[0:30]*100,  marker='o')\n",
        "plt.title(\"PCA scree plot for ChemBERTa-77M-MTR embeddings of senolytics dataset\")\n",
        "plt.xlabel(\"PC\")\n",
        "plt.ylabel(\"Variance explained (%)\")\n",
        "plt.show()"
      ]
    },
    {
      "cell_type": "code",
      "execution_count": null,
      "metadata": {
        "colab": {
          "base_uri": "https://localhost:8080/"
        },
        "id": "UBJI49ZXlrqP",
        "outputId": "c94f6104-0de0-4f0e-98ad-a7c2dc261fb2"
      },
      "outputs": [
        {
          "data": {
            "text/plain": [
              "0.439211240634701"
            ]
          },
          "execution_count": 15,
          "metadata": {},
          "output_type": "execute_result"
        }
      ],
      "source": [
        "# left of elbow: 4 of 384 features explains this amount of data (elbow)\n",
        "pca.explained_variance_ratio_[0:4].sum()"
      ]
    },
    {
      "cell_type": "code",
      "execution_count": null,
      "metadata": {
        "colab": {
          "base_uri": "https://localhost:8080/",
          "height": 472
        },
        "id": "AWCTB6FJl2JJ",
        "outputId": "dea2318c-bc29-4e7f-ebf8-f018be43a06c"
      },
      "outputs": [
        {
          "data": {
            "image/png": "[encoded data removed]",
            "text/plain": [
              "<Figure size 640x480 with 1 Axes>"
            ]
          },
          "metadata": {},
          "output_type": "display_data"
        }
      ],
      "source": [
        "# Cumulative plot\n",
        "variance = np.cumsum(pca.explained_variance_ratio_)\n",
        "# https://statisticallyrelevant.com/principal-component-analysis-in-python/\n",
        "\n",
        "plt.plot(variance[0:100]*100,  marker='o')\n",
        "plt.title(\"PCA cumulative scree plot for ChemBERTa-77M-MTR embeddings of senolytics dataset\")\n",
        "plt.xlabel(\"PC\")\n",
        "plt.ylabel(\"Variance explained (%)\")\n",
        "plt.show()"
      ]
    },
    {
      "cell_type": "code",
      "execution_count": null,
      "metadata": {
        "colab": {
          "base_uri": "https://localhost:8080/",
          "height": 472
        },
        "id": "shDHisDynnle",
        "outputId": "34670df4-ecf1-49f2-d743-2bc6c0980167"
      },
      "outputs": [
        {
          "data": {
            "image/png": "[encoded data removed]",
            "text/plain": [
              "<Figure size 640x480 with 1 Axes>"
            ]
          },
          "metadata": {},
          "output_type": "display_data"
        }
      ],
      "source": [
        "# Plot data\n",
        "import seaborn as sns\n",
        "pca = PCA(n_components=2)\n",
        "pca.fit(scaled_embeddings_df)\n",
        "pca_transformed_embeddings = pca.transform(scaled_embeddings_df)\n",
        "\n",
        "\n",
        "sns.scatterplot(x=pca_transformed_embeddings[:,0], y=pca_transformed_embeddings[:,1], hue=embeddings_df['senolytic'])\n",
        "\n",
        "#plt.scatter(pca_transformed_embeddings[:,0], pca_transformed_embeddings[:,1])\n",
        "plt.title(\"Plot of first 2 PCA components for ChemBERTa-77M-MTR embeddings of senolytics dataset\")\n",
        "plt.xlabel(\"PC1\")\n",
        "plt.xlabel(\"PC2\")\n",
        "plt.show()"
      ]
    },
    {
      "cell_type": "code",
      "execution_count": null,
      "metadata": {
        "colab": {
          "base_uri": "https://localhost:8080/"
        },
        "id": "wuoj5mkIpjBv",
        "outputId": "58fe45f1-4180-4adf-ddb3-f345c9eef800"
      },
      "outputs": [
        {
          "data": {
            "text/plain": [
              "array([[  4.18448074,   6.70183444,   3.97279092, ...,  -0.42130614,\n",
              "         -0.45737664,  -0.215192  ],\n",
              "       [  2.68712471,   3.98162858,   0.30938865, ...,   1.17535669,\n",
              "          0.70977673,   0.37867127],\n",
              "       [  1.65507412,  15.13123803,   1.93179756, ...,   0.63013056,\n",
              "          0.693397  ,   0.30150692],\n",
              "       ...,\n",
              "       [ 20.88445995,  -7.83010165, -13.57615875, ...,  -2.52845734,\n",
              "         -1.68613783,   2.41567427],\n",
              "       [ 17.13447879,  -1.57634882,  -8.3962412 , ...,  -0.15474382,\n",
              "          0.84295977,  -1.45809816],\n",
              "       [ 14.84866523,  -1.96492954,  -9.34038533, ...,  -2.30182109,\n",
              "         -0.98783408,  -1.53668933]])"
            ]
          },
          "execution_count": 20,
          "metadata": {},
          "output_type": "execute_result"
        }
      ],
      "source": [
        "# Choose 52 to explain 90% variance\n",
        "pca = PCA(n_components=52)\n",
        "pca.fit(scaled_embeddings_df)\n",
        "pca_transformed_embeddings = pca.transform(scaled_embeddings_df)\n",
        "pca_transformed_embeddings"
      ]
    },
    {
      "cell_type": "code",
      "execution_count": null,
      "metadata": {
        "colab": {
          "base_uri": "https://localhost:8080/",
          "height": 444
        },
        "id": "-seqyjrap-Uc",
        "outputId": "62982f2d-9c2c-419f-9f8f-b3ecf8b4b11d"
      },
      "outputs": [
        {
          "data": {
            "text/html": [
              "\n",
              "  <div id=\"df-e878417b-d281-4237-ac9b-9b6928957fb1\" class=\"colab-df-container\">\n",
              "    <div>\n",
              "<style scoped>\n",
              "    .dataframe tbody tr th:only-of-type {\n",
              "        vertical-align: middle;\n",
              "    }\n",
              "\n",
              "    .dataframe tbody tr th {\n",
              "        vertical-align: top;\n",
              "    }\n",
              "\n",
              "    .dataframe thead th {\n",
              "        text-align: right;\n",
              "    }\n",
              "</style>\n",
              "<table border=\"1\" class=\"dataframe\">\n",
              "  <thead>\n",
              "    <tr style=\"text-align: right;\">\n",
              "      <th></th>\n",
              "      <th>0</th>\n",
              "      <th>1</th>\n",
              "      <th>2</th>\n",
              "      <th>3</th>\n",
              "      <th>4</th>\n",
              "      <th>5</th>\n",
              "      <th>6</th>\n",
              "      <th>7</th>\n",
              "      <th>8</th>\n",
              "      <th>9</th>\n",
              "      <th>...</th>\n",
              "      <th>42</th>\n",
              "      <th>43</th>\n",
              "      <th>44</th>\n",
              "      <th>45</th>\n",
              "      <th>46</th>\n",
              "      <th>47</th>\n",
              "      <th>48</th>\n",
              "      <th>49</th>\n",
              "      <th>50</th>\n",
              "      <th>51</th>\n",
              "    </tr>\n",
              "  </thead>\n",
              "  <tbody>\n",
              "    <tr>\n",
              "      <th>0</th>\n",
              "      <td>4.184481</td>\n",
              "      <td>6.701834</td>\n",
              "      <td>3.972791</td>\n",
              "      <td>-7.931931</td>\n",
              "      <td>1.204368</td>\n",
              "      <td>2.685703</td>\n",
              "      <td>0.415779</td>\n",
              "      <td>1.454484</td>\n",
              "      <td>-1.409162</td>\n",
              "      <td>1.224703</td>\n",
              "      <td>...</td>\n",
              "      <td>-0.182192</td>\n",
              "      <td>0.517955</td>\n",
              "      <td>-0.565866</td>\n",
              "      <td>0.010158</td>\n",
              "      <td>0.896658</td>\n",
              "      <td>0.424820</td>\n",
              "      <td>-1.265472</td>\n",
              "      <td>-0.421306</td>\n",
              "      <td>-0.457377</td>\n",
              "      <td>-0.215192</td>\n",
              "    </tr>\n",
              "    <tr>\n",
              "      <th>1</th>\n",
              "      <td>2.687125</td>\n",
              "      <td>3.981629</td>\n",
              "      <td>0.309389</td>\n",
              "      <td>-8.787266</td>\n",
              "      <td>7.461270</td>\n",
              "      <td>0.470253</td>\n",
              "      <td>-2.620183</td>\n",
              "      <td>0.162801</td>\n",
              "      <td>-2.658939</td>\n",
              "      <td>-4.703126</td>\n",
              "      <td>...</td>\n",
              "      <td>-2.773765</td>\n",
              "      <td>-3.269509</td>\n",
              "      <td>-2.406397</td>\n",
              "      <td>-1.536597</td>\n",
              "      <td>0.965217</td>\n",
              "      <td>1.478966</td>\n",
              "      <td>0.620433</td>\n",
              "      <td>1.175357</td>\n",
              "      <td>0.709777</td>\n",
              "      <td>0.378671</td>\n",
              "    </tr>\n",
              "    <tr>\n",
              "      <th>2</th>\n",
              "      <td>1.655074</td>\n",
              "      <td>15.131238</td>\n",
              "      <td>1.931798</td>\n",
              "      <td>1.060965</td>\n",
              "      <td>2.790545</td>\n",
              "      <td>-1.830201</td>\n",
              "      <td>2.340536</td>\n",
              "      <td>2.659475</td>\n",
              "      <td>-4.869401</td>\n",
              "      <td>2.860517</td>\n",
              "      <td>...</td>\n",
              "      <td>0.372916</td>\n",
              "      <td>1.019819</td>\n",
              "      <td>-0.833802</td>\n",
              "      <td>0.225208</td>\n",
              "      <td>-0.421733</td>\n",
              "      <td>1.053584</td>\n",
              "      <td>-0.631845</td>\n",
              "      <td>0.630131</td>\n",
              "      <td>0.693397</td>\n",
              "      <td>0.301507</td>\n",
              "    </tr>\n",
              "    <tr>\n",
              "      <th>3</th>\n",
              "      <td>1.686809</td>\n",
              "      <td>-7.277621</td>\n",
              "      <td>1.869668</td>\n",
              "      <td>-6.925907</td>\n",
              "      <td>1.518951</td>\n",
              "      <td>1.332903</td>\n",
              "      <td>1.977778</td>\n",
              "      <td>-1.560953</td>\n",
              "      <td>-7.758262</td>\n",
              "      <td>-2.962261</td>\n",
              "      <td>...</td>\n",
              "      <td>-0.335822</td>\n",
              "      <td>0.688395</td>\n",
              "      <td>-0.571124</td>\n",
              "      <td>-0.919215</td>\n",
              "      <td>-1.202824</td>\n",
              "      <td>-0.611707</td>\n",
              "      <td>-0.109249</td>\n",
              "      <td>0.036952</td>\n",
              "      <td>0.247597</td>\n",
              "      <td>1.405690</td>\n",
              "    </tr>\n",
              "    <tr>\n",
              "      <th>4</th>\n",
              "      <td>6.699373</td>\n",
              "      <td>-5.107465</td>\n",
              "      <td>10.940938</td>\n",
              "      <td>-0.297832</td>\n",
              "      <td>5.955676</td>\n",
              "      <td>-6.428809</td>\n",
              "      <td>13.952084</td>\n",
              "      <td>-7.900451</td>\n",
              "      <td>7.820023</td>\n",
              "      <td>-0.937135</td>\n",
              "      <td>...</td>\n",
              "      <td>-0.903090</td>\n",
              "      <td>1.386645</td>\n",
              "      <td>-0.194164</td>\n",
              "      <td>-1.412748</td>\n",
              "      <td>-1.389199</td>\n",
              "      <td>-0.155710</td>\n",
              "      <td>-1.404926</td>\n",
              "      <td>-3.407124</td>\n",
              "      <td>3.816752</td>\n",
              "      <td>-0.313709</td>\n",
              "    </tr>\n",
              "    <tr>\n",
              "      <th>...</th>\n",
              "      <td>...</td>\n",
              "      <td>...</td>\n",
              "      <td>...</td>\n",
              "      <td>...</td>\n",
              "      <td>...</td>\n",
              "      <td>...</td>\n",
              "      <td>...</td>\n",
              "      <td>...</td>\n",
              "      <td>...</td>\n",
              "      <td>...</td>\n",
              "      <td>...</td>\n",
              "      <td>...</td>\n",
              "      <td>...</td>\n",
              "      <td>...</td>\n",
              "      <td>...</td>\n",
              "      <td>...</td>\n",
              "      <td>...</td>\n",
              "      <td>...</td>\n",
              "      <td>...</td>\n",
              "      <td>...</td>\n",
              "      <td>...</td>\n",
              "    </tr>\n",
              "    <tr>\n",
              "      <th>2518</th>\n",
              "      <td>8.188425</td>\n",
              "      <td>-2.353043</td>\n",
              "      <td>-7.379499</td>\n",
              "      <td>5.112264</td>\n",
              "      <td>0.793266</td>\n",
              "      <td>-5.841407</td>\n",
              "      <td>-0.420128</td>\n",
              "      <td>1.980038</td>\n",
              "      <td>1.566482</td>\n",
              "      <td>3.444219</td>\n",
              "      <td>...</td>\n",
              "      <td>-0.169433</td>\n",
              "      <td>0.666308</td>\n",
              "      <td>0.672032</td>\n",
              "      <td>0.194354</td>\n",
              "      <td>0.109333</td>\n",
              "      <td>1.343855</td>\n",
              "      <td>-0.479735</td>\n",
              "      <td>-0.163573</td>\n",
              "      <td>1.135850</td>\n",
              "      <td>-1.823640</td>\n",
              "    </tr>\n",
              "    <tr>\n",
              "      <th>2519</th>\n",
              "      <td>2.321168</td>\n",
              "      <td>-12.688175</td>\n",
              "      <td>-5.656679</td>\n",
              "      <td>3.607345</td>\n",
              "      <td>-1.658469</td>\n",
              "      <td>2.368440</td>\n",
              "      <td>4.468992</td>\n",
              "      <td>0.489902</td>\n",
              "      <td>-3.856958</td>\n",
              "      <td>-4.770536</td>\n",
              "      <td>...</td>\n",
              "      <td>0.639255</td>\n",
              "      <td>-1.656219</td>\n",
              "      <td>-1.509138</td>\n",
              "      <td>-0.995929</td>\n",
              "      <td>-1.491969</td>\n",
              "      <td>-0.688649</td>\n",
              "      <td>-0.074657</td>\n",
              "      <td>-1.600442</td>\n",
              "      <td>-0.305098</td>\n",
              "      <td>0.852326</td>\n",
              "    </tr>\n",
              "    <tr>\n",
              "      <th>2520</th>\n",
              "      <td>20.884460</td>\n",
              "      <td>-7.830102</td>\n",
              "      <td>-13.576159</td>\n",
              "      <td>1.274053</td>\n",
              "      <td>3.416450</td>\n",
              "      <td>-4.702599</td>\n",
              "      <td>6.242463</td>\n",
              "      <td>-1.094841</td>\n",
              "      <td>3.503904</td>\n",
              "      <td>-0.026399</td>\n",
              "      <td>...</td>\n",
              "      <td>0.271118</td>\n",
              "      <td>0.657674</td>\n",
              "      <td>-0.036272</td>\n",
              "      <td>-2.985154</td>\n",
              "      <td>0.824557</td>\n",
              "      <td>0.977563</td>\n",
              "      <td>1.751332</td>\n",
              "      <td>-2.528457</td>\n",
              "      <td>-1.686138</td>\n",
              "      <td>2.415674</td>\n",
              "    </tr>\n",
              "    <tr>\n",
              "      <th>2521</th>\n",
              "      <td>17.134479</td>\n",
              "      <td>-1.576349</td>\n",
              "      <td>-8.396241</td>\n",
              "      <td>0.656804</td>\n",
              "      <td>-1.098776</td>\n",
              "      <td>8.493051</td>\n",
              "      <td>0.137253</td>\n",
              "      <td>-6.371421</td>\n",
              "      <td>5.251926</td>\n",
              "      <td>-1.614952</td>\n",
              "      <td>...</td>\n",
              "      <td>0.265390</td>\n",
              "      <td>-2.079084</td>\n",
              "      <td>1.084889</td>\n",
              "      <td>-1.535601</td>\n",
              "      <td>4.326326</td>\n",
              "      <td>0.482047</td>\n",
              "      <td>0.921905</td>\n",
              "      <td>-0.154744</td>\n",
              "      <td>0.842960</td>\n",
              "      <td>-1.458098</td>\n",
              "    </tr>\n",
              "    <tr>\n",
              "      <th>2522</th>\n",
              "      <td>14.848665</td>\n",
              "      <td>-1.964930</td>\n",
              "      <td>-9.340385</td>\n",
              "      <td>0.854058</td>\n",
              "      <td>1.841440</td>\n",
              "      <td>4.056128</td>\n",
              "      <td>1.960280</td>\n",
              "      <td>-1.740172</td>\n",
              "      <td>6.059151</td>\n",
              "      <td>-0.734059</td>\n",
              "      <td>...</td>\n",
              "      <td>-1.687958</td>\n",
              "      <td>-2.743121</td>\n",
              "      <td>-1.624276</td>\n",
              "      <td>0.632044</td>\n",
              "      <td>2.296719</td>\n",
              "      <td>1.328411</td>\n",
              "      <td>0.987704</td>\n",
              "      <td>-2.301821</td>\n",
              "      <td>-0.987834</td>\n",
              "      <td>-1.536689</td>\n",
              "    </tr>\n",
              "  </tbody>\n",
              "</table>\n",
              "<p>2523 rows × 52 columns</p>\n",
              "</div>\n",
              "    <div class=\"colab-df-buttons\">\n",
              "\n",
              "  <div class=\"colab-df-container\">\n",
              "    <button class=\"colab-df-convert\" onclick=\"convertToInteractive('df-e878417b-d281-4237-ac9b-9b6928957fb1')\"\n",
              "            title=\"Convert this dataframe to an interactive table.\"\n",
              "            style=\"display:none;\">\n",
              "\n",
              "  <svg xmlns=\"http://www.w3.org/2000/svg\" height=\"24px\" viewBox=\"0 -960 960 960\">\n",
              "    <path d=\"M120-120v-720h720v720H120Zm60-500h600v-160H180v160Zm220 220h160v-160H400v160Zm0 220h160v-160H400v160ZM180-400h160v-160H180v160Zm440 0h160v-160H620v160ZM180-180h160v-160H180v160Zm440 0h160v-160H620v160Z\"/>\n",
              "  </svg>\n",
              "    </button>\n",
              "\n",
              "  <style>\n",
              "    .colab-df-container {\n",
              "      display:flex;\n",
              "      gap: 12px;\n",
              "    }\n",
              "\n",
              "    .colab-df-convert {\n",
              "      background-color: #E8F0FE;\n",
              "      border: none;\n",
              "      border-radius: 50%;\n",
              "      cursor: pointer;\n",
              "      display: none;\n",
              "      fill: #1967D2;\n",
              "      height: 32px;\n",
              "      padding: 0 0 0 0;\n",
              "      width: 32px;\n",
              "    }\n",
              "\n",
              "    .colab-df-convert:hover {\n",
              "      background-color: #E2EBFA;\n",
              "      box-shadow: 0px 1px 2px rgba(60, 64, 67, 0.3), 0px 1px 3px 1px rgba(60, 64, 67, 0.15);\n",
              "      fill: #174EA6;\n",
              "    }\n",
              "\n",
              "    .colab-df-buttons div {\n",
              "      margin-bottom: 4px;\n",
              "    }\n",
              "\n",
              "    [theme=dark] .colab-df-convert {\n",
              "      background-color: #3B4455;\n",
              "      fill: #D2E3FC;\n",
              "    }\n",
              "\n",
              "    [theme=dark] .colab-df-convert:hover {\n",
              "      background-color: #434B5C;\n",
              "      box-shadow: 0px 1px 3px 1px rgba(0, 0, 0, 0.15);\n",
              "      filter: drop-shadow(0px 1px 2px rgba(0, 0, 0, 0.3));\n",
              "      fill: #FFFFFF;\n",
              "    }\n",
              "  </style>\n",
              "\n",
              "    <script>\n",
              "      const buttonEl =\n",
              "        document.querySelector('#df-e878417b-d281-4237-ac9b-9b6928957fb1 button.colab-df-convert');\n",
              "      buttonEl.style.display =\n",
              "        google.colab.kernel.accessAllowed ? 'block' : 'none';\n",
              "\n",
              "      async function convertToInteractive(key) {\n",
              "        const element = document.querySelector('#df-e878417b-d281-4237-ac9b-9b6928957fb1');\n",
              "        const dataTable =\n",
              "          await google.colab.kernel.invokeFunction('convertToInteractive',\n",
              "                                                    [key], {});\n",
              "        if (!dataTable) return;\n",
              "\n",
              "        const docLinkHtml = 'Like what you see? Visit the ' +\n",
              "          '<a target=\"_blank\" href=https://colab.research.google.com/notebooks/data_table.ipynb>data table notebook</a>'\n",
              "          + ' to learn more about interactive tables.';\n",
              "        element.innerHTML = '';\n",
              "        dataTable['output_type'] = 'display_data';\n",
              "        await google.colab.output.renderOutput(dataTable, element);\n",
              "        const docLink = document.createElement('div');\n",
              "        docLink.innerHTML = docLinkHtml;\n",
              "        element.appendChild(docLink);\n",
              "      }\n",
              "    </script>\n",
              "  </div>\n",
              "\n",
              "\n",
              "<div id=\"df-945b3dc4-d42f-4c38-9116-ecfc5105f891\">\n",
              "  <button class=\"colab-df-quickchart\" onclick=\"quickchart('df-945b3dc4-d42f-4c38-9116-ecfc5105f891')\"\n",
              "            title=\"Suggest charts.\"\n",
              "            style=\"display:none;\">\n",
              "\n",
              "<svg xmlns=\"http://www.w3.org/2000/svg\" height=\"24px\"viewBox=\"0 0 24 24\"\n",
              "     width=\"24px\">\n",
              "    <g>\n",
              "        <path d=\"M19 3H5c-1.1 0-2 .9-2 2v14c0 1.1.9 2 2 2h14c1.1 0 2-.9 2-2V5c0-1.1-.9-2-2-2zM9 17H7v-7h2v7zm4 0h-2V7h2v10zm4 0h-2v-4h2v4z\"/>\n",
              "    </g>\n",
              "</svg>\n",
              "  </button>\n",
              "\n",
              "<style>\n",
              "  .colab-df-quickchart {\n",
              "      --bg-color: #E8F0FE;\n",
              "      --fill-color: #1967D2;\n",
              "      --hover-bg-color: #E2EBFA;\n",
              "      --hover-fill-color: #174EA6;\n",
              "      --disabled-fill-color: #AAA;\n",
              "      --disabled-bg-color: #DDD;\n",
              "  }\n",
              "\n",
              "  [theme=dark] .colab-df-quickchart {\n",
              "      --bg-color: #3B4455;\n",
              "      --fill-color: #D2E3FC;\n",
              "      --hover-bg-color: #434B5C;\n",
              "      --hover-fill-color: #FFFFFF;\n",
              "      --disabled-bg-color: #3B4455;\n",
              "      --disabled-fill-color: #666;\n",
              "  }\n",
              "\n",
              "  .colab-df-quickchart {\n",
              "    background-color: var(--bg-color);\n",
              "    border: none;\n",
              "    border-radius: 50%;\n",
              "    cursor: pointer;\n",
              "    display: none;\n",
              "    fill: var(--fill-color);\n",
              "    height: 32px;\n",
              "    padding: 0;\n",
              "    width: 32px;\n",
              "  }\n",
              "\n",
              "  .colab-df-quickchart:hover {\n",
              "    background-color: var(--hover-bg-color);\n",
              "    box-shadow: 0 1px 2px rgba(60, 64, 67, 0.3), 0 1px 3px 1px rgba(60, 64, 67, 0.15);\n",
              "    fill: var(--button-hover-fill-color);\n",
              "  }\n",
              "\n",
              "  .colab-df-quickchart-complete:disabled,\n",
              "  .colab-df-quickchart-complete:disabled:hover {\n",
              "    background-color: var(--disabled-bg-color);\n",
              "    fill: var(--disabled-fill-color);\n",
              "    box-shadow: none;\n",
              "  }\n",
              "\n",
              "  .colab-df-spinner {\n",
              "    border: 2px solid var(--fill-color);\n",
              "    border-color: transparent;\n",
              "    border-bottom-color: var(--fill-color);\n",
              "    animation:\n",
              "      spin 1s steps(1) infinite;\n",
              "  }\n",
              "\n",
              "  @keyframes spin {\n",
              "    0% {\n",
              "      border-color: transparent;\n",
              "      border-bottom-color: var(--fill-color);\n",
              "      border-left-color: var(--fill-color);\n",
              "    }\n",
              "    20% {\n",
              "      border-color: transparent;\n",
              "      border-left-color: var(--fill-color);\n",
              "      border-top-color: var(--fill-color);\n",
              "    }\n",
              "    30% {\n",
              "      border-color: transparent;\n",
              "      border-left-color: var(--fill-color);\n",
              "      border-top-color: var(--fill-color);\n",
              "      border-right-color: var(--fill-color);\n",
              "    }\n",
              "    40% {\n",
              "      border-color: transparent;\n",
              "      border-right-color: var(--fill-color);\n",
              "      border-top-color: var(--fill-color);\n",
              "    }\n",
              "    60% {\n",
              "      border-color: transparent;\n",
              "      border-right-color: var(--fill-color);\n",
              "    }\n",
              "    80% {\n",
              "      border-color: transparent;\n",
              "      border-right-color: var(--fill-color);\n",
              "      border-bottom-color: var(--fill-color);\n",
              "    }\n",
              "    90% {\n",
              "      border-color: transparent;\n",
              "      border-bottom-color: var(--fill-color);\n",
              "    }\n",
              "  }\n",
              "</style>\n",
              "\n",
              "  <script>\n",
              "    async function quickchart(key) {\n",
              "      const quickchartButtonEl =\n",
              "        document.querySelector('#' + key + ' button');\n",
              "      quickchartButtonEl.disabled = true;  // To prevent multiple clicks.\n",
              "      quickchartButtonEl.classList.add('colab-df-spinner');\n",
              "      try {\n",
              "        const charts = await google.colab.kernel.invokeFunction(\n",
              "            'suggestCharts', [key], {});\n",
              "      } catch (error) {\n",
              "        console.error('Error during call to suggestCharts:', error);\n",
              "      }\n",
              "      quickchartButtonEl.classList.remove('colab-df-spinner');\n",
              "      quickchartButtonEl.classList.add('colab-df-quickchart-complete');\n",
              "    }\n",
              "    (() => {\n",
              "      let quickchartButtonEl =\n",
              "        document.querySelector('#df-945b3dc4-d42f-4c38-9116-ecfc5105f891 button');\n",
              "      quickchartButtonEl.style.display =\n",
              "        google.colab.kernel.accessAllowed ? 'block' : 'none';\n",
              "    })();\n",
              "  </script>\n",
              "</div>\n",
              "    </div>\n",
              "  </div>\n"
            ],
            "text/plain": [
              "             0          1          2         3         4         5   \\\n",
              "0      4.184481   6.701834   3.972791 -7.931931  1.204368  2.685703   \n",
              "1      2.687125   3.981629   0.309389 -8.787266  7.461270  0.470253   \n",
              "2      1.655074  15.131238   1.931798  1.060965  2.790545 -1.830201   \n",
              "3      1.686809  -7.277621   1.869668 -6.925907  1.518951  1.332903   \n",
              "4      6.699373  -5.107465  10.940938 -0.297832  5.955676 -6.428809   \n",
              "...         ...        ...        ...       ...       ...       ...   \n",
              "2518   8.188425  -2.353043  -7.379499  5.112264  0.793266 -5.841407   \n",
              "2519   2.321168 -12.688175  -5.656679  3.607345 -1.658469  2.368440   \n",
              "2520  20.884460  -7.830102 -13.576159  1.274053  3.416450 -4.702599   \n",
              "2521  17.134479  -1.576349  -8.396241  0.656804 -1.098776  8.493051   \n",
              "2522  14.848665  -1.964930  -9.340385  0.854058  1.841440  4.056128   \n",
              "\n",
              "             6         7         8         9   ...        42        43  \\\n",
              "0      0.415779  1.454484 -1.409162  1.224703  ... -0.182192  0.517955   \n",
              "1     -2.620183  0.162801 -2.658939 -4.703126  ... -2.773765 -3.269509   \n",
              "2      2.340536  2.659475 -4.869401  2.860517  ...  0.372916  1.019819   \n",
              "3      1.977778 -1.560953 -7.758262 -2.962261  ... -0.335822  0.688395   \n",
              "4     13.952084 -7.900451  7.820023 -0.937135  ... -0.903090  1.386645   \n",
              "...         ...       ...       ...       ...  ...       ...       ...   \n",
              "2518  -0.420128  1.980038  1.566482  3.444219  ... -0.169433  0.666308   \n",
              "2519   4.468992  0.489902 -3.856958 -4.770536  ...  0.639255 -1.656219   \n",
              "2520   6.242463 -1.094841  3.503904 -0.026399  ...  0.271118  0.657674   \n",
              "2521   0.137253 -6.371421  5.251926 -1.614952  ...  0.265390 -2.079084   \n",
              "2522   1.960280 -1.740172  6.059151 -0.734059  ... -1.687958 -2.743121   \n",
              "\n",
              "            44        45        46        47        48        49        50  \\\n",
              "0    -0.565866  0.010158  0.896658  0.424820 -1.265472 -0.421306 -0.457377   \n",
              "1    -2.406397 -1.536597  0.965217  1.478966  0.620433  1.175357  0.709777   \n",
              "2    -0.833802  0.225208 -0.421733  1.053584 -0.631845  0.630131  0.693397   \n",
              "3    -0.571124 -0.919215 -1.202824 -0.611707 -0.109249  0.036952  0.247597   \n",
              "4    -0.194164 -1.412748 -1.389199 -0.155710 -1.404926 -3.407124  3.816752   \n",
              "...        ...       ...       ...       ...       ...       ...       ...   \n",
              "2518  0.672032  0.194354  0.109333  1.343855 -0.479735 -0.163573  1.135850   \n",
              "2519 -1.509138 -0.995929 -1.491969 -0.688649 -0.074657 -1.600442 -0.305098   \n",
              "2520 -0.036272 -2.985154  0.824557  0.977563  1.751332 -2.528457 -1.686138   \n",
              "2521  1.084889 -1.535601  4.326326  0.482047  0.921905 -0.154744  0.842960   \n",
              "2522 -1.624276  0.632044  2.296719  1.328411  0.987704 -2.301821 -0.987834   \n",
              "\n",
              "            51  \n",
              "0    -0.215192  \n",
              "1     0.378671  \n",
              "2     0.301507  \n",
              "3     1.405690  \n",
              "4    -0.313709  \n",
              "...        ...  \n",
              "2518 -1.823640  \n",
              "2519  0.852326  \n",
              "2520  2.415674  \n",
              "2521 -1.458098  \n",
              "2522 -1.536689  \n",
              "\n",
              "[2523 rows x 52 columns]"
            ]
          },
          "execution_count": 21,
          "metadata": {},
          "output_type": "execute_result"
        }
      ],
      "source": [
        "pca_transformed_embeddings_df = pd.DataFrame(pca_transformed_embeddings)\n",
        "pca_transformed_embeddings_df"
      ]
    },
    {
      "cell_type": "code",
      "execution_count": null,
      "metadata": {
        "id": "hpXc7pGKtNMf"
      },
      "outputs": [],
      "source": [
        "X = pca_transformed_embeddings_df\n",
        "y = embeddings_df['senolytic']\n"
      ]
    },
    {
      "cell_type": "code",
      "execution_count": null,
      "metadata": {
        "id": "uUkU_MVltX6F"
      },
      "outputs": [],
      "source": [
        "# Shuffle dataset\n",
        "from sklearn.utils import shuffle\n",
        "X, y = shuffle(X, y)"
      ]
    },
    {
      "cell_type": "code",
      "execution_count": null,
      "metadata": {
        "colab": {
          "base_uri": "https://localhost:8080/"
        },
        "id": "NCt5kXfguDb1",
        "outputId": "2848734a-a711-4baa-d528-6e5ed4795d14"
      },
      "outputs": [
        {
          "data": {
            "text/plain": [
              "1356    0\n",
              "1118    0\n",
              "1352    0\n",
              "1176    0\n",
              "489     0\n",
              "       ..\n",
              "1862    0\n",
              "124     0\n",
              "2331    0\n",
              "890     0\n",
              "264     0\n",
              "Name: senolytic, Length: 2523, dtype: int64"
            ]
          },
          "execution_count": 24,
          "metadata": {},
          "output_type": "execute_result"
        }
      ],
      "source": [
        "y"
      ]
    },
    {
      "cell_type": "markdown",
      "metadata": {
        "id": "wwbNeG91tj7D"
      },
      "source": [
        "## Classifiers"
      ]
    },
    {
      "cell_type": "markdown",
      "source": [
        "### Random Forest"
      ],
      "metadata": {
        "id": "ShkYX_O5HWyA"
      }
    },
    {
      "cell_type": "code",
      "execution_count": null,
      "metadata": {
        "colab": {
          "base_uri": "https://localhost:8080/",
          "height": 175
        },
        "id": "F0jblkPGtZ_6",
        "outputId": "f7592775-bb3b-4313-f813-355607f7796d"
      },
      "outputs": [
        {
          "data": {
            "text/html": [
              "\n",
              "  <div id=\"df-1dec9854-4e79-4bec-b475-6fba98801ba4\" class=\"colab-df-container\">\n",
              "    <div>\n",
              "<style scoped>\n",
              "    .dataframe tbody tr th:only-of-type {\n",
              "        vertical-align: middle;\n",
              "    }\n",
              "\n",
              "    .dataframe tbody tr th {\n",
              "        vertical-align: top;\n",
              "    }\n",
              "\n",
              "    .dataframe thead th {\n",
              "        text-align: right;\n",
              "    }\n",
              "</style>\n",
              "<table border=\"1\" class=\"dataframe\">\n",
              "  <thead>\n",
              "    <tr style=\"text-align: right;\">\n",
              "      <th></th>\n",
              "      <th>fit_time</th>\n",
              "      <th>score_time</th>\n",
              "      <th>test_accuracy</th>\n",
              "      <th>train_accuracy</th>\n",
              "      <th>test_precision</th>\n",
              "      <th>train_precision</th>\n",
              "      <th>test_recall</th>\n",
              "      <th>train_recall</th>\n",
              "      <th>test_f1</th>\n",
              "      <th>train_f1</th>\n",
              "    </tr>\n",
              "  </thead>\n",
              "  <tbody>\n",
              "    <tr>\n",
              "      <th>0</th>\n",
              "      <td>1.050575</td>\n",
              "      <td>0.030285</td>\n",
              "      <td>0.980983</td>\n",
              "      <td>0.999471</td>\n",
              "      <td>1.0</td>\n",
              "      <td>1.000000</td>\n",
              "      <td>0.142857</td>\n",
              "      <td>0.977273</td>\n",
              "      <td>0.250</td>\n",
              "      <td>0.988506</td>\n",
              "    </tr>\n",
              "    <tr>\n",
              "      <th>1</th>\n",
              "      <td>1.349802</td>\n",
              "      <td>0.083121</td>\n",
              "      <td>0.977813</td>\n",
              "      <td>0.996829</td>\n",
              "      <td>1.0</td>\n",
              "      <td>0.974359</td>\n",
              "      <td>0.066667</td>\n",
              "      <td>0.883721</td>\n",
              "      <td>0.125</td>\n",
              "      <td>0.926829</td>\n",
              "    </tr>\n",
              "    <tr>\n",
              "      <th>2</th>\n",
              "      <td>0.789545</td>\n",
              "      <td>0.017183</td>\n",
              "      <td>0.977813</td>\n",
              "      <td>0.998414</td>\n",
              "      <td>1.0</td>\n",
              "      <td>1.000000</td>\n",
              "      <td>0.066667</td>\n",
              "      <td>0.930233</td>\n",
              "      <td>0.125</td>\n",
              "      <td>0.963855</td>\n",
              "    </tr>\n",
              "    <tr>\n",
              "      <th>3</th>\n",
              "      <td>0.673245</td>\n",
              "      <td>0.017466</td>\n",
              "      <td>0.976190</td>\n",
              "      <td>0.996830</td>\n",
              "      <td>0.0</td>\n",
              "      <td>0.931818</td>\n",
              "      <td>0.000000</td>\n",
              "      <td>0.931818</td>\n",
              "      <td>0.000</td>\n",
              "      <td>0.931818</td>\n",
              "    </tr>\n",
              "  </tbody>\n",
              "</table>\n",
              "</div>\n",
              "    <div class=\"colab-df-buttons\">\n",
              "\n",
              "  <div class=\"colab-df-container\">\n",
              "    <button class=\"colab-df-convert\" onclick=\"convertToInteractive('df-1dec9854-4e79-4bec-b475-6fba98801ba4')\"\n",
              "            title=\"Convert this dataframe to an interactive table.\"\n",
              "            style=\"display:none;\">\n",
              "\n",
              "  <svg xmlns=\"http://www.w3.org/2000/svg\" height=\"24px\" viewBox=\"0 -960 960 960\">\n",
              "    <path d=\"M120-120v-720h720v720H120Zm60-500h600v-160H180v160Zm220 220h160v-160H400v160Zm0 220h160v-160H400v160ZM180-400h160v-160H180v160Zm440 0h160v-160H620v160ZM180-180h160v-160H180v160Zm440 0h160v-160H620v160Z\"/>\n",
              "  </svg>\n",
              "    </button>\n",
              "\n",
              "  <style>\n",
              "    .colab-df-container {\n",
              "      display:flex;\n",
              "      gap: 12px;\n",
              "    }\n",
              "\n",
              "    .colab-df-convert {\n",
              "      background-color: #E8F0FE;\n",
              "      border: none;\n",
              "      border-radius: 50%;\n",
              "      cursor: pointer;\n",
              "      display: none;\n",
              "      fill: #1967D2;\n",
              "      height: 32px;\n",
              "      padding: 0 0 0 0;\n",
              "      width: 32px;\n",
              "    }\n",
              "\n",
              "    .colab-df-convert:hover {\n",
              "      background-color: #E2EBFA;\n",
              "      box-shadow: 0px 1px 2px rgba(60, 64, 67, 0.3), 0px 1px 3px 1px rgba(60, 64, 67, 0.15);\n",
              "      fill: #174EA6;\n",
              "    }\n",
              "\n",
              "    .colab-df-buttons div {\n",
              "      margin-bottom: 4px;\n",
              "    }\n",
              "\n",
              "    [theme=dark] .colab-df-convert {\n",
              "      background-color: #3B4455;\n",
              "      fill: #D2E3FC;\n",
              "    }\n",
              "\n",
              "    [theme=dark] .colab-df-convert:hover {\n",
              "      background-color: #434B5C;\n",
              "      box-shadow: 0px 1px 3px 1px rgba(0, 0, 0, 0.15);\n",
              "      filter: drop-shadow(0px 1px 2px rgba(0, 0, 0, 0.3));\n",
              "      fill: #FFFFFF;\n",
              "    }\n",
              "  </style>\n",
              "\n",
              "    <script>\n",
              "      const buttonEl =\n",
              "        document.querySelector('#df-1dec9854-4e79-4bec-b475-6fba98801ba4 button.colab-df-convert');\n",
              "      buttonEl.style.display =\n",
              "        google.colab.kernel.accessAllowed ? 'block' : 'none';\n",
              "\n",
              "      async function convertToInteractive(key) {\n",
              "        const element = document.querySelector('#df-1dec9854-4e79-4bec-b475-6fba98801ba4');\n",
              "        const dataTable =\n",
              "          await google.colab.kernel.invokeFunction('convertToInteractive',\n",
              "                                                    [key], {});\n",
              "        if (!dataTable) return;\n",
              "\n",
              "        const docLinkHtml = 'Like what you see? Visit the ' +\n",
              "          '<a target=\"_blank\" href=https://colab.research.google.com/notebooks/data_table.ipynb>data table notebook</a>'\n",
              "          + ' to learn more about interactive tables.';\n",
              "        element.innerHTML = '';\n",
              "        dataTable['output_type'] = 'display_data';\n",
              "        await google.colab.output.renderOutput(dataTable, element);\n",
              "        const docLink = document.createElement('div');\n",
              "        docLink.innerHTML = docLinkHtml;\n",
              "        element.appendChild(docLink);\n",
              "      }\n",
              "    </script>\n",
              "  </div>\n",
              "\n",
              "\n",
              "<div id=\"df-9dd57a51-594f-407f-aafb-3d765cb9ba77\">\n",
              "  <button class=\"colab-df-quickchart\" onclick=\"quickchart('df-9dd57a51-594f-407f-aafb-3d765cb9ba77')\"\n",
              "            title=\"Suggest charts.\"\n",
              "            style=\"display:none;\">\n",
              "\n",
              "<svg xmlns=\"http://www.w3.org/2000/svg\" height=\"24px\"viewBox=\"0 0 24 24\"\n",
              "     width=\"24px\">\n",
              "    <g>\n",
              "        <path d=\"M19 3H5c-1.1 0-2 .9-2 2v14c0 1.1.9 2 2 2h14c1.1 0 2-.9 2-2V5c0-1.1-.9-2-2-2zM9 17H7v-7h2v7zm4 0h-2V7h2v10zm4 0h-2v-4h2v4z\"/>\n",
              "    </g>\n",
              "</svg>\n",
              "  </button>\n",
              "\n",
              "<style>\n",
              "  .colab-df-quickchart {\n",
              "      --bg-color: #E8F0FE;\n",
              "      --fill-color: #1967D2;\n",
              "      --hover-bg-color: #E2EBFA;\n",
              "      --hover-fill-color: #174EA6;\n",
              "      --disabled-fill-color: #AAA;\n",
              "      --disabled-bg-color: #DDD;\n",
              "  }\n",
              "\n",
              "  [theme=dark] .colab-df-quickchart {\n",
              "      --bg-color: #3B4455;\n",
              "      --fill-color: #D2E3FC;\n",
              "      --hover-bg-color: #434B5C;\n",
              "      --hover-fill-color: #FFFFFF;\n",
              "      --disabled-bg-color: #3B4455;\n",
              "      --disabled-fill-color: #666;\n",
              "  }\n",
              "\n",
              "  .colab-df-quickchart {\n",
              "    background-color: var(--bg-color);\n",
              "    border: none;\n",
              "    border-radius: 50%;\n",
              "    cursor: pointer;\n",
              "    display: none;\n",
              "    fill: var(--fill-color);\n",
              "    height: 32px;\n",
              "    padding: 0;\n",
              "    width: 32px;\n",
              "  }\n",
              "\n",
              "  .colab-df-quickchart:hover {\n",
              "    background-color: var(--hover-bg-color);\n",
              "    box-shadow: 0 1px 2px rgba(60, 64, 67, 0.3), 0 1px 3px 1px rgba(60, 64, 67, 0.15);\n",
              "    fill: var(--button-hover-fill-color);\n",
              "  }\n",
              "\n",
              "  .colab-df-quickchart-complete:disabled,\n",
              "  .colab-df-quickchart-complete:disabled:hover {\n",
              "    background-color: var(--disabled-bg-color);\n",
              "    fill: var(--disabled-fill-color);\n",
              "    box-shadow: none;\n",
              "  }\n",
              "\n",
              "  .colab-df-spinner {\n",
              "    border: 2px solid var(--fill-color);\n",
              "    border-color: transparent;\n",
              "    border-bottom-color: var(--fill-color);\n",
              "    animation:\n",
              "      spin 1s steps(1) infinite;\n",
              "  }\n",
              "\n",
              "  @keyframes spin {\n",
              "    0% {\n",
              "      border-color: transparent;\n",
              "      border-bottom-color: var(--fill-color);\n",
              "      border-left-color: var(--fill-color);\n",
              "    }\n",
              "    20% {\n",
              "      border-color: transparent;\n",
              "      border-left-color: var(--fill-color);\n",
              "      border-top-color: var(--fill-color);\n",
              "    }\n",
              "    30% {\n",
              "      border-color: transparent;\n",
              "      border-left-color: var(--fill-color);\n",
              "      border-top-color: var(--fill-color);\n",
              "      border-right-color: var(--fill-color);\n",
              "    }\n",
              "    40% {\n",
              "      border-color: transparent;\n",
              "      border-right-color: var(--fill-color);\n",
              "      border-top-color: var(--fill-color);\n",
              "    }\n",
              "    60% {\n",
              "      border-color: transparent;\n",
              "      border-right-color: var(--fill-color);\n",
              "    }\n",
              "    80% {\n",
              "      border-color: transparent;\n",
              "      border-right-color: var(--fill-color);\n",
              "      border-bottom-color: var(--fill-color);\n",
              "    }\n",
              "    90% {\n",
              "      border-color: transparent;\n",
              "      border-bottom-color: var(--fill-color);\n",
              "    }\n",
              "  }\n",
              "</style>\n",
              "\n",
              "  <script>\n",
              "    async function quickchart(key) {\n",
              "      const quickchartButtonEl =\n",
              "        document.querySelector('#' + key + ' button');\n",
              "      quickchartButtonEl.disabled = true;  // To prevent multiple clicks.\n",
              "      quickchartButtonEl.classList.add('colab-df-spinner');\n",
              "      try {\n",
              "        const charts = await google.colab.kernel.invokeFunction(\n",
              "            'suggestCharts', [key], {});\n",
              "      } catch (error) {\n",
              "        console.error('Error during call to suggestCharts:', error);\n",
              "      }\n",
              "      quickchartButtonEl.classList.remove('colab-df-spinner');\n",
              "      quickchartButtonEl.classList.add('colab-df-quickchart-complete');\n",
              "    }\n",
              "    (() => {\n",
              "      let quickchartButtonEl =\n",
              "        document.querySelector('#df-9dd57a51-594f-407f-aafb-3d765cb9ba77 button');\n",
              "      quickchartButtonEl.style.display =\n",
              "        google.colab.kernel.accessAllowed ? 'block' : 'none';\n",
              "    })();\n",
              "  </script>\n",
              "</div>\n",
              "    </div>\n",
              "  </div>\n"
            ],
            "text/plain": [
              "   fit_time  score_time  test_accuracy  train_accuracy  test_precision  \\\n",
              "0  1.050575    0.030285       0.980983        0.999471             1.0   \n",
              "1  1.349802    0.083121       0.977813        0.996829             1.0   \n",
              "2  0.789545    0.017183       0.977813        0.998414             1.0   \n",
              "3  0.673245    0.017466       0.976190        0.996830             0.0   \n",
              "\n",
              "   train_precision  test_recall  train_recall  test_f1  train_f1  \n",
              "0         1.000000     0.142857      0.977273    0.250  0.988506  \n",
              "1         0.974359     0.066667      0.883721    0.125  0.926829  \n",
              "2         1.000000     0.066667      0.930233    0.125  0.963855  \n",
              "3         0.931818     0.000000      0.931818    0.000  0.931818  "
            ]
          },
          "execution_count": 36,
          "metadata": {},
          "output_type": "execute_result"
        }
      ],
      "source": [
        "# Random forest https://scikit-learn.org/stable/modules/generated/sklearn.ensemble.RandomForestClassifier.html\n",
        "# CPSC 330W2 UBC Homework 5: Evaluation metrics\n",
        "from sklearn.ensemble import RandomForestClassifier\n",
        "\n",
        "from sklearn.metrics import (\n",
        "    accuracy_score,\n",
        "    classification_report,\n",
        "    confusion_matrix,\n",
        "    f1_score,\n",
        "    make_scorer,\n",
        "    precision_score,\n",
        "    recall_score,\n",
        ")\n",
        "from sklearn.model_selection import (\n",
        "    GridSearchCV,\n",
        "    RandomizedSearchCV,\n",
        "    cross_val_score,\n",
        "    cross_validate,\n",
        "    train_test_split,\n",
        "    cross_val_predict,\n",
        ")\n",
        "\n",
        "rf = RandomForestClassifier(max_depth=5, random_state=42, class_weight=\"balanced\")\n",
        "\n",
        "# cv = 4 should give stratified\n",
        "scores_rf = cross_validate(rf, X, y, scoring = [\"accuracy\", \"precision\", \"recall\", \"f1\"], return_train_score=True, cv=4)\n",
        "pd.DataFrame(scores_rf)\n",
        "\n"
      ]
    },
    {
      "cell_type": "code",
      "execution_count": null,
      "metadata": {
        "colab": {
          "base_uri": "https://localhost:8080/"
        },
        "id": "kQZfM0oDwvVd",
        "outputId": "392be6d0-91e7-4feb-8e41-dfcfddbd7ebf"
      },
      "outputs": [
        {
          "data": {
            "text/plain": [
              "fit_time           0.965792\n",
              "score_time         0.037014\n",
              "test_accuracy      0.978200\n",
              "train_accuracy     0.997886\n",
              "test_precision     0.750000\n",
              "train_precision    0.976544\n",
              "test_recall        0.069048\n",
              "train_recall       0.930761\n",
              "test_f1            0.125000\n",
              "train_f1           0.952752\n",
              "dtype: float64"
            ]
          },
          "execution_count": 37,
          "metadata": {},
          "output_type": "execute_result"
        }
      ],
      "source": [
        "pd.DataFrame(scores_rf).mean()"
      ]
    },
    {
      "cell_type": "code",
      "execution_count": null,
      "metadata": {
        "colab": {
          "base_uri": "https://localhost:8080/"
        },
        "id": "JsgiOB9ytCYB",
        "outputId": "31aa9ca9-17ac-42d7-8f85-c74e038de0c7"
      },
      "outputs": [
        {
          "output_type": "stream",
          "name": "stdout",
          "text": [
            "Fitting 4 folds for each of 10 candidates, totalling 40 fits\n"
          ]
        },
        {
          "output_type": "execute_result",
          "data": {
            "text/plain": [
              "{'randomforestclassifier__n_estimators': 1000,\n",
              " 'randomforestclassifier__min_samples_split': 5,\n",
              " 'randomforestclassifier__min_samples_leaf': 10,\n",
              " 'randomforestclassifier__max_features': None,\n",
              " 'randomforestclassifier__max_depth': 10,\n",
              " 'randomforestclassifier__criterion': 'log_loss'}"
            ]
          },
          "metadata": {},
          "execution_count": 79
        }
      ],
      "source": [
        "# https://towardsdatascience.com/hyperparameter-tuning-the-random-forest-in-python-using-scikit-learn-28d2aa77dd74\n",
        "# https://scikit-learn.org/stable/modules/generated/sklearn.model_selection.RandomizedSearchCV.html\n",
        "# https://scikit-learn.org/stable/modules/generated/sklearn.model_selection.StratifiedKFold.html\n",
        "# What optimisation scoring? Accuracy and precision both give just 0 for every test example but don't want too many false positives\n",
        "from sklearn.model_selection import StratifiedKFold\n",
        "from sklearn.pipeline import make_pipeline\n",
        "\n",
        "\n",
        "cross_val = StratifiedKFold(n_splits=4)\n",
        "\n",
        "pipe_rf = make_pipeline(RandomForestClassifier(random_state=42, class_weight=\"balanced\"))\n",
        "\n",
        "param_dist = {\n",
        "    \"randomforestclassifier__n_estimators\": [1, 10, 50, 100, 1000],\n",
        "    \"randomforestclassifier__criterion\": ['gini', 'entropy', 'log_loss'],\n",
        "    \"randomforestclassifier__max_depth\": [None, 1, 10, 100],\n",
        "    \"randomforestclassifier__max_features\": [None, \"log2\", \"sqrt\"],\n",
        "    \"randomforestclassifier__min_samples_split\": [2, 5, 10],\n",
        "    \"randomforestclassifier__min_samples_leaf\": [1, 5, 10],\n",
        "}\n",
        "random_search = RandomizedSearchCV(\n",
        "    pipe_rf, param_dist, n_iter=10, verbose=1, n_jobs=-1, random_state=123, scoring = 'f1', cv=cross_val\n",
        ")\n",
        "random_search.fit(X, y)\n",
        "random_search.best_params_"
      ]
    },
    {
      "cell_type": "code",
      "source": [
        "# Remove classifier name from best_param dictionary\n",
        "# https://www.geeksforgeeks.org/python-ways-to-change-keys-in-dictionary/\n",
        "best_params_rf = {}\n",
        "for key, value in random_search.best_params_.items():\n",
        "  #print(len(\"randomforestclassifier__\"))\n",
        "  best_params_rf[key[len(\"randomforestclassifier__\"):]] = value\n",
        "\n",
        "best_params_rf"
      ],
      "metadata": {
        "colab": {
          "base_uri": "https://localhost:8080/"
        },
        "id": "NRqPCtFw4Ms_",
        "outputId": "8c6739bc-a9c0-4275-99c3-3eef215a5697"
      },
      "execution_count": null,
      "outputs": [
        {
          "output_type": "execute_result",
          "data": {
            "text/plain": [
              "{'n_estimators': 1000,\n",
              " 'min_samples_split': 5,\n",
              " 'min_samples_leaf': 10,\n",
              " 'max_features': None,\n",
              " 'max_depth': 10,\n",
              " 'criterion': 'log_loss'}"
            ]
          },
          "metadata": {},
          "execution_count": 102
        }
      ]
    },
    {
      "cell_type": "code",
      "source": [
        "from sklearn.model_selection import train_test_split\n",
        "\n",
        "X_train, X_test, y_train, y_test = train_test_split(X, y, test_size=0.2, random_state=42, stratify=y)"
      ],
      "metadata": {
        "id": "D6hH532E2rg0"
      },
      "execution_count": null,
      "outputs": []
    },
    {
      "cell_type": "code",
      "source": [
        "# Retrain model\n",
        "# https://medium.com/analytics-vidhya/optimize-hyperparameters-with-gridsearch-d351b0fd339d\n",
        "\n",
        "rf_best = RandomForestClassifier(random_state=42, class_weight=\"balanced\", **best_params_rf)\n",
        "\n",
        "rf_best.fit(X_train, y_train)\n",
        "y_pred = rf_best.predict(X_test)\n",
        "\n",
        "print(\"Accuracy:\", accuracy_score(y_test, y_pred))\n",
        "print(\"Precision:\", precision_score(y_test, y_pred))\n",
        "print(\"Recall:\", recall_score(y_test, y_pred))\n",
        "print(\"F1:\", f1_score(y_test, y_pred))\n",
        "\n",
        "\n",
        "print(\"\\n\")\n",
        "cm = confusion_matrix(y_test, y_pred)\n",
        "\n",
        "disp = ConfusionMatrixDisplay(confusion_matrix=cm)\n",
        "\n",
        "\n",
        "disp.plot()\n",
        "\n",
        "plt.show()\n",
        "\n",
        "from sklearn.metrics import PrecisionRecallDisplay\n",
        "display = PrecisionRecallDisplay.from_estimator(\n",
        "    rf_best, X_test, y_test, name=\"Random Forest\",\n",
        ")\n",
        "_ = display.ax_.set_title(\"2-class Precision-Recall curve\")\n",
        "\n"
      ],
      "metadata": {
        "colab": {
          "base_uri": "https://localhost:8080/",
          "height": 1000
        },
        "id": "SgUrtF0D1rkL",
        "outputId": "7c1b8dbf-22d3-4453-df97-0b97b12f1896"
      },
      "execution_count": null,
      "outputs": [
        {
          "output_type": "stream",
          "name": "stdout",
          "text": [
            "Accuracy: 0.9762376237623762\n",
            "Precision: 0.0\n",
            "Recall: 0.0\n",
            "F1: 0.0\n",
            "\n",
            "\n"
          ]
        },
        {
          "output_type": "stream",
          "name": "stderr",
          "text": [
            "/usr/local/lib/python3.10/dist-packages/sklearn/metrics/_classification.py:1344: UndefinedMetricWarning: Precision is ill-defined and being set to 0.0 due to no predicted samples. Use `zero_division` parameter to control this behavior.\n",
            "  _warn_prf(average, modifier, msg_start, len(result))\n"
          ]
        },
        {
          "output_type": "display_data",
          "data": {
            "text/plain": [
              "<Figure size 640x480 with 2 Axes>"
            ],
            "image/png": "[encoded data removed]"
          },
          "metadata": {}
        },
        {
          "output_type": "display_data",
          "data": {
            "text/plain": [
              "<Figure size 640x480 with 1 Axes>"
            ],
            "image/png": "[encoded data removed]"
          },
          "metadata": {}
        }
      ]
    },
    {
      "cell_type": "code",
      "execution_count": null,
      "metadata": {
        "colab": {
          "base_uri": "https://localhost:8080/"
        },
        "id": "2e-r6ANloRTU",
        "outputId": "4c6aea2e-cbde-4466-afd2-14340331c8fa"
      },
      "outputs": [
        {
          "name": "stdout",
          "output_type": "stream",
          "text": [
            "Senolytics 2.3% of the dataset\n"
          ]
        }
      ],
      "source": [
        "# Dataset imbalance\n",
        "print(\"Senolytics \" + str(round(sum(y)/len(X)*100, 2)) + \"% of the dataset\")"
      ]
    },
    {
      "cell_type": "markdown",
      "source": [
        "### KNN"
      ],
      "metadata": {
        "id": "4s5PqA5hHeaV"
      }
    },
    {
      "cell_type": "code",
      "execution_count": null,
      "metadata": {
        "colab": {
          "base_uri": "https://localhost:8080/"
        },
        "id": "6Sr9uaBToyC_",
        "outputId": "eb0475e9-039f-4792-da4b-9992c53b9fd9"
      },
      "outputs": [
        {
          "output_type": "stream",
          "name": "stdout",
          "text": [
            "Fitting 4 folds for each of 10 candidates, totalling 40 fits\n"
          ]
        },
        {
          "output_type": "execute_result",
          "data": {
            "text/plain": [
              "{'kneighborsclassifier__weights': 'distance',\n",
              " 'kneighborsclassifier__n_neighbors': 5,\n",
              " 'kneighborsclassifier__algorithm': 'brute'}"
            ]
          },
          "metadata": {},
          "execution_count": 87
        }
      ],
      "source": [
        "# KNN https://scikit-learn.org/stable/modules/generated/sklearn.neighbors.KNeighborsClassifier.html#sklearn.neighbors.KNeighborsClassifier\n",
        "from sklearn.neighbors import KNeighborsClassifier\n",
        "\n",
        "\n",
        "cross_val = StratifiedKFold(n_splits=4)\n",
        "\n",
        "pipe_knn = make_pipeline(KNeighborsClassifier())\n",
        "\n",
        "param_dist = {\n",
        "    \"kneighborsclassifier__n_neighbors\": [2, 5, 10],\n",
        "    \"kneighborsclassifier__algorithm\": ['auto', 'ball_tree', 'kd_tree', 'brute'],\n",
        "    \"kneighborsclassifier__weights\": ['uniform', 'distance'],\n",
        "}\n",
        "\n",
        "random_search_knn = RandomizedSearchCV(\n",
        "    pipe_knn, param_dist, n_iter=10, verbose=1, n_jobs=-1, random_state=123, scoring = 'f1', cv=cross_val\n",
        ")\n",
        "random_search_knn.fit(X, y)\n",
        "random_search_knn.best_params_"
      ]
    },
    {
      "cell_type": "code",
      "source": [
        "# Remove classifier name from best_param dictionary\n",
        "# https://www.geeksforgeeks.org/python-ways-to-change-keys-in-dictionary/\n",
        "best_params_knn = {}\n",
        "for key, value in random_search_knn.best_params_.items():\n",
        "  #print(len(\"randomforestclassifier__\"))\n",
        "  best_params_knn[key[len(\"kneighborsclassifier__\"):]] = value\n",
        "\n",
        "best_params_knn"
      ],
      "metadata": {
        "colab": {
          "base_uri": "https://localhost:8080/"
        },
        "id": "GlTwwVGVJO8N",
        "outputId": "b60cc06b-40b1-4b33-d6dd-dd4f7f9907d5"
      },
      "execution_count": null,
      "outputs": [
        {
          "output_type": "execute_result",
          "data": {
            "text/plain": [
              "{'weights': 'distance', 'n_neighbors': 5, 'algorithm': 'brute'}"
            ]
          },
          "metadata": {},
          "execution_count": 101
        }
      ]
    },
    {
      "cell_type": "code",
      "source": [
        "#https://scikit-learn.org/stable/auto_examples/model_selection/plot_precision_recall.html#sphx-glr-auto-examples-model-selection-plot-precision-recall-py\n",
        "\n",
        "from sklearn.metrics import accuracy_score, f1_score, precision_score, recall_score\n",
        "\n",
        "\n",
        "knn_best = KNeighborsClassifier(**best_params_knn)\n",
        "\n",
        "knn_best.fit(X_train, y_train)\n",
        "y_pred = knn_best.predict(X_test)\n",
        "\n",
        "\n",
        "print(\"Accuracy:\", accuracy_score(y_test, y_pred))\n",
        "print(\"Precision:\", precision_score(y_test, y_pred))\n",
        "print(\"Recall:\", recall_score(y_test, y_pred))\n",
        "print(\"F1:\", f1_score(y_test, y_pred))\n",
        "\n",
        "\n",
        "print(\"\\n\")\n",
        "cm = confusion_matrix(y_test, y_pred)\n",
        "\n",
        "disp = ConfusionMatrixDisplay(confusion_matrix=cm)\n",
        "\n",
        "\n",
        "disp.plot()\n",
        "\n",
        "plt.show()\n",
        "\n",
        "from sklearn.metrics import PrecisionRecallDisplay\n",
        "display = PrecisionRecallDisplay.from_estimator(\n",
        "    knn_best, X_test, y_test, name=\"KNN\",\n",
        ")\n",
        "_ = display.ax_.set_title(\"2-class Precision-Recall curve\")"
      ],
      "metadata": {
        "colab": {
          "base_uri": "https://localhost:8080/",
          "height": 1000
        },
        "id": "56vHOadbJFHQ",
        "outputId": "ae88e0a9-1047-4e03-ad50-264028da61a4"
      },
      "execution_count": null,
      "outputs": [
        {
          "output_type": "stream",
          "name": "stdout",
          "text": [
            "Accuracy: 0.9821782178217822\n",
            "Precision: 0.8\n",
            "Recall: 0.3333333333333333\n",
            "F1: 0.47058823529411764\n",
            "\n",
            "\n"
          ]
        },
        {
          "output_type": "display_data",
          "data": {
            "text/plain": [
              "<Figure size 640x480 with 2 Axes>"
            ],
            "image/png": "[encoded data removed]"
          },
          "metadata": {}
        },
        {
          "output_type": "display_data",
          "data": {
            "text/plain": [
              "<Figure size 640x480 with 1 Axes>"
            ],
            "image/png": "[encoded data removed]"
          },
          "metadata": {}
        }
      ]
    },
    {
      "cell_type": "markdown",
      "source": [
        "### SVC"
      ],
      "metadata": {
        "id": "f_inyxJMJpGr"
      }
    },
    {
      "cell_type": "code",
      "source": [
        "#https://scikit-learn.org/stable/modules/generated/sklearn.svm.SVC.html#sklearn.svm.SVC\n",
        "from sklearn.svm import SVC\n",
        "\n",
        "cross_val = StratifiedKFold(n_splits=4)\n",
        "\n",
        "pipe_svc = make_pipeline(SVC(random_state=42, class_weight='balanced'))\n",
        "\n",
        "param_dist = {\n",
        "    \"svc__C\": [0.001, 0.01, 0.1, 1, 10, 100],\n",
        "    \"svc__gamma\": [0.001, 0.01, 0.1, 1, 10, 100],\n",
        "    \"svc__kernel\": ['linear', 'poly', 'rbf',]\n",
        "}\n",
        "\n",
        "random_search_svc = RandomizedSearchCV(\n",
        "    pipe_svc, param_dist, n_iter=10, verbose=1, n_jobs=-1, random_state=123, scoring = 'f1', cv=cross_val\n",
        ")\n",
        "random_search_svc.fit(X, y)\n",
        "random_search_svc.best_params_"
      ],
      "metadata": {
        "colab": {
          "base_uri": "https://localhost:8080/"
        },
        "id": "F6_KoQBSJr_0",
        "outputId": "381333e6-4b93-4867-c073-b297869694f1"
      },
      "execution_count": null,
      "outputs": [
        {
          "output_type": "stream",
          "name": "stdout",
          "text": [
            "Fitting 4 folds for each of 10 candidates, totalling 40 fits\n"
          ]
        },
        {
          "output_type": "execute_result",
          "data": {
            "text/plain": [
              "{'svc__kernel': 'poly', 'svc__gamma': 1, 'svc__C': 100}"
            ]
          },
          "metadata": {},
          "execution_count": 91
        }
      ]
    },
    {
      "cell_type": "code",
      "source": [
        "# Remove classifier name from best_param dictionary\n",
        "# https://www.geeksforgeeks.org/python-ways-to-change-keys-in-dictionary/\n",
        "best_params_svc= {}\n",
        "for key, value in random_search_svc.best_params_.items():\n",
        "  #print(len(\"randomforestclassifier__\"))\n",
        "  best_params_svc[key[len(\"svc__\"):]] = value\n",
        "\n",
        "best_params_svc"
      ],
      "metadata": {
        "colab": {
          "base_uri": "https://localhost:8080/"
        },
        "id": "7p0499wBLM0t",
        "outputId": "0e9a495f-00ad-4844-b1c7-b4092a8be62c"
      },
      "execution_count": null,
      "outputs": [
        {
          "output_type": "execute_result",
          "data": {
            "text/plain": [
              "{'kernel': 'poly', 'gamma': 1, 'C': 100}"
            ]
          },
          "metadata": {},
          "execution_count": 93
        }
      ]
    },
    {
      "cell_type": "code",
      "source": [
        "svc_best = SVC(random_state=42, class_weight='balanced', **best_params_svc)\n",
        "\n",
        "svc_best.fit(X_train, y_train)\n",
        "y_pred = svc_best.predict(X_test)\n",
        "\n",
        "print(\"Accuracy:\", accuracy_score(y_test, y_pred))\n",
        "print(\"Precision:\", precision_score(y_test, y_pred))\n",
        "print(\"Recall:\", recall_score(y_test, y_pred))\n",
        "print(\"F1:\", f1_score(y_test, y_pred))\n",
        "\n",
        "\n",
        "print(\"\\n\")\n",
        "cm = confusion_matrix(y_test, y_pred)\n",
        "\n",
        "disp = ConfusionMatrixDisplay(confusion_matrix=cm)\n",
        "\n",
        "\n",
        "disp.plot()\n",
        "\n",
        "plt.show()\n",
        "\n",
        "from sklearn.metrics import PrecisionRecallDisplay\n",
        "display = PrecisionRecallDisplay.from_estimator(\n",
        "    svc_best, X_test, y_test, name=\"SVC\",\n",
        ")\n",
        "_ = display.ax_.set_title(\"2-class Precision-Recall curve\")"
      ],
      "metadata": {
        "colab": {
          "base_uri": "https://localhost:8080/",
          "height": 1000
        },
        "id": "G2nWuyIVLQ7C",
        "outputId": "2f318b51-7323-402a-bd28-e2be1d30ad72"
      },
      "execution_count": null,
      "outputs": [
        {
          "output_type": "stream",
          "name": "stdout",
          "text": [
            "Accuracy: 0.9564356435643564\n",
            "Precision: 0.25\n",
            "Recall: 0.4166666666666667\n",
            "F1: 0.3125\n",
            "\n",
            "\n"
          ]
        },
        {
          "output_type": "display_data",
          "data": {
            "text/plain": [
              "<Figure size 640x480 with 2 Axes>"
            ],
            "image/png": "[encoded data removed]"
          },
          "metadata": {}
        },
        {
          "output_type": "display_data",
          "data": {
            "text/plain": [
              "<Figure size 640x480 with 1 Axes>"
            ],
            "image/png": "[encoded data removed]"
          },
          "metadata": {}
        }
      ]
    },
    {
      "cell_type": "markdown",
      "source": [
        "### XGBoost"
      ],
      "metadata": {
        "id": "xyZRKvTaLYzV"
      }
    },
    {
      "cell_type": "code",
      "source": [
        "# Code: Code from paper Senolytics prediction code: https://zenodo.org/record/7870357\n",
        "# https://jayant017.medium.com/hyperparameter-tuning-in-xgboost-using-randomizedsearchcv-88fcb5b58a73\n",
        "import xgboost as xgb\n",
        "\n",
        "cross_val = StratifiedKFold(n_splits=4)\n",
        "\n",
        "pipe_xgb = make_pipeline(xgb.XGBClassifier(random_state=42, class_weight='balanced'))\n",
        "\n",
        "param_dist = {\n",
        "    'xgbclassifier__learning_rate': [0.05, 0.10, 0.3, 0.5, 0.75, 1],\n",
        "    'xgbclassifier__gamma': [0.001, 0.01, 0.1, 1, 10, 100],\n",
        "    'xgbclassifier__max_depth': [3, 5, 10, 20],\n",
        "    'xgbclassifier__min_child_weight': [1, 3, 8, 15],\n",
        "    'xgbclassifier__colsample_bytree': [0.1, 0.5, 0.9]\n",
        "}\n",
        "\n",
        "random_search_xgb = RandomizedSearchCV(\n",
        "    pipe_xgb, param_dist, n_iter=10, verbose=1, n_jobs=-1, random_state=123, scoring = 'f1', cv=cross_val\n",
        ")\n",
        "random_search_xgb.fit(X, y)\n",
        "random_search_xgb.best_params_\n"
      ],
      "metadata": {
        "colab": {
          "base_uri": "https://localhost:8080/"
        },
        "id": "-MBsMP_dLVSy",
        "outputId": "564747a1-ccea-4a6b-fdc8-e272652bc170"
      },
      "execution_count": null,
      "outputs": [
        {
          "output_type": "stream",
          "name": "stdout",
          "text": [
            "Fitting 4 folds for each of 10 candidates, totalling 40 fits\n",
            "[14:22:36] WARNING: ../src/learner.cc:767: \n",
            "Parameters: { \"class_weight\" } are not used.\n",
            "\n"
          ]
        },
        {
          "output_type": "execute_result",
          "data": {
            "text/plain": [
              "{'xgbclassifier__min_child_weight': 3,\n",
              " 'xgbclassifier__max_depth': 20,\n",
              " 'xgbclassifier__learning_rate': 0.3,\n",
              " 'xgbclassifier__gamma': 0.1,\n",
              " 'xgbclassifier__colsample_bytree': 0.9}"
            ]
          },
          "metadata": {},
          "execution_count": 98
        }
      ]
    },
    {
      "cell_type": "code",
      "source": [
        "# Remove classifier name from best_param dictionary\n",
        "# https://www.geeksforgeeks.org/python-ways-to-change-keys-in-dictionary/\n",
        "best_params_xgb= {}\n",
        "for key, value in random_search_xgb.best_params_.items():\n",
        "  #print(len(\"randomforestclassifier__\"))\n",
        "  best_params_xgb[key[len(\"xgbclassifier__\"):]] = value\n",
        "\n",
        "best_params_xgb"
      ],
      "metadata": {
        "colab": {
          "base_uri": "https://localhost:8080/"
        },
        "id": "LoHzGydaRNjM",
        "outputId": "0a01f5f7-1aef-43b2-f589-b688855f5b50"
      },
      "execution_count": null,
      "outputs": [
        {
          "output_type": "execute_result",
          "data": {
            "text/plain": [
              "{'min_child_weight': 3,\n",
              " 'max_depth': 20,\n",
              " 'learning_rate': 0.3,\n",
              " 'gamma': 0.1,\n",
              " 'colsample_bytree': 0.9}"
            ]
          },
          "metadata": {},
          "execution_count": 99
        }
      ]
    },
    {
      "cell_type": "code",
      "source": [
        "xgb_best = xgb.XGBClassifier(random_state=42, class_weight='balanced', **best_params_xgb)\n",
        "\n",
        "xgb_best.fit(X_train, y_train)\n",
        "y_pred = xgb_best.predict(X_test)\n",
        "\n",
        "print(\"Accuracy:\", accuracy_score(y_test, y_pred))\n",
        "print(\"Precision:\", precision_score(y_test, y_pred))\n",
        "print(\"Recall:\", recall_score(y_test, y_pred))\n",
        "print(\"F1:\", f1_score(y_test, y_pred))\n",
        "\n",
        "\n",
        "print(\"\\n\")\n",
        "cm = confusion_matrix(y_test, y_pred)\n",
        "\n",
        "disp = ConfusionMatrixDisplay(confusion_matrix=cm)\n",
        "\n",
        "\n",
        "disp.plot()\n",
        "\n",
        "plt.show()\n",
        "\n",
        "from sklearn.metrics import PrecisionRecallDisplay\n",
        "display = PrecisionRecallDisplay.from_estimator(\n",
        "    xgb_best, X_test, y_test, name=\"XGBoost\",\n",
        ")\n",
        "_ = display.ax_.set_title(\"2-class Precision-Recall curve\")"
      ],
      "metadata": {
        "colab": {
          "base_uri": "https://localhost:8080/",
          "height": 1000
        },
        "id": "IRapyv5kRNpm",
        "outputId": "7656136f-3e34-4af1-e04b-6e4bebef80b7"
      },
      "execution_count": null,
      "outputs": [
        {
          "output_type": "stream",
          "name": "stdout",
          "text": [
            "[14:44:36] WARNING: ../src/learner.cc:767: \n",
            "Parameters: { \"class_weight\" } are not used.\n",
            "\n",
            "Accuracy: 0.9782178217821782\n",
            "Precision: 1.0\n",
            "Recall: 0.08333333333333333\n",
            "F1: 0.15384615384615385\n",
            "\n",
            "\n"
          ]
        },
        {
          "output_type": "display_data",
          "data": {
            "text/plain": [
              "<Figure size 640x480 with 2 Axes>"
            ],
            "image/png": "[encoded data removed]"
          },
          "metadata": {}
        },
        {
          "output_type": "display_data",
          "data": {
            "text/plain": [
              "<Figure size 640x480 with 1 Axes>"
            ],
            "image/png": "[encoded data removed]"
          },
          "metadata": {}
        }
      ]
    },
    {
      "cell_type": "code",
      "source": [],
      "metadata": {
        "id": "pcwi1lsoRrnk"
      },
      "execution_count": null,
      "outputs": []
    }
  ],
  "metadata": {
    "colab": {
      "provenance": [],
      "toc_visible": true,
      "authorship_tag": "ABX9TyPoH+CRnzGpLSSoSZO7s5Z8",
      "include_colab_link": true
    },
    "kernelspec": {
      "display_name": "Python 3",
      "name": "python3"
    },
    "language_info": {
      "name": "python"
    }
  },
  "nbformat": 4,
  "nbformat_minor": 0
}