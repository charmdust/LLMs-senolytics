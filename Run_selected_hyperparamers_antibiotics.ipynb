{
 "cells": [
  {
   "cell_type": "markdown",
   "metadata": {
    "id": "kferES7hG0qd"
   },
   "source": [
    "Test out a custom trainer that takes class weights into account"
   ]
  },
  {
   "cell_type": "code",
   "execution_count": 1,
   "metadata": {
    "id": "ibDj9sQ01PBI"
   },
   "outputs": [
    {
     "name": "stderr",
     "output_type": "stream",
     "text": [
      "/home/losullivan/.local/lib/python3.10/site-packages/tqdm/auto.py:21: TqdmWarning: IProgress not found. Please update jupyter and ipywidgets. See https://ipywidgets.readthedocs.io/en/stable/user_install.html\n",
      "  from .autonotebook import tqdm as notebook_tqdm\n",
      "2023-12-06 10:24:52.685018: E tensorflow/compiler/xla/stream_executor/cuda/cuda_dnn.cc:9342] Unable to register cuDNN factory: Attempting to register factory for plugin cuDNN when one has already been registered\n",
      "2023-12-06 10:24:52.685054: E tensorflow/compiler/xla/stream_executor/cuda/cuda_fft.cc:609] Unable to register cuFFT factory: Attempting to register factory for plugin cuFFT when one has already been registered\n",
      "2023-12-06 10:24:52.688516: E tensorflow/compiler/xla/stream_executor/cuda/cuda_blas.cc:1518] Unable to register cuBLAS factory: Attempting to register factory for plugin cuBLAS when one has already been registered\n",
      "2023-12-06 10:24:53.273501: I tensorflow/core/platform/cpu_feature_guard.cc:182] This TensorFlow binary is optimized to use available CPU instructions in performance-critical operations.\n",
      "To enable the following instructions: AVX2 FMA, in other operations, rebuild TensorFlow with the appropriate compiler flags.\n",
      "2023-12-06 10:24:57.791177: W tensorflow/compiler/tf2tensorrt/utils/py_utils.cc:38] TF-TRT Warning: Could not find TensorRT\n"
     ]
    }
   ],
   "source": [
    "import pandas as pd\n",
    "import os\n",
    "import time\n",
    "from typing import List\n",
    "\n",
    "import pandas as pd\n",
    "import numpy as np\n",
    "\n",
    "import seaborn as sns\n",
    "import matplotlib.pyplot as plt\n",
    "\n",
    "from transformers import AutoTokenizer, AutoModel, AutoConfig, AutoModelForSequenceClassification\n",
    "import torch\n",
    "\n",
    "from transformers import TrainingArguments, Trainer\n",
    "\n",
    "import evaluate\n",
    "\n",
    "\n",
    "from sklearn.utils.class_weight import compute_class_weight\n",
    "\n",
    "import hyperopt\n",
    "\n",
    "from torch import nn\n",
    "from transformers import Trainer\n"
   ]
  },
  {
   "cell_type": "code",
   "execution_count": 3,
   "metadata": {
    "colab": {
     "base_uri": "https://localhost:8080/",
     "height": 843
    },
    "id": "kA15Apw11PJm",
    "outputId": "bfb3e696-9215-41fd-ecae-40b007f00a0b",
    "scrolled": true
   },
   "outputs": [
    {
     "data": {
      "text/html": [
       "<div>\n",
       "<style scoped>\n",
       "    .dataframe tbody tr th:only-of-type {\n",
       "        vertical-align: middle;\n",
       "    }\n",
       "\n",
       "    .dataframe tbody tr th {\n",
       "        vertical-align: top;\n",
       "    }\n",
       "\n",
       "    .dataframe thead th {\n",
       "        text-align: right;\n",
       "    }\n",
       "</style>\n",
       "<table border=\"1\" class=\"dataframe\">\n",
       "  <thead>\n",
       "    <tr style=\"text-align: right;\">\n",
       "      <th></th>\n",
       "      <th>SMILES</th>\n",
       "      <th>Name</th>\n",
       "      <th>Rep 1</th>\n",
       "      <th>Rep 2</th>\n",
       "      <th>Mean</th>\n",
       "      <th>Label</th>\n",
       "      <th>Total positives</th>\n",
       "      <th>Total negatives</th>\n",
       "    </tr>\n",
       "  </thead>\n",
       "  <tbody>\n",
       "    <tr>\n",
       "      <th>0</th>\n",
       "      <td>C=CC(C1=CC(=O)C(OC)=CC1=O)c1ccc(O)cc1</td>\n",
       "      <td>4-METHOXY-4'-HYDROXY-DALBERGIONE</td>\n",
       "      <td>1.041500</td>\n",
       "      <td>1.124500</td>\n",
       "      <td>1.083000</td>\n",
       "      <td>0</td>\n",
       "      <td>112.0</td>\n",
       "      <td>7573.0</td>\n",
       "    </tr>\n",
       "    <tr>\n",
       "      <th>1</th>\n",
       "      <td>C=C1CC/C=C(/C)CC[C@@H]2[C@@H]1CC2(C)C.O</td>\n",
       "      <td>(-)E-CARYOPHYLLENE hydrate</td>\n",
       "      <td>0.846050</td>\n",
       "      <td>1.028200</td>\n",
       "      <td>0.937125</td>\n",
       "      <td>0</td>\n",
       "      <td>NaN</td>\n",
       "      <td>NaN</td>\n",
       "    </tr>\n",
       "    <tr>\n",
       "      <th>2</th>\n",
       "      <td>CCCCCCCCCCCCCCCC(=O)OCC(O)CO</td>\n",
       "      <td>1-MONOPALMITIN</td>\n",
       "      <td>1.089400</td>\n",
       "      <td>1.247000</td>\n",
       "      <td>1.168200</td>\n",
       "      <td>0</td>\n",
       "      <td>NaN</td>\n",
       "      <td>NaN</td>\n",
       "    </tr>\n",
       "    <tr>\n",
       "      <th>3</th>\n",
       "      <td>CC1(C)C(=O)[C@@H]2O[C@@H]2[C@@]2(C)C1C[C@@H](O...</td>\n",
       "      <td>1,2alpha-EPOXYDEACETOXYDIHYDROGEDUNIN</td>\n",
       "      <td>1.168100</td>\n",
       "      <td>1.171700</td>\n",
       "      <td>1.169900</td>\n",
       "      <td>0</td>\n",
       "      <td>NaN</td>\n",
       "      <td>NaN</td>\n",
       "    </tr>\n",
       "    <tr>\n",
       "      <th>4</th>\n",
       "      <td>CC1(C)C2CC(=O)[C@]3(C)C(CC[C@@]4(C)[C@H](c5cco...</td>\n",
       "      <td>1,3-DIDEACETYL-7-DEACETOXY-7-OXOKHIVORIN</td>\n",
       "      <td>1.195300</td>\n",
       "      <td>1.228100</td>\n",
       "      <td>1.211700</td>\n",
       "      <td>0</td>\n",
       "      <td>NaN</td>\n",
       "      <td>NaN</td>\n",
       "    </tr>\n",
       "    <tr>\n",
       "      <th>...</th>\n",
       "      <td>...</td>\n",
       "      <td>...</td>\n",
       "      <td>...</td>\n",
       "      <td>...</td>\n",
       "      <td>...</td>\n",
       "      <td>...</td>\n",
       "      <td>...</td>\n",
       "      <td>...</td>\n",
       "    </tr>\n",
       "    <tr>\n",
       "      <th>7679</th>\n",
       "      <td>C=CCN1C(C)=N[C@H]2C=C[C@H](NCCCO)[C@H]21</td>\n",
       "      <td>BRD-M85061937</td>\n",
       "      <td>0.987031</td>\n",
       "      <td>1.071989</td>\n",
       "      <td>1.029510</td>\n",
       "      <td>0</td>\n",
       "      <td>NaN</td>\n",
       "      <td>NaN</td>\n",
       "    </tr>\n",
       "    <tr>\n",
       "      <th>7680</th>\n",
       "      <td>CI.O=C(COc1ccc(Cl)cc1Cl)OC[C@H]1CCCN2CCCC[C@@H]12</td>\n",
       "      <td>BRD-M95218988</td>\n",
       "      <td>1.043885</td>\n",
       "      <td>0.848576</td>\n",
       "      <td>0.946230</td>\n",
       "      <td>0</td>\n",
       "      <td>NaN</td>\n",
       "      <td>NaN</td>\n",
       "    </tr>\n",
       "    <tr>\n",
       "      <th>7681</th>\n",
       "      <td>O=C(O)C(Cl)Cl.[NaH]</td>\n",
       "      <td>BRD-M97302542</td>\n",
       "      <td>0.998363</td>\n",
       "      <td>1.137398</td>\n",
       "      <td>1.067881</td>\n",
       "      <td>0</td>\n",
       "      <td>NaN</td>\n",
       "      <td>NaN</td>\n",
       "    </tr>\n",
       "    <tr>\n",
       "      <th>7682</th>\n",
       "      <td>N#Cc1cc(F)cc(Oc2ccc(S(=O)(=O)C(F)F)c3c2CC(F)(F...</td>\n",
       "      <td>BRD-M99730827</td>\n",
       "      <td>0.997820</td>\n",
       "      <td>1.269089</td>\n",
       "      <td>1.133454</td>\n",
       "      <td>0</td>\n",
       "      <td>NaN</td>\n",
       "      <td>NaN</td>\n",
       "    </tr>\n",
       "    <tr>\n",
       "      <th>7683</th>\n",
       "      <td>CCN1C(=O)[C@@H]2SC[C@@H](O)[C@@H]2C1=O</td>\n",
       "      <td>BRD-M99788879</td>\n",
       "      <td>0.892351</td>\n",
       "      <td>0.863098</td>\n",
       "      <td>0.877725</td>\n",
       "      <td>0</td>\n",
       "      <td>NaN</td>\n",
       "      <td>NaN</td>\n",
       "    </tr>\n",
       "  </tbody>\n",
       "</table>\n",
       "<p>7684 rows × 8 columns</p>\n",
       "</div>"
      ],
      "text/plain": [
       "                                                 SMILES  \\\n",
       "0                 C=CC(C1=CC(=O)C(OC)=CC1=O)c1ccc(O)cc1   \n",
       "1               C=C1CC/C=C(/C)CC[C@@H]2[C@@H]1CC2(C)C.O   \n",
       "2                          CCCCCCCCCCCCCCCC(=O)OCC(O)CO   \n",
       "3     CC1(C)C(=O)[C@@H]2O[C@@H]2[C@@]2(C)C1C[C@@H](O...   \n",
       "4     CC1(C)C2CC(=O)[C@]3(C)C(CC[C@@]4(C)[C@H](c5cco...   \n",
       "...                                                 ...   \n",
       "7679           C=CCN1C(C)=N[C@H]2C=C[C@H](NCCCO)[C@H]21   \n",
       "7680  CI.O=C(COc1ccc(Cl)cc1Cl)OC[C@H]1CCCN2CCCC[C@@H]12   \n",
       "7681                                O=C(O)C(Cl)Cl.[NaH]   \n",
       "7682  N#Cc1cc(F)cc(Oc2ccc(S(=O)(=O)C(F)F)c3c2CC(F)(F...   \n",
       "7683             CCN1C(=O)[C@@H]2SC[C@@H](O)[C@@H]2C1=O   \n",
       "\n",
       "                                          Name     Rep 1     Rep 2      Mean  \\\n",
       "0             4-METHOXY-4'-HYDROXY-DALBERGIONE  1.041500  1.124500  1.083000   \n",
       "1                   (-)E-CARYOPHYLLENE hydrate  0.846050  1.028200  0.937125   \n",
       "2                               1-MONOPALMITIN  1.089400  1.247000  1.168200   \n",
       "3        1,2alpha-EPOXYDEACETOXYDIHYDROGEDUNIN  1.168100  1.171700  1.169900   \n",
       "4     1,3-DIDEACETYL-7-DEACETOXY-7-OXOKHIVORIN  1.195300  1.228100  1.211700   \n",
       "...                                        ...       ...       ...       ...   \n",
       "7679                             BRD-M85061937  0.987031  1.071989  1.029510   \n",
       "7680                             BRD-M95218988  1.043885  0.848576  0.946230   \n",
       "7681                             BRD-M97302542  0.998363  1.137398  1.067881   \n",
       "7682                             BRD-M99730827  0.997820  1.269089  1.133454   \n",
       "7683                             BRD-M99788879  0.892351  0.863098  0.877725   \n",
       "\n",
       "      Label  Total positives  Total negatives  \n",
       "0         0            112.0           7573.0  \n",
       "1         0              NaN              NaN  \n",
       "2         0              NaN              NaN  \n",
       "3         0              NaN              NaN  \n",
       "4         0              NaN              NaN  \n",
       "...     ...              ...              ...  \n",
       "7679      0              NaN              NaN  \n",
       "7680      0              NaN              NaN  \n",
       "7681      0              NaN              NaN  \n",
       "7682      0              NaN              NaN  \n",
       "7683      0              NaN              NaN  \n",
       "\n",
       "[7684 rows x 8 columns]"
      ]
     },
     "execution_count": 3,
     "metadata": {},
     "output_type": "execute_result"
    }
   ],
   "source": [
    "# Senolytic dataset - labelled\n",
    "antibiotics_df = pd.read_excel('Dataset_antibiotic_superbug.xlsx', skiprows=4, sheet_name='Training data') \n",
    "antibiotics_df"
   ]
  },
  {
   "cell_type": "code",
   "execution_count": 4,
   "metadata": {
    "colab": {
     "base_uri": "https://localhost:8080/",
     "height": 424
    },
    "id": "OrOR9_0E1cNU",
    "outputId": "5ab03543-5a76-409c-8e50-69e6aba570ce"
   },
   "outputs": [
    {
     "data": {
      "text/html": [
       "<div>\n",
       "<style scoped>\n",
       "    .dataframe tbody tr th:only-of-type {\n",
       "        vertical-align: middle;\n",
       "    }\n",
       "\n",
       "    .dataframe tbody tr th {\n",
       "        vertical-align: top;\n",
       "    }\n",
       "\n",
       "    .dataframe thead th {\n",
       "        text-align: right;\n",
       "    }\n",
       "</style>\n",
       "<table border=\"1\" class=\"dataframe\">\n",
       "  <thead>\n",
       "    <tr style=\"text-align: right;\">\n",
       "      <th></th>\n",
       "      <th>SMILES</th>\n",
       "      <th>Label</th>\n",
       "    </tr>\n",
       "  </thead>\n",
       "  <tbody>\n",
       "    <tr>\n",
       "      <th>0</th>\n",
       "      <td>C=CC(C1=CC(=O)C(OC)=CC1=O)c1ccc(O)cc1</td>\n",
       "      <td>0</td>\n",
       "    </tr>\n",
       "    <tr>\n",
       "      <th>1</th>\n",
       "      <td>C=C1CC/C=C(/C)CC[C@@H]2[C@@H]1CC2(C)C.O</td>\n",
       "      <td>0</td>\n",
       "    </tr>\n",
       "    <tr>\n",
       "      <th>2</th>\n",
       "      <td>CCCCCCCCCCCCCCCC(=O)OCC(O)CO</td>\n",
       "      <td>0</td>\n",
       "    </tr>\n",
       "    <tr>\n",
       "      <th>3</th>\n",
       "      <td>CC1(C)C(=O)[C@@H]2O[C@@H]2[C@@]2(C)C1C[C@@H](O...</td>\n",
       "      <td>0</td>\n",
       "    </tr>\n",
       "    <tr>\n",
       "      <th>4</th>\n",
       "      <td>CC1(C)C2CC(=O)[C@]3(C)C(CC[C@@]4(C)[C@H](c5cco...</td>\n",
       "      <td>0</td>\n",
       "    </tr>\n",
       "    <tr>\n",
       "      <th>...</th>\n",
       "      <td>...</td>\n",
       "      <td>...</td>\n",
       "    </tr>\n",
       "    <tr>\n",
       "      <th>7679</th>\n",
       "      <td>C=CCN1C(C)=N[C@H]2C=C[C@H](NCCCO)[C@H]21</td>\n",
       "      <td>0</td>\n",
       "    </tr>\n",
       "    <tr>\n",
       "      <th>7680</th>\n",
       "      <td>CI.O=C(COc1ccc(Cl)cc1Cl)OC[C@H]1CCCN2CCCC[C@@H]12</td>\n",
       "      <td>0</td>\n",
       "    </tr>\n",
       "    <tr>\n",
       "      <th>7681</th>\n",
       "      <td>O=C(O)C(Cl)Cl.[NaH]</td>\n",
       "      <td>0</td>\n",
       "    </tr>\n",
       "    <tr>\n",
       "      <th>7682</th>\n",
       "      <td>N#Cc1cc(F)cc(Oc2ccc(S(=O)(=O)C(F)F)c3c2CC(F)(F...</td>\n",
       "      <td>0</td>\n",
       "    </tr>\n",
       "    <tr>\n",
       "      <th>7683</th>\n",
       "      <td>CCN1C(=O)[C@@H]2SC[C@@H](O)[C@@H]2C1=O</td>\n",
       "      <td>0</td>\n",
       "    </tr>\n",
       "  </tbody>\n",
       "</table>\n",
       "<p>7684 rows × 2 columns</p>\n",
       "</div>"
      ],
      "text/plain": [
       "                                                 SMILES  Label\n",
       "0                 C=CC(C1=CC(=O)C(OC)=CC1=O)c1ccc(O)cc1      0\n",
       "1               C=C1CC/C=C(/C)CC[C@@H]2[C@@H]1CC2(C)C.O      0\n",
       "2                          CCCCCCCCCCCCCCCC(=O)OCC(O)CO      0\n",
       "3     CC1(C)C(=O)[C@@H]2O[C@@H]2[C@@]2(C)C1C[C@@H](O...      0\n",
       "4     CC1(C)C2CC(=O)[C@]3(C)C(CC[C@@]4(C)[C@H](c5cco...      0\n",
       "...                                                 ...    ...\n",
       "7679           C=CCN1C(C)=N[C@H]2C=C[C@H](NCCCO)[C@H]21      0\n",
       "7680  CI.O=C(COc1ccc(Cl)cc1Cl)OC[C@H]1CCCN2CCCC[C@@H]12      0\n",
       "7681                                O=C(O)C(Cl)Cl.[NaH]      0\n",
       "7682  N#Cc1cc(F)cc(Oc2ccc(S(=O)(=O)C(F)F)c3c2CC(F)(F...      0\n",
       "7683             CCN1C(=O)[C@@H]2SC[C@@H](O)[C@@H]2C1=O      0\n",
       "\n",
       "[7684 rows x 2 columns]"
      ]
     },
     "execution_count": 4,
     "metadata": {},
     "output_type": "execute_result"
    }
   ],
   "source": [
    "training_df = senolytics_df[['SMILES', 'Label']]\n",
    "training_df"
   ]
  },
  {
   "cell_type": "code",
   "execution_count": 4,
   "metadata": {
    "colab": {
     "base_uri": "https://localhost:8080/",
     "height": 424
    },
    "id": "OCBDQUq_SA8_",
    "outputId": "cf6c27fe-b6d2-42c4-b299-6b0977b5b4a9"
   },
   "outputs": [],
   "source": [
    "# # Subset for testing new code\n",
    "\n",
    "#training_df =  training_df.groupby('senolytic', group_keys=False).apply(lambda x: x.sample(frac=0.1))\n",
    "#training_df\n",
    "\n"
   ]
  },
  {
   "cell_type": "code",
   "execution_count": 5,
   "metadata": {
    "colab": {
     "base_uri": "https://localhost:8080/"
    },
    "id": "Mex0yzEfSnnc",
    "outputId": "c9c972e6-6ddd-4efe-ea79-82a2f72909ce"
   },
   "outputs": [
    {
     "data": {
      "text/plain": [
       "0.014575741801145237"
      ]
     },
     "execution_count": 5,
     "metadata": {},
     "output_type": "execute_result"
    }
   ],
   "source": [
    "# Check sample is representative of the actual distribution\n",
    "sum(training_df['Label'])/len(training_df)"
   ]
  },
  {
   "cell_type": "markdown",
   "metadata": {
    "id": "DCOQKbIPDLAt"
   },
   "source": [
    "## Finetune\n",
    "https://huggingface.co/docs/transformers/training"
   ]
  },
  {
   "cell_type": "code",
   "execution_count": 6,
   "metadata": {
    "colab": {
     "base_uri": "https://localhost:8080/"
    },
    "id": "YtKRX78_524s",
    "outputId": "7888feb8-d87c-427f-9a83-43677acaa74c"
   },
   "outputs": [
    {
     "name": "stderr",
     "output_type": "stream",
     "text": [
      "Special tokens have been added in the vocabulary, make sure the associated word embeddings are fine-tuned or trained.\n",
      "Some weights of RobertaForSequenceClassification were not initialized from the model checkpoint at DeepChem/ChemBERTa-77M-MTR and are newly initialized: ['classifier.out_proj.bias', 'classifier.dense.bias', 'classifier.out_proj.weight', 'classifier.dense.weight']\n",
      "You should probably TRAIN this model on a down-stream task to be able to use it for predictions and inference.\n"
     ]
    },
    {
     "name": "stdout",
     "output_type": "stream",
     "text": [
      "Model size: 3428210 parameters.\n"
     ]
    }
   ],
   "source": [
    "tokenizer = AutoTokenizer.from_pretrained(\"DeepChem/ChemBERTa-77M-MTR\")\n",
    "config = AutoConfig.from_pretrained(\"DeepChem/ChemBERTa-77M-MTR\")\n",
    "config.num_hidden_layers += 1\n",
    "model = AutoModelForSequenceClassification.from_pretrained(\"DeepChem/ChemBERTa-77M-MTR\", num_labels=2, problem_type = \"single_label_classification\")\n",
    "\n",
    "print(f\"Model size: {model.num_parameters()} parameters.\")"
   ]
  },
  {
   "cell_type": "code",
   "execution_count": 7,
   "metadata": {
    "id": "0jU4hDaB9ZeP"
   },
   "outputs": [],
   "source": [
    "from sklearn.model_selection import train_test_split\n",
    "X = training_df[['SMILES']]\n",
    "y = training_df['Label']\n",
    "X_train, X_test, y_train, y_test = train_test_split(X, y, test_size=0.3, random_state=42, stratify=y) # the data should be shuffled\n"
   ]
  },
  {
   "cell_type": "code",
   "execution_count": 7,
   "metadata": {
    "id": "1tJA6uNe9FrY"
   },
   "outputs": [],
   "source": [
    "# Dataset set up\n",
    "\n",
    "#smiles_train = X_train['SMILES'].astype(str).tolist()\n",
    "#smiles_test = X_test['SMILES'].astype(str).tolist()\n"
   ]
  },
  {
   "cell_type": "code",
   "execution_count": 8,
   "metadata": {
    "id": "BiniuqzuA2KI"
   },
   "outputs": [],
   "source": [
    "# # https://huggingface.co/transformers/v3.2.0/custom_datasets.html -> does not work!!\n",
    "# from transformers import AutoTokenizer, AutoModel\n",
    "# import torch\n",
    "\n",
    "\n",
    "# class SenolyticsDataset(torch.utils.data.Dataset):\n",
    "#     def __init__(self, encodings, labels):\n",
    "#         self.encodings = encodings\n",
    "#         self.labels = labels\n",
    "\n",
    "#     def __getitem__(self, idx):\n",
    "#         #print(idx)\n",
    "#         input_ids = torch.tensor(self.encodings['input_ids'])\n",
    "#         if self.labels is not None and idx in self.labels.keys():\n",
    "#             target_ids = torch.tensor(self.labels[idx])\n",
    "#         else:\n",
    "#             # Handle the case where self.labels is None or idx is out of range\n",
    "#             target_ids = None\n",
    "#         return {\"input_ids\": input_ids, \"labels\": target_ids}\n",
    "\n",
    "#     def __len__(self):\n",
    "#         return len(self.labels)\n",
    "# #train_dataset = IMDbDataset(train_encodings, train_labels)\n",
    "# #val_dataset = IMDbDataset(val_encodings, val_labels)\n",
    "# #test_dataset = IMDbDataset(test_encodings, test_labels)\n",
    "\n",
    "# tokenized_train = tokenizer(smiles_train, padding=True, truncation=True, max_length=None, return_tensors='pt')\n",
    "# tokenized_test = tokenizer(smiles_test, padding=True, truncation=True, max_length=None, return_tensors='pt')\n",
    "\n",
    "# train_dataset = SenolyticsDataset(tokenized_train, y_train)\n",
    "# test_dataset = SenolyticsDataset(tokenized_test, y_test)\n"
   ]
  },
  {
   "cell_type": "code",
   "execution_count": 8,
   "metadata": {
    "id": "Yh4grRWQjsLj"
   },
   "outputs": [],
   "source": [
    "import torch\n",
    "\n",
    "#Current version\n",
    "class Dataset(torch.utils.data.Dataset):\n",
    "    def __init__(self, dataframe, labels, tokenizer):\n",
    "        self.dataframe = dataframe\n",
    "        self.tokenizer = tokenizer\n",
    "\n",
    "        # Tokenize the SMILES strings and store them\n",
    "        self.encodings = self.tokenize_smiles(dataframe['SMILES'].tolist())\n",
    "\n",
    "        # Store the labels\n",
    "        self.labels = labels.tolist()\n",
    "\n",
    "    def tokenize_smiles(self, smiles_list):\n",
    "        return self.tokenizer(\n",
    "            smiles_list,\n",
    "            truncation=True,\n",
    "            padding=True,\n",
    "            max_length=None,\n",
    "            return_tensors='pt'\n",
    "        )\n",
    "\n",
    "    def __getitem__(self, idx):\n",
    "        item = {\n",
    "            'input_ids': self.encodings['input_ids'][idx],\n",
    "            'attention_mask': self.encodings['attention_mask'][idx],\n",
    "            'labels': torch.tensor(self.labels[idx], dtype=torch.float)\n",
    "        }\n",
    "        return item\n",
    "\n",
    "    def __len__(self):\n",
    "        return len(self.labels)\n"
   ]
  },
  {
   "cell_type": "code",
   "execution_count": 9,
   "metadata": {
    "id": "rTFXIMO6jycF"
   },
   "outputs": [],
   "source": [
    "train_dataset = Dataset(X_train, y_train, tokenizer)\n",
    "test_dataset = Dataset(X_test, y_test, tokenizer)"
   ]
  },
  {
   "cell_type": "code",
   "execution_count": 10,
   "metadata": {
    "colab": {
     "base_uri": "https://localhost:8080/"
    },
    "id": "wHP3C4JUyB9g",
    "outputId": "b5b926e7-f64b-49ac-9409-210adf4f5c04"
   },
   "outputs": [
    {
     "data": {
      "text/plain": [
       "torch.Tensor"
      ]
     },
     "execution_count": 10,
     "metadata": {},
     "output_type": "execute_result"
    }
   ],
   "source": [
    "type(train_dataset[-1]['input_ids'])"
   ]
  },
  {
   "cell_type": "code",
   "execution_count": 11,
   "metadata": {
    "colab": {
     "base_uri": "https://localhost:8080/",
     "height": 49,
     "referenced_widgets": [
      "1bee975014d1451b9ff65d5fe1900ff3",
      "7f77b287bc334e3dba59b9d4c3307e46",
      "091723f2ddaa43b98f16a4756fd02390",
      "5d939c494595405797930594beee593d",
      "74135322bba54fa3b6578825dbfac89f",
      "9781d331577d4612bcabe465634f52a2",
      "35f2824b2c644032a227f956719fe2a7",
      "8088374a3d6f4332b642708bbd768add",
      "d97c6f2aac474568949ac75dcae64a78",
      "58da272eecb64352a162858fdfdb9a10",
      "f5f0d29fc0ef4fcfb09f17906c822687"
     ]
    },
    "id": "-kEDerSWDgSQ",
    "outputId": "27dbcb00-5bda-487f-9804-33b7284e05a7"
   },
   "outputs": [],
   "source": [
    "\n",
    "\n",
    "metric = evaluate.load(\"f1\")"
   ]
  },
  {
   "cell_type": "code",
   "execution_count": 12,
   "metadata": {
    "id": "KWaaH8HzEqxl"
   },
   "outputs": [],
   "source": [
    "# https://stackoverflow.com/questions/67457480/how-to-get-the-accuracy-per-epoch-or-step-for-the-huggingface-transformers-train\n",
    "\n",
    "def compute_metrics(eval_pred):\n",
    "    metrics = [\"accuracy\", \"recall\", \"precision\", \"f1\"] #List of metrics to return\n",
    "    metric={}\n",
    "    for met in metrics:\n",
    "       metric[met] = evaluate.load(met)\n",
    "    logits, labels = eval_pred\n",
    "    predictions = np.argmax(logits, axis=-1)\n",
    "    metric_res={}\n",
    "    for met in metrics:\n",
    "       metric_res[met]=metric[met].compute(predictions=predictions, references=labels)[met]\n",
    "    return metric_res"
   ]
  },
  {
   "cell_type": "code",
   "execution_count": 13,
   "metadata": {
    "colab": {
     "base_uri": "https://localhost:8080/"
    },
    "id": "Pd8k07IiLvnt",
    "outputId": "ee4e1598-d1dd-4d1c-dcb0-5c1de3765994"
   },
   "outputs": [
    {
     "name": "stdout",
     "output_type": "stream",
     "text": [
      "[ 0.50735849 34.47435897]\n"
     ]
    }
   ],
   "source": [
    "# Class weights\n",
    "\n",
    "\n",
    "\n",
    "\n",
    "class_weights = compute_class_weight(class_weight=\"balanced\",classes=np.unique(y_train),y=y_train)\n",
    "\n",
    "\n",
    "print(class_weights)"
   ]
  },
  {
   "cell_type": "code",
   "execution_count": 14,
   "metadata": {
    "id": "1Vgd0ucdLaeI"
   },
   "outputs": [],
   "source": [
    "# https://huggingface.co/docs/transformers/main/main_classes/trainer\n",
    "\n",
    "\n",
    "\n",
    "\n",
    "class CustomTrainer(Trainer):\n",
    "\n",
    "    def __init__(self, *args, **kwargs):\n",
    "        super().__init__(*args, **kwargs)\n",
    "    def compute_loss(self, model, inputs, return_outputs=False):\n",
    "        labels = inputs.pop(\"labels\").long()\n",
    "        # forward pass\n",
    "        outputs = model(**inputs)\n",
    "        logits = outputs.get(\"logits\")\n",
    "        # compute custom loss with class_weights=balanced from above\n",
    "        loss_fct = nn.CrossEntropyLoss(weight=torch.tensor(class_weights, device=model.device, dtype=torch.float))\n",
    "        loss = loss_fct(logits.view(-1, self.model.config.num_labels), labels.view(-1))\n",
    "        return (loss, outputs) if return_outputs else loss"
   ]
  },
  {
   "cell_type": "code",
   "execution_count": null,
   "metadata": {
    "id": "aUdFmJL-iq4O"
   },
   "outputs": [],
   "source": []
  },
  {
   "cell_type": "code",
   "execution_count": 16,
   "metadata": {
    "id": "AB7ZRaOBpVBS"
   },
   "outputs": [],
   "source": [
    "X = training_df[['SMILES']]\n",
    "y = training_df['Label']\n",
    "X_train, X_test, y_train, y_test = train_test_split(X, y, test_size=0.3, random_state=42, stratify=y)\n",
    "\n",
    "train_dataset = Dataset(X_train, y_train, tokenizer)\n",
    "test_dataset = Dataset(X_test, y_test, tokenizer)\n"
   ]
  },
  {
   "cell_type": "code",
   "execution_count": 17,
   "metadata": {},
   "outputs": [
    {
     "name": "stdout",
     "output_type": "stream",
     "text": [
      "{'learning_rate': 9.522117281262688e-05, 'weight_decay': 0.020220816653914182, 'num_train_epochs': 9}\n"
     ]
    }
   ],
   "source": [
    "# Code crashes no idea why, I have copied this from the terminal\n",
    "best_params =  {'learning_rate': 9.522117281262688e-05, 'weight_decay': 0.020220816653914182, 'num_train_epochs': 9}\n",
    "print(best_params)\n",
    "\n",
    "#f = open(\"best_trial_100.txt\", \"r\")\n",
    "#print(f.read())"
   ]
  },
  {
   "cell_type": "code",
   "execution_count": 18,
   "metadata": {},
   "outputs": [],
   "source": [
    "#import json\n",
    "\n",
    "# Load the dictionary from the text file\n",
    "#with open(\"best_trial_100.txt\", \"r\") as fp:\n",
    "#    best_trial_dict = json.load(fp)\n",
    "\n",
    "#print(best_trial_dict['best_params'])\n",
    "#best_params = best_trial_dict['best_params']"
   ]
  },
  {
   "cell_type": "code",
   "execution_count": 19,
   "metadata": {
    "id": "scITAOltPAtr"
   },
   "outputs": [],
   "source": [
    "from transformers import TrainingArguments, Trainer\n",
    "\n",
    "# many more parameters to experiment with https://huggingface.co/docs/transformers/v4.33.2/en/main_classes/trainer#transformers.TrainingArguments\n",
    "training_args = TrainingArguments(output_dir=\"test_antibiotics\", load_best_model_at_end=True, evaluation_strategy='epoch',\n",
    "    logging_strategy=\"epoch\", save_strategy=\"epoch\",per_device_train_batch_size=16,  # batch size per device during training\n",
    "    per_device_eval_batch_size=64,optim=\"adamw_torch\", num_train_epochs=best_params['num_train_epochs'], learning_rate=best_params['learning_rate'],\n",
    "                                  weight_decay=best_params['weight_decay']) # switch optimizer to avoid warning)\n"
   ]
  },
  {
   "cell_type": "code",
   "execution_count": 20,
   "metadata": {
    "id": "wtAfs7GKE0dU"
   },
   "outputs": [],
   "source": [
    "from transformers import TrainerCallback\n",
    "trainer = CustomTrainer(\n",
    "    model=model,\n",
    "    args=training_args,\n",
    "    train_dataset=train_dataset,\n",
    "    eval_dataset=test_dataset,\n",
    "    compute_metrics=compute_metrics,\n",
    ")\n",
    "\n",
    "# Define a callback for printing validation loss\n",
    "class PrintValidationLossCallback(TrainerCallback):\n",
    "    def on_evaluate(self, args, state, control, **kwargs):\n",
    "        if state is not None and hasattr(state, 'eval_loss'):\n",
    "            print(f\"Validation loss: {state.eval_loss:.4f}\")\n",
    "\n",
    "# Add the callback to the trainer\n",
    "trainer.add_callback(PrintValidationLossCallback())\n",
    "#trainer.train()"
   ]
  },
  {
   "cell_type": "code",
   "execution_count": 21,
   "metadata": {
    "id": "GEDQnTztZeuf",
    "scrolled": true
   },
   "outputs": [
    {
     "data": {
      "text/html": [
       "\n",
       "    <div>\n",
       "      \n",
       "      <progress value='3033' max='3033' style='width:300px; height:20px; vertical-align: middle;'></progress>\n",
       "      [3033/3033 01:45, Epoch 9/9]\n",
       "    </div>\n",
       "    <table border=\"1\" class=\"dataframe\">\n",
       "  <thead>\n",
       " <tr style=\"text-align: left;\">\n",
       "      <th>Epoch</th>\n",
       "      <th>Training Loss</th>\n",
       "      <th>Validation Loss</th>\n",
       "      <th>Accuracy</th>\n",
       "      <th>Recall</th>\n",
       "      <th>Precision</th>\n",
       "      <th>F1</th>\n",
       "    </tr>\n",
       "  </thead>\n",
       "  <tbody>\n",
       "    <tr>\n",
       "      <td>1</td>\n",
       "      <td>0.583600</td>\n",
       "      <td>1.367716</td>\n",
       "      <td>0.987858</td>\n",
       "      <td>0.176471</td>\n",
       "      <td>1.000000</td>\n",
       "      <td>0.300000</td>\n",
       "    </tr>\n",
       "    <tr>\n",
       "      <td>2</td>\n",
       "      <td>0.455300</td>\n",
       "      <td>1.284592</td>\n",
       "      <td>0.986123</td>\n",
       "      <td>0.323529</td>\n",
       "      <td>0.550000</td>\n",
       "      <td>0.407407</td>\n",
       "    </tr>\n",
       "    <tr>\n",
       "      <td>3</td>\n",
       "      <td>0.367700</td>\n",
       "      <td>1.366471</td>\n",
       "      <td>0.987424</td>\n",
       "      <td>0.323529</td>\n",
       "      <td>0.647059</td>\n",
       "      <td>0.431373</td>\n",
       "    </tr>\n",
       "    <tr>\n",
       "      <td>4</td>\n",
       "      <td>0.314400</td>\n",
       "      <td>1.128973</td>\n",
       "      <td>0.985256</td>\n",
       "      <td>0.352941</td>\n",
       "      <td>0.500000</td>\n",
       "      <td>0.413793</td>\n",
       "    </tr>\n",
       "    <tr>\n",
       "      <td>5</td>\n",
       "      <td>0.245300</td>\n",
       "      <td>1.379254</td>\n",
       "      <td>0.987424</td>\n",
       "      <td>0.352941</td>\n",
       "      <td>0.631579</td>\n",
       "      <td>0.452830</td>\n",
       "    </tr>\n",
       "    <tr>\n",
       "      <td>6</td>\n",
       "      <td>0.199700</td>\n",
       "      <td>1.285699</td>\n",
       "      <td>0.984389</td>\n",
       "      <td>0.352941</td>\n",
       "      <td>0.461538</td>\n",
       "      <td>0.400000</td>\n",
       "    </tr>\n",
       "    <tr>\n",
       "      <td>7</td>\n",
       "      <td>0.162500</td>\n",
       "      <td>1.494077</td>\n",
       "      <td>0.986557</td>\n",
       "      <td>0.352941</td>\n",
       "      <td>0.571429</td>\n",
       "      <td>0.436364</td>\n",
       "    </tr>\n",
       "    <tr>\n",
       "      <td>8</td>\n",
       "      <td>0.144800</td>\n",
       "      <td>1.541400</td>\n",
       "      <td>0.986557</td>\n",
       "      <td>0.352941</td>\n",
       "      <td>0.571429</td>\n",
       "      <td>0.436364</td>\n",
       "    </tr>\n",
       "    <tr>\n",
       "      <td>9</td>\n",
       "      <td>0.134800</td>\n",
       "      <td>1.510317</td>\n",
       "      <td>0.985690</td>\n",
       "      <td>0.352941</td>\n",
       "      <td>0.521739</td>\n",
       "      <td>0.421053</td>\n",
       "    </tr>\n",
       "  </tbody>\n",
       "</table><p>"
      ],
      "text/plain": [
       "<IPython.core.display.HTML object>"
      ]
     },
     "metadata": {},
     "output_type": "display_data"
    },
    {
     "data": {
      "text/plain": [
       "TrainOutput(global_step=3033, training_loss=0.28979223033126494, metrics={'train_runtime': 112.3684, 'train_samples_per_second': 430.744, 'train_steps_per_second': 26.992, 'total_flos': 212557916583648.0, 'train_loss': 0.28979223033126494, 'epoch': 9.0})"
      ]
     },
     "execution_count": 21,
     "metadata": {},
     "output_type": "execute_result"
    }
   ],
   "source": [
    "trainer.train()"
   ]
  },
  {
   "cell_type": "code",
   "execution_count": 22,
   "metadata": {
    "id": "8VxPSWR_oprj"
   },
   "outputs": [],
   "source": [
    "# Save the model\n",
    "trainer.save_model(\"./antibiotics_training_set_1\")"
   ]
  },
  {
   "cell_type": "code",
   "execution_count": 23,
   "metadata": {},
   "outputs": [
    {
     "data": {
      "text/plain": [
       "RobertaForSequenceClassification(\n",
       "  (roberta): RobertaModel(\n",
       "    (embeddings): RobertaEmbeddings(\n",
       "      (word_embeddings): Embedding(600, 384, padding_idx=1)\n",
       "      (position_embeddings): Embedding(515, 384, padding_idx=1)\n",
       "      (token_type_embeddings): Embedding(1, 384)\n",
       "      (LayerNorm): LayerNorm((384,), eps=1e-12, elementwise_affine=True)\n",
       "      (dropout): Dropout(p=0.144, inplace=False)\n",
       "    )\n",
       "    (encoder): RobertaEncoder(\n",
       "      (layer): ModuleList(\n",
       "        (0-2): 3 x RobertaLayer(\n",
       "          (attention): RobertaAttention(\n",
       "            (self): RobertaSelfAttention(\n",
       "              (query): Linear(in_features=384, out_features=384, bias=True)\n",
       "              (key): Linear(in_features=384, out_features=384, bias=True)\n",
       "              (value): Linear(in_features=384, out_features=384, bias=True)\n",
       "              (dropout): Dropout(p=0.109, inplace=False)\n",
       "            )\n",
       "            (output): RobertaSelfOutput(\n",
       "              (dense): Linear(in_features=384, out_features=384, bias=True)\n",
       "              (LayerNorm): LayerNorm((384,), eps=1e-12, elementwise_affine=True)\n",
       "              (dropout): Dropout(p=0.144, inplace=False)\n",
       "            )\n",
       "          )\n",
       "          (intermediate): RobertaIntermediate(\n",
       "            (dense): Linear(in_features=384, out_features=464, bias=True)\n",
       "            (intermediate_act_fn): GELUActivation()\n",
       "          )\n",
       "          (output): RobertaOutput(\n",
       "            (dense): Linear(in_features=464, out_features=384, bias=True)\n",
       "            (LayerNorm): LayerNorm((384,), eps=1e-12, elementwise_affine=True)\n",
       "            (dropout): Dropout(p=0.144, inplace=False)\n",
       "          )\n",
       "        )\n",
       "      )\n",
       "    )\n",
       "  )\n",
       "  (classifier): RobertaClassificationHead(\n",
       "    (dense): Linear(in_features=384, out_features=384, bias=True)\n",
       "    (dropout): Dropout(p=0.144, inplace=False)\n",
       "    (out_proj): Linear(in_features=384, out_features=2, bias=True)\n",
       "  )\n",
       ")"
      ]
     },
     "execution_count": 23,
     "metadata": {},
     "output_type": "execute_result"
    }
   ],
   "source": [
    "model.eval()"
   ]
  },
  {
   "cell_type": "code",
   "execution_count": 24,
   "metadata": {
    "id": "t6BCwFDVKM05"
   },
   "outputs": [
    {
     "data": {
      "text/html": [],
      "text/plain": [
       "<IPython.core.display.HTML object>"
      ]
     },
     "metadata": {},
     "output_type": "display_data"
    }
   ],
   "source": [
    "predictions = trainer.predict(test_dataset)"
   ]
  },
  {
   "cell_type": "code",
   "execution_count": 25,
   "metadata": {},
   "outputs": [
    {
     "data": {
      "text/plain": [
       "array([[ 5.1336436, -5.2346034],\n",
       "       [-3.3564415,  3.3990428],\n",
       "       [ 3.5829117, -3.6187983],\n",
       "       ...,\n",
       "       [ 3.6712527, -3.691464 ],\n",
       "       [ 4.022172 , -4.091191 ],\n",
       "       [ 5.8757386, -6.007861 ]], dtype=float32)"
      ]
     },
     "execution_count": 25,
     "metadata": {},
     "output_type": "execute_result"
    }
   ],
   "source": [
    "predictions.predictions"
   ]
  },
  {
   "cell_type": "code",
   "execution_count": 26,
   "metadata": {
    "id": "GqQG_UvsqAXV"
   },
   "outputs": [
    {
     "data": {
      "text/plain": [
       "array([0, 1, 0, ..., 0, 0, 0])"
      ]
     },
     "execution_count": 26,
     "metadata": {},
     "output_type": "execute_result"
    }
   ],
   "source": [
    "y_pred = np.argmax(predictions.predictions, axis=-1)\n",
    "y_pred"
   ]
  },
  {
   "cell_type": "code",
   "execution_count": 27,
   "metadata": {},
   "outputs": [
    {
     "data": {
      "text/html": [
       "\n",
       "    <div>\n",
       "      \n",
       "      <progress value='37' max='37' style='width:300px; height:20px; vertical-align: middle;'></progress>\n",
       "      [37/37 00:00]\n",
       "    </div>\n",
       "    "
      ],
      "text/plain": [
       "<IPython.core.display.HTML object>"
      ]
     },
     "metadata": {},
     "output_type": "display_data"
    },
    {
     "data": {
      "text/plain": [
       "{'eval_loss': 1.1289728879928589,\n",
       " 'eval_accuracy': 0.9852558542931483,\n",
       " 'eval_recall': 0.35294117647058826,\n",
       " 'eval_precision': 0.5,\n",
       " 'eval_f1': 0.41379310344827586,\n",
       " 'eval_runtime': 4.6286,\n",
       " 'eval_samples_per_second': 498.202,\n",
       " 'eval_steps_per_second': 7.994,\n",
       " 'epoch': 9.0}"
      ]
     },
     "execution_count": 27,
     "metadata": {},
     "output_type": "execute_result"
    }
   ],
   "source": [
    "trainer.evaluate()"
   ]
  },
  {
   "cell_type": "code",
   "execution_count": 28,
   "metadata": {
    "id": "athSKeXvraLC"
   },
   "outputs": [
    {
     "data": {
      "text/plain": [
       "34"
      ]
     },
     "execution_count": 28,
     "metadata": {},
     "output_type": "execute_result"
    }
   ],
   "source": [
    "y_test.sum()"
   ]
  },
  {
   "cell_type": "code",
   "execution_count": 29,
   "metadata": {
    "id": "CuX5MHp_7j3k"
   },
   "outputs": [
    {
     "data": {
      "text/plain": [
       "24"
      ]
     },
     "execution_count": 29,
     "metadata": {},
     "output_type": "execute_result"
    }
   ],
   "source": [
    "# senolytics predicted\n",
    "y_pred.sum()"
   ]
  },
  {
   "cell_type": "code",
   "execution_count": 30,
   "metadata": {
    "id": "5QG0sQUi7oKK"
   },
   "outputs": [
    {
     "data": {
      "text/plain": [
       "[{'loss': 0.5836,\n",
       "  'learning_rate': 8.464104250011278e-05,\n",
       "  'epoch': 1.0,\n",
       "  'step': 337},\n",
       " {'eval_loss': 1.3677161931991577,\n",
       "  'eval_accuracy': 0.9878577623590633,\n",
       "  'eval_recall': 0.17647058823529413,\n",
       "  'eval_precision': 1.0,\n",
       "  'eval_f1': 0.3,\n",
       "  'eval_runtime': 5.4572,\n",
       "  'eval_samples_per_second': 422.558,\n",
       "  'eval_steps_per_second': 6.78,\n",
       "  'epoch': 1.0,\n",
       "  'step': 337},\n",
       " {'loss': 0.4553,\n",
       "  'learning_rate': 7.406091218759868e-05,\n",
       "  'epoch': 2.0,\n",
       "  'step': 674},\n",
       " {'eval_loss': 1.2845922708511353,\n",
       "  'eval_accuracy': 0.9861231569817867,\n",
       "  'eval_recall': 0.3235294117647059,\n",
       "  'eval_precision': 0.55,\n",
       "  'eval_f1': 0.4074074074074075,\n",
       "  'eval_runtime': 4.7434,\n",
       "  'eval_samples_per_second': 486.153,\n",
       "  'eval_steps_per_second': 7.8,\n",
       "  'epoch': 2.0,\n",
       "  'step': 674},\n",
       " {'loss': 0.3677,\n",
       "  'learning_rate': 6.348078187508458e-05,\n",
       "  'epoch': 3.0,\n",
       "  'step': 1011},\n",
       " {'eval_loss': 1.3664705753326416,\n",
       "  'eval_accuracy': 0.9874241110147441,\n",
       "  'eval_recall': 0.3235294117647059,\n",
       "  'eval_precision': 0.6470588235294118,\n",
       "  'eval_f1': 0.4313725490196078,\n",
       "  'eval_runtime': 4.7063,\n",
       "  'eval_samples_per_second': 489.98,\n",
       "  'eval_steps_per_second': 7.862,\n",
       "  'epoch': 3.0,\n",
       "  'step': 1011},\n",
       " {'loss': 0.3144,\n",
       "  'learning_rate': 5.290065156257049e-05,\n",
       "  'epoch': 4.0,\n",
       "  'step': 1348},\n",
       " {'eval_loss': 1.1289728879928589,\n",
       "  'eval_accuracy': 0.9852558542931483,\n",
       "  'eval_recall': 0.35294117647058826,\n",
       "  'eval_precision': 0.5,\n",
       "  'eval_f1': 0.41379310344827586,\n",
       "  'eval_runtime': 4.6177,\n",
       "  'eval_samples_per_second': 499.378,\n",
       "  'eval_steps_per_second': 8.013,\n",
       "  'epoch': 4.0,\n",
       "  'step': 1348},\n",
       " {'loss': 0.2453,\n",
       "  'learning_rate': 4.232052125005639e-05,\n",
       "  'epoch': 5.0,\n",
       "  'step': 1685},\n",
       " {'eval_loss': 1.3792543411254883,\n",
       "  'eval_accuracy': 0.9874241110147441,\n",
       "  'eval_recall': 0.35294117647058826,\n",
       "  'eval_precision': 0.631578947368421,\n",
       "  'eval_f1': 0.45283018867924524,\n",
       "  'eval_runtime': 4.6753,\n",
       "  'eval_samples_per_second': 493.232,\n",
       "  'eval_steps_per_second': 7.914,\n",
       "  'epoch': 5.0,\n",
       "  'step': 1685},\n",
       " {'loss': 0.1997,\n",
       "  'learning_rate': 3.174039093754229e-05,\n",
       "  'epoch': 6.0,\n",
       "  'step': 2022},\n",
       " {'eval_loss': 1.2856991291046143,\n",
       "  'eval_accuracy': 0.98438855160451,\n",
       "  'eval_recall': 0.35294117647058826,\n",
       "  'eval_precision': 0.46153846153846156,\n",
       "  'eval_f1': 0.4000000000000001,\n",
       "  'eval_runtime': 4.6043,\n",
       "  'eval_samples_per_second': 500.839,\n",
       "  'eval_steps_per_second': 8.036,\n",
       "  'epoch': 6.0,\n",
       "  'step': 2022},\n",
       " {'loss': 0.1625,\n",
       "  'learning_rate': 2.1160260625028195e-05,\n",
       "  'epoch': 7.0,\n",
       "  'step': 2359},\n",
       " {'eval_loss': 1.4940768480300903,\n",
       "  'eval_accuracy': 0.9865568083261058,\n",
       "  'eval_recall': 0.35294117647058826,\n",
       "  'eval_precision': 0.5714285714285714,\n",
       "  'eval_f1': 0.43636363636363634,\n",
       "  'eval_runtime': 4.4086,\n",
       "  'eval_samples_per_second': 523.064,\n",
       "  'eval_steps_per_second': 8.393,\n",
       "  'epoch': 7.0,\n",
       "  'step': 2359},\n",
       " {'loss': 0.1448,\n",
       "  'learning_rate': 1.0580130312514098e-05,\n",
       "  'epoch': 8.0,\n",
       "  'step': 2696},\n",
       " {'eval_loss': 1.5413997173309326,\n",
       "  'eval_accuracy': 0.9865568083261058,\n",
       "  'eval_recall': 0.35294117647058826,\n",
       "  'eval_precision': 0.5714285714285714,\n",
       "  'eval_f1': 0.43636363636363634,\n",
       "  'eval_runtime': 4.4871,\n",
       "  'eval_samples_per_second': 513.921,\n",
       "  'eval_steps_per_second': 8.246,\n",
       "  'epoch': 8.0,\n",
       "  'step': 2696},\n",
       " {'loss': 0.1348, 'learning_rate': 0.0, 'epoch': 9.0, 'step': 3033},\n",
       " {'eval_loss': 1.5103168487548828,\n",
       "  'eval_accuracy': 0.9856895056374675,\n",
       "  'eval_recall': 0.35294117647058826,\n",
       "  'eval_precision': 0.5217391304347826,\n",
       "  'eval_f1': 0.4210526315789474,\n",
       "  'eval_runtime': 4.698,\n",
       "  'eval_samples_per_second': 490.851,\n",
       "  'eval_steps_per_second': 7.876,\n",
       "  'epoch': 9.0,\n",
       "  'step': 3033},\n",
       " {'train_runtime': 112.3684,\n",
       "  'train_samples_per_second': 430.744,\n",
       "  'train_steps_per_second': 26.992,\n",
       "  'total_flos': 212557916583648.0,\n",
       "  'train_loss': 0.28979223033126494,\n",
       "  'epoch': 9.0,\n",
       "  'step': 3033},\n",
       " {'eval_loss': 1.1289728879928589,\n",
       "  'eval_accuracy': 0.9852558542931483,\n",
       "  'eval_recall': 0.35294117647058826,\n",
       "  'eval_precision': 0.5,\n",
       "  'eval_f1': 0.41379310344827586,\n",
       "  'eval_runtime': 4.6286,\n",
       "  'eval_samples_per_second': 498.202,\n",
       "  'eval_steps_per_second': 7.994,\n",
       "  'epoch': 9.0,\n",
       "  'step': 3033}]"
      ]
     },
     "execution_count": 30,
     "metadata": {},
     "output_type": "execute_result"
    }
   ],
   "source": [
    "trainer.state.log_history\n",
    "\n"
   ]
  },
  {
   "cell_type": "code",
   "execution_count": 31,
   "metadata": {
    "id": "fV2PWhiFZbP_"
   },
   "outputs": [],
   "source": [
    "training_losses = [element['loss'] for element in trainer.state.log_history if 'loss' in element.keys()]\n",
    "val_losses = [element['eval_loss'] for element in trainer.state.log_history if 'eval_loss' in element.keys()]"
   ]
  },
  {
   "cell_type": "code",
   "execution_count": 32,
   "metadata": {
    "id": "5qHIg_KbZ1px"
   },
   "outputs": [
    {
     "data": {
      "image/png": "[encoded data removed]",
      "text/plain": [
       "<Figure size 640x480 with 1 Axes>"
      ]
     },
     "metadata": {},
     "output_type": "display_data"
    }
   ],
   "source": [
    "plt.plot(training_losses)\n",
    "plt.plot(val_losses)\n",
    "plt.title(\"Train and validation loss\")\n",
    "plt.xlabel(\"Epoch\")\n",
    "plt.ylabel('Loss')\n",
    "plt.xticks([i for i in range(0,len(val_losses))])\n",
    "plt.legend(['Train', 'Validation'])\n",
    "plt.show()"
   ]
  },
  {
   "cell_type": "code",
   "execution_count": 33,
   "metadata": {
    "id": "-hF5zaSDteh1"
   },
   "outputs": [
    {
     "name": "stdout",
     "output_type": "stream",
     "text": [
      "Accuracy: 0.9852558542931483\n",
      "Precision: 0.5\n",
      "Recall: 0.35294117647058826\n",
      "F1: 0.41379310344827586\n",
      "\n",
      "\n"
     ]
    },
    {
     "data": {
      "image/png": "[encoded data removed]",
      "text/plain": [
       "<Figure size 640x480 with 2 Axes>"
      ]
     },
     "metadata": {},
     "output_type": "display_data"
    }
   ],
   "source": [
    "from sklearn.metrics import (\n",
    "    accuracy_score,\n",
    "    classification_report,\n",
    "    confusion_matrix,\n",
    "    f1_score,\n",
    "    make_scorer,\n",
    "    precision_score,\n",
    "    recall_score,\n",
    "    ConfusionMatrixDisplay,\n",
    ")\n",
    "\n",
    "\n",
    "print(\"Accuracy:\", accuracy_score(y_test, y_pred))\n",
    "print(\"Precision:\", precision_score(y_test, y_pred))\n",
    "print(\"Recall:\", recall_score(y_test, y_pred))\n",
    "print(\"F1:\", f1_score(y_test, y_pred))\n",
    "\n",
    "\n",
    "print(\"\\n\")\n",
    "cm = confusion_matrix(y_test, y_pred)\n",
    "\n",
    "disp = ConfusionMatrixDisplay(confusion_matrix=cm)\n",
    "\n",
    "\n",
    "disp.plot()\n",
    "\n",
    "plt.show()\n",
    "\n",
    "\n"
   ]
  },
  {
   "cell_type": "code",
   "execution_count": 34,
   "metadata": {
    "id": "pE2ZM8FXu_aO"
   },
   "outputs": [
    {
     "data": {
      "image/png": "[encoded data removed]",
      "text/plain": [
       "<Figure size 640x480 with 1 Axes>"
      ]
     },
     "metadata": {},
     "output_type": "display_data"
    }
   ],
   "source": [
    "#https://scikit-learn.org/stable/modules/generated/sklearn.metrics.PrecisionRecallDisplay.html\n",
    "from sklearn.metrics import (precision_recall_curve,\n",
    "                              PrecisionRecallDisplay)\n",
    "\n",
    "disp = PrecisionRecallDisplay.from_predictions(y_test, y_pred)\n",
    "plt.show()\n",
    "\n"
   ]
  },
  {
   "cell_type": "code",
   "execution_count": 35,
   "metadata": {
    "colab": {
     "base_uri": "https://localhost:8080/"
    },
    "id": "DG4kSuxgxb8X",
    "outputId": "e2e1b720-c53d-4dbb-ad40-b38ce46d0f1e"
   },
   "outputs": [
    {
     "name": "stdout",
     "output_type": "stream",
     "text": [
      "[85, 277, 444, 505, 575, 690, 826, 939, 1121, 1514, 1576, 1776]\n"
     ]
    }
   ],
   "source": [
    "# https://stackoverflow.com/questions/67432457/python-get-the-index-of-two-list-where-the-values-are-the-same\n",
    "print([i for i, v in enumerate(list(y_pred)) if v == list(y_test)[i] and v==1])"
   ]
  },
  {
   "cell_type": "code",
   "execution_count": 46,
   "metadata": {
    "id": "ESeeSJV6x1mi"
   },
   "outputs": [],
   "source": [
    "#X_test.iloc[213]"
   ]
  },
  {
   "cell_type": "code",
   "execution_count": 36,
   "metadata": {
    "colab": {
     "base_uri": "https://localhost:8080/"
    },
    "id": "peULwIvIyMEo",
    "outputId": "e6209437-c3fe-4ba2-88c7-c01f8a152d14"
   },
   "outputs": [
    {
     "name": "stdout",
     "output_type": "stream",
     "text": [
      "SMILES    CN1CCN(c2cc3c(cc2F)c(=O)c(C(=O)O)cn3-c2ccc(F)c...\n",
      "Name: 798, dtype: object\n",
      "SMILES    CN(C)[C@@H]1C(O)=C(C(N)=O)C(=O)[C@@]2(O)C(O)=C...\n",
      "Name: 2141, dtype: object\n",
      "SMILES    CC1CN(c2c(F)c(N)c3c(=O)c(C(=O)O)cn(C4CC4)c3c2F...\n",
      "Name: 2040, dtype: object\n",
      "SMILES    CC1(C)C(C(=O)O)N2C(=O)C[C@H]2S1(=O)=O\n",
      "Name: 2061, dtype: object\n",
      "SMILES    COc1c(N2C[C@@H]3CCCN[C@@H]3C2)c(F)cc2c(=O)c(C(...\n",
      "Name: 1527, dtype: object\n",
      "SMILES    N[C@@H](C(=O)N[C@@H]1C(=O)N2C(C(=O)O)=C(Cl)CS[...\n",
      "Name: 495, dtype: object\n",
      "SMILES    CO/N=C1\\CN(c2nc3c(cc2F)c(=O)c(C(=O)O)cn3C2CC2)...\n",
      "Name: 2581, dtype: object\n",
      "SMILES    CC1CCc2cc(F)cc3c(=O)c(C(=O)O)cn1c23\n",
      "Name: 1033, dtype: object\n",
      "SMILES    CO[C@H]1/C=C/O[C@@]2(C)Oc3c(C)c(O)c4c(O)c(c(C=...\n",
      "Name: 1940, dtype: object\n",
      "SMILES    CCCCCCCCCCCCCCCCCC(=O)O.CC[C@H]1OC(=O)[C@H](C)...\n",
      "Name: 932, dtype: object\n",
      "SMILES    O=C(O)c1cn(C2CC2)c2cc(N3CCNCC3)c(F)cc2c1=O\n",
      "Name: 602, dtype: object\n",
      "SMILES    CCn1cc(C(=O)O)c(=O)c2cc(F)c(N3CCNC(C)C3)c(F)c2...\n",
      "Name: 1363, dtype: object\n"
     ]
    }
   ],
   "source": [
    "#where they equal\n",
    "correct_predictions_indices = [i for i, v in enumerate(list(y_pred)) if v == list(y_test)[i] and v==1]\n",
    "\n",
    "for prediction_index in correct_predictions_indices:\n",
    "    print(X_test.iloc[prediction_index])"
   ]
  },
  {
   "cell_type": "code",
   "execution_count": 37,
   "metadata": {},
   "outputs": [
    {
     "name": "stdout",
     "output_type": "stream",
     "text": [
      "DIFLOXACIN HYDROCHLORIDE\n",
      "TETRACYCLINE HYDROCHLORIDE\n",
      "SPARFLOXACIN\n",
      "SULBACTAM\n",
      "MOXIFLOXACIN HYDROCHLORIDE\n",
      "CEFACLOR\n",
      "BRD-A40787240\n",
      "FLUMEQUINE\n",
      "RIFAMPIN\n",
      "ERYTHROMYCIN STEARATE\n",
      "CIPROFLOXACIN\n",
      "LOMEFLOXACIN HYDROCHLORIDE\n"
     ]
    }
   ],
   "source": [
    "#where they equal\n",
    "correct_predictions_indices = [i for i, v in enumerate(list(y_pred)) if v == list(y_test)[i] and v==1]\n",
    "\n",
    "for prediction_index in correct_predictions_indices:\n",
    "    print(antibiotics_df.loc[X_test.iloc[[prediction_index]].index[0]]['Name'])"
   ]
  }
 ],
 "metadata": {
  "colab": {
   "provenance": []
  },
  "kernelspec": {
   "display_name": "Python 3 (ipykernel)",
   "language": "python",
   "name": "python3"
  },
  "language_info": {
   "codemirror_mode": {
    "name": "ipython",
    "version": 3
   },
   "file_extension": ".py",
   "mimetype": "text/x-python",
   "name": "python",
   "nbconvert_exporter": "python",
   "pygments_lexer": "ipython3",
   "version": "3.10.12"
  },
  "widgets": {
   "application/vnd.jupyter.widget-state+json": {
    "091723f2ddaa43b98f16a4756fd02390": {
     "model_module": "@jupyter-widgets/controls",
     "model_module_version": "1.5.0",
     "model_name": "FloatProgressModel",
     "state": {
      "_dom_classes": [],
      "_model_module": "@jupyter-widgets/controls",
      "_model_module_version": "1.5.0",
      "_model_name": "FloatProgressModel",
      "_view_count": null,
      "_view_module": "@jupyter-widgets/controls",
      "_view_module_version": "1.5.0",
      "_view_name": "ProgressView",
      "bar_style": "success",
      "description": "",
      "description_tooltip": null,
      "layout": "IPY_MODEL_8088374a3d6f4332b642708bbd768add",
      "max": 6771,
      "min": 0,
      "orientation": "horizontal",
      "style": "IPY_MODEL_d97c6f2aac474568949ac75dcae64a78",
      "value": 6771
     }
    },
    "1bee975014d1451b9ff65d5fe1900ff3": {
     "model_module": "@jupyter-widgets/controls",
     "model_module_version": "1.5.0",
     "model_name": "HBoxModel",
     "state": {
      "_dom_classes": [],
      "_model_module": "@jupyter-widgets/controls",
      "_model_module_version": "1.5.0",
      "_model_name": "HBoxModel",
      "_view_count": null,
      "_view_module": "@jupyter-widgets/controls",
      "_view_module_version": "1.5.0",
      "_view_name": "HBoxView",
      "box_style": "",
      "children": [
       "IPY_MODEL_7f77b287bc334e3dba59b9d4c3307e46",
       "IPY_MODEL_091723f2ddaa43b98f16a4756fd02390",
       "IPY_MODEL_5d939c494595405797930594beee593d"
      ],
      "layout": "IPY_MODEL_74135322bba54fa3b6578825dbfac89f"
     }
    },
    "35f2824b2c644032a227f956719fe2a7": {
     "model_module": "@jupyter-widgets/controls",
     "model_module_version": "1.5.0",
     "model_name": "DescriptionStyleModel",
     "state": {
      "_model_module": "@jupyter-widgets/controls",
      "_model_module_version": "1.5.0",
      "_model_name": "DescriptionStyleModel",
      "_view_count": null,
      "_view_module": "@jupyter-widgets/base",
      "_view_module_version": "1.2.0",
      "_view_name": "StyleView",
      "description_width": ""
     }
    },
    "58da272eecb64352a162858fdfdb9a10": {
     "model_module": "@jupyter-widgets/base",
     "model_module_version": "1.2.0",
     "model_name": "LayoutModel",
     "state": {
      "_model_module": "@jupyter-widgets/base",
      "_model_module_version": "1.2.0",
      "_model_name": "LayoutModel",
      "_view_count": null,
      "_view_module": "@jupyter-widgets/base",
      "_view_module_version": "1.2.0",
      "_view_name": "LayoutView",
      "align_content": null,
      "align_items": null,
      "align_self": null,
      "border": null,
      "bottom": null,
      "display": null,
      "flex": null,
      "flex_flow": null,
      "grid_area": null,
      "grid_auto_columns": null,
      "grid_auto_flow": null,
      "grid_auto_rows": null,
      "grid_column": null,
      "grid_gap": null,
      "grid_row": null,
      "grid_template_areas": null,
      "grid_template_columns": null,
      "grid_template_rows": null,
      "height": null,
      "justify_content": null,
      "justify_items": null,
      "left": null,
      "margin": null,
      "max_height": null,
      "max_width": null,
      "min_height": null,
      "min_width": null,
      "object_fit": null,
      "object_position": null,
      "order": null,
      "overflow": null,
      "overflow_x": null,
      "overflow_y": null,
      "padding": null,
      "right": null,
      "top": null,
      "visibility": null,
      "width": null
     }
    },
    "5d939c494595405797930594beee593d": {
     "model_module": "@jupyter-widgets/controls",
     "model_module_version": "1.5.0",
     "model_name": "HTMLModel",
     "state": {
      "_dom_classes": [],
      "_model_module": "@jupyter-widgets/controls",
      "_model_module_version": "1.5.0",
      "_model_name": "HTMLModel",
      "_view_count": null,
      "_view_module": "@jupyter-widgets/controls",
      "_view_module_version": "1.5.0",
      "_view_name": "HTMLView",
      "description": "",
      "description_tooltip": null,
      "layout": "IPY_MODEL_58da272eecb64352a162858fdfdb9a10",
      "placeholder": "​",
      "style": "IPY_MODEL_f5f0d29fc0ef4fcfb09f17906c822687",
      "value": " 6.77k/6.77k [00:00&lt;00:00, 224kB/s]"
     }
    },
    "74135322bba54fa3b6578825dbfac89f": {
     "model_module": "@jupyter-widgets/base",
     "model_module_version": "1.2.0",
     "model_name": "LayoutModel",
     "state": {
      "_model_module": "@jupyter-widgets/base",
      "_model_module_version": "1.2.0",
      "_model_name": "LayoutModel",
      "_view_count": null,
      "_view_module": "@jupyter-widgets/base",
      "_view_module_version": "1.2.0",
      "_view_name": "LayoutView",
      "align_content": null,
      "align_items": null,
      "align_self": null,
      "border": null,
      "bottom": null,
      "display": null,
      "flex": null,
      "flex_flow": null,
      "grid_area": null,
      "grid_auto_columns": null,
      "grid_auto_flow": null,
      "grid_auto_rows": null,
      "grid_column": null,
      "grid_gap": null,
      "grid_row": null,
      "grid_template_areas": null,
      "grid_template_columns": null,
      "grid_template_rows": null,
      "height": null,
      "justify_content": null,
      "justify_items": null,
      "left": null,
      "margin": null,
      "max_height": null,
      "max_width": null,
      "min_height": null,
      "min_width": null,
      "object_fit": null,
      "object_position": null,
      "order": null,
      "overflow": null,
      "overflow_x": null,
      "overflow_y": null,
      "padding": null,
      "right": null,
      "top": null,
      "visibility": null,
      "width": null
     }
    },
    "7f77b287bc334e3dba59b9d4c3307e46": {
     "model_module": "@jupyter-widgets/controls",
     "model_module_version": "1.5.0",
     "model_name": "HTMLModel",
     "state": {
      "_dom_classes": [],
      "_model_module": "@jupyter-widgets/controls",
      "_model_module_version": "1.5.0",
      "_model_name": "HTMLModel",
      "_view_count": null,
      "_view_module": "@jupyter-widgets/controls",
      "_view_module_version": "1.5.0",
      "_view_name": "HTMLView",
      "description": "",
      "description_tooltip": null,
      "layout": "IPY_MODEL_9781d331577d4612bcabe465634f52a2",
      "placeholder": "​",
      "style": "IPY_MODEL_35f2824b2c644032a227f956719fe2a7",
      "value": "Downloading builder script: 100%"
     }
    },
    "8088374a3d6f4332b642708bbd768add": {
     "model_module": "@jupyter-widgets/base",
     "model_module_version": "1.2.0",
     "model_name": "LayoutModel",
     "state": {
      "_model_module": "@jupyter-widgets/base",
      "_model_module_version": "1.2.0",
      "_model_name": "LayoutModel",
      "_view_count": null,
      "_view_module": "@jupyter-widgets/base",
      "_view_module_version": "1.2.0",
      "_view_name": "LayoutView",
      "align_content": null,
      "align_items": null,
      "align_self": null,
      "border": null,
      "bottom": null,
      "display": null,
      "flex": null,
      "flex_flow": null,
      "grid_area": null,
      "grid_auto_columns": null,
      "grid_auto_flow": null,
      "grid_auto_rows": null,
      "grid_column": null,
      "grid_gap": null,
      "grid_row": null,
      "grid_template_areas": null,
      "grid_template_columns": null,
      "grid_template_rows": null,
      "height": null,
      "justify_content": null,
      "justify_items": null,
      "left": null,
      "margin": null,
      "max_height": null,
      "max_width": null,
      "min_height": null,
      "min_width": null,
      "object_fit": null,
      "object_position": null,
      "order": null,
      "overflow": null,
      "overflow_x": null,
      "overflow_y": null,
      "padding": null,
      "right": null,
      "top": null,
      "visibility": null,
      "width": null
     }
    },
    "9781d331577d4612bcabe465634f52a2": {
     "model_module": "@jupyter-widgets/base",
     "model_module_version": "1.2.0",
     "model_name": "LayoutModel",
     "state": {
      "_model_module": "@jupyter-widgets/base",
      "_model_module_version": "1.2.0",
      "_model_name": "LayoutModel",
      "_view_count": null,
      "_view_module": "@jupyter-widgets/base",
      "_view_module_version": "1.2.0",
      "_view_name": "LayoutView",
      "align_content": null,
      "align_items": null,
      "align_self": null,
      "border": null,
      "bottom": null,
      "display": null,
      "flex": null,
      "flex_flow": null,
      "grid_area": null,
      "grid_auto_columns": null,
      "grid_auto_flow": null,
      "grid_auto_rows": null,
      "grid_column": null,
      "grid_gap": null,
      "grid_row": null,
      "grid_template_areas": null,
      "grid_template_columns": null,
      "grid_template_rows": null,
      "height": null,
      "justify_content": null,
      "justify_items": null,
      "left": null,
      "margin": null,
      "max_height": null,
      "max_width": null,
      "min_height": null,
      "min_width": null,
      "object_fit": null,
      "object_position": null,
      "order": null,
      "overflow": null,
      "overflow_x": null,
      "overflow_y": null,
      "padding": null,
      "right": null,
      "top": null,
      "visibility": null,
      "width": null
     }
    },
    "d97c6f2aac474568949ac75dcae64a78": {
     "model_module": "@jupyter-widgets/controls",
     "model_module_version": "1.5.0",
     "model_name": "ProgressStyleModel",
     "state": {
      "_model_module": "@jupyter-widgets/controls",
      "_model_module_version": "1.5.0",
      "_model_name": "ProgressStyleModel",
      "_view_count": null,
      "_view_module": "@jupyter-widgets/base",
      "_view_module_version": "1.2.0",
      "_view_name": "StyleView",
      "bar_color": null,
      "description_width": ""
     }
    },
    "f5f0d29fc0ef4fcfb09f17906c822687": {
     "model_module": "@jupyter-widgets/controls",
     "model_module_version": "1.5.0",
     "model_name": "DescriptionStyleModel",
     "state": {
      "_model_module": "@jupyter-widgets/controls",
      "_model_module_version": "1.5.0",
      "_model_name": "DescriptionStyleModel",
      "_view_count": null,
      "_view_module": "@jupyter-widgets/base",
      "_view_module_version": "1.2.0",
      "_view_name": "StyleView",
      "description_width": ""
     }
    }
   }
  }
 },
 "nbformat": 4,
 "nbformat_minor": 4
}
