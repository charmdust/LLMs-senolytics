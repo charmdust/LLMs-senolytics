{
 "cells": [
  {
   "cell_type": "markdown",
   "metadata": {
    "id": "kferES7hG0qd"
   },
   "source": [
    "Test out a custom trainer that takes class weights into account"
   ]
  },
  {
   "cell_type": "code",
   "execution_count": 1,
   "metadata": {
    "id": "ibDj9sQ01PBI"
   },
   "outputs": [
    {
     "name": "stderr",
     "output_type": "stream",
     "text": [
      "/home/losullivan/.local/lib/python3.10/site-packages/tqdm/auto.py:21: TqdmWarning: IProgress not found. Please update jupyter and ipywidgets. See https://ipywidgets.readthedocs.io/en/stable/user_install.html\n",
      "  from .autonotebook import tqdm as notebook_tqdm\n",
      "2023-11-27 11:58:28.025117: E tensorflow/compiler/xla/stream_executor/cuda/cuda_dnn.cc:9342] Unable to register cuDNN factory: Attempting to register factory for plugin cuDNN when one has already been registered\n",
      "2023-11-27 11:58:28.025157: E tensorflow/compiler/xla/stream_executor/cuda/cuda_fft.cc:609] Unable to register cuFFT factory: Attempting to register factory for plugin cuFFT when one has already been registered\n",
      "2023-11-27 11:58:28.025192: E tensorflow/compiler/xla/stream_executor/cuda/cuda_blas.cc:1518] Unable to register cuBLAS factory: Attempting to register factory for plugin cuBLAS when one has already been registered\n",
      "2023-11-27 11:58:28.032128: I tensorflow/core/platform/cpu_feature_guard.cc:182] This TensorFlow binary is optimized to use available CPU instructions in performance-critical operations.\n",
      "To enable the following instructions: AVX2 FMA, in other operations, rebuild TensorFlow with the appropriate compiler flags.\n",
      "2023-11-27 11:58:29.384454: W tensorflow/compiler/tf2tensorrt/utils/py_utils.cc:38] TF-TRT Warning: Could not find TensorRT\n"
     ]
    }
   ],
   "source": [
    "import pandas as pd\n",
    "import os\n",
    "import time\n",
    "from typing import List\n",
    "\n",
    "import pandas as pd\n",
    "import numpy as np\n",
    "\n",
    "import seaborn as sns\n",
    "import matplotlib.pyplot as plt\n",
    "\n",
    "from transformers import AutoTokenizer, AutoModel, AutoConfig, AutoModelForSequenceClassification\n",
    "import torch\n",
    "\n",
    "from transformers import TrainingArguments, Trainer\n",
    "\n",
    "import evaluate\n",
    "\n",
    "\n",
    "from sklearn.utils.class_weight import compute_class_weight\n",
    "\n",
    "import hyperopt\n",
    "\n",
    "from torch import nn\n",
    "from transformers import Trainer\n"
   ]
  },
  {
   "cell_type": "code",
   "execution_count": 2,
   "metadata": {
    "colab": {
     "base_uri": "https://localhost:8080/",
     "height": 843
    },
    "id": "kA15Apw11PJm",
    "outputId": "bfb3e696-9215-41fd-ecae-40b007f00a0b",
    "scrolled": true
   },
   "outputs": [
    {
     "data": {
      "text/html": [
       "<div>\n",
       "<style scoped>\n",
       "    .dataframe tbody tr th:only-of-type {\n",
       "        vertical-align: middle;\n",
       "    }\n",
       "\n",
       "    .dataframe tbody tr th {\n",
       "        vertical-align: top;\n",
       "    }\n",
       "\n",
       "    .dataframe thead th {\n",
       "        text-align: right;\n",
       "    }\n",
       "</style>\n",
       "<table border=\"1\" class=\"dataframe\">\n",
       "  <thead>\n",
       "    <tr style=\"text-align: right;\">\n",
       "      <th></th>\n",
       "      <th>Name</th>\n",
       "      <th>senolytic</th>\n",
       "      <th>Library</th>\n",
       "      <th>Source</th>\n",
       "      <th>SMILES</th>\n",
       "      <th>BalabanJ</th>\n",
       "      <th>BertzCT</th>\n",
       "      <th>Chi0</th>\n",
       "      <th>Chi0n</th>\n",
       "      <th>Chi0v</th>\n",
       "      <th>...</th>\n",
       "      <th>fr_sulfonamd</th>\n",
       "      <th>fr_sulfone</th>\n",
       "      <th>fr_term_acetylene</th>\n",
       "      <th>fr_tetrazole</th>\n",
       "      <th>fr_thiazole</th>\n",
       "      <th>fr_thiocyan</th>\n",
       "      <th>fr_thiophene</th>\n",
       "      <th>fr_unbrch_alkane</th>\n",
       "      <th>fr_urea</th>\n",
       "      <th>qed</th>\n",
       "    </tr>\n",
       "  </thead>\n",
       "  <tbody>\n",
       "    <tr>\n",
       "      <th>0</th>\n",
       "      <td>Azaguanine-8</td>\n",
       "      <td>0</td>\n",
       "      <td>Prestwick</td>\n",
       "      <td>Not identified</td>\n",
       "      <td>c12/N=C(\\NC(c1nn[nH]2)=O)/N</td>\n",
       "      <td>3.024307</td>\n",
       "      <td>441.024163</td>\n",
       "      <td>7.844935</td>\n",
       "      <td>5.327239</td>\n",
       "      <td>5.327239</td>\n",
       "      <td>...</td>\n",
       "      <td>0</td>\n",
       "      <td>0</td>\n",
       "      <td>0</td>\n",
       "      <td>0</td>\n",
       "      <td>0</td>\n",
       "      <td>0</td>\n",
       "      <td>0</td>\n",
       "      <td>0</td>\n",
       "      <td>0</td>\n",
       "      <td>0.430316</td>\n",
       "    </tr>\n",
       "    <tr>\n",
       "      <th>1</th>\n",
       "      <td>Allantoin</td>\n",
       "      <td>0</td>\n",
       "      <td>Prestwick</td>\n",
       "      <td>Not identified</td>\n",
       "      <td>N1C(NC(C1=O)NC(=O)N)=O</td>\n",
       "      <td>2.534439</td>\n",
       "      <td>225.377060</td>\n",
       "      <td>8.430721</td>\n",
       "      <td>5.379445</td>\n",
       "      <td>5.379445</td>\n",
       "      <td>...</td>\n",
       "      <td>0</td>\n",
       "      <td>0</td>\n",
       "      <td>0</td>\n",
       "      <td>0</td>\n",
       "      <td>0</td>\n",
       "      <td>0</td>\n",
       "      <td>0</td>\n",
       "      <td>0</td>\n",
       "      <td>2</td>\n",
       "      <td>0.325138</td>\n",
       "    </tr>\n",
       "    <tr>\n",
       "      <th>2</th>\n",
       "      <td>Acetazolamide</td>\n",
       "      <td>0</td>\n",
       "      <td>Prestwick</td>\n",
       "      <td>Not identified</td>\n",
       "      <td>c1(S(=O)(=O)N)sc(nn1)NC(=O)C</td>\n",
       "      <td>2.938691</td>\n",
       "      <td>422.352468</td>\n",
       "      <td>10.060478</td>\n",
       "      <td>6.513019</td>\n",
       "      <td>8.146012</td>\n",
       "      <td>...</td>\n",
       "      <td>1</td>\n",
       "      <td>0</td>\n",
       "      <td>0</td>\n",
       "      <td>0</td>\n",
       "      <td>0</td>\n",
       "      <td>0</td>\n",
       "      <td>0</td>\n",
       "      <td>0</td>\n",
       "      <td>0</td>\n",
       "      <td>0.631859</td>\n",
       "    </tr>\n",
       "    <tr>\n",
       "      <th>3</th>\n",
       "      <td>Metformin hydrochloride</td>\n",
       "      <td>0</td>\n",
       "      <td>Prestwick</td>\n",
       "      <td>Not identified</td>\n",
       "      <td>C(NC(=N)N)(=N)N(C)C</td>\n",
       "      <td>3.644486</td>\n",
       "      <td>126.919685</td>\n",
       "      <td>7.439158</td>\n",
       "      <td>5.524564</td>\n",
       "      <td>5.524564</td>\n",
       "      <td>...</td>\n",
       "      <td>0</td>\n",
       "      <td>0</td>\n",
       "      <td>0</td>\n",
       "      <td>0</td>\n",
       "      <td>0</td>\n",
       "      <td>0</td>\n",
       "      <td>0</td>\n",
       "      <td>0</td>\n",
       "      <td>0</td>\n",
       "      <td>0.248785</td>\n",
       "    </tr>\n",
       "    <tr>\n",
       "      <th>4</th>\n",
       "      <td>Atracurium besylate</td>\n",
       "      <td>0</td>\n",
       "      <td>Prestwick</td>\n",
       "      <td>Not identified</td>\n",
       "      <td>[N+]1(C(c2c(cc(c(c2)OC)OC)CC1)Cc1cc(c(cc1)OC)O...</td>\n",
       "      <td>0.987040</td>\n",
       "      <td>2158.836594</td>\n",
       "      <td>48.141042</td>\n",
       "      <td>41.328212</td>\n",
       "      <td>41.328212</td>\n",
       "      <td>...</td>\n",
       "      <td>0</td>\n",
       "      <td>0</td>\n",
       "      <td>0</td>\n",
       "      <td>0</td>\n",
       "      <td>0</td>\n",
       "      <td>0</td>\n",
       "      <td>0</td>\n",
       "      <td>4</td>\n",
       "      <td>0</td>\n",
       "      <td>0.038349</td>\n",
       "    </tr>\n",
       "    <tr>\n",
       "      <th>...</th>\n",
       "      <td>...</td>\n",
       "      <td>...</td>\n",
       "      <td>...</td>\n",
       "      <td>...</td>\n",
       "      <td>...</td>\n",
       "      <td>...</td>\n",
       "      <td>...</td>\n",
       "      <td>...</td>\n",
       "      <td>...</td>\n",
       "      <td>...</td>\n",
       "      <td>...</td>\n",
       "      <td>...</td>\n",
       "      <td>...</td>\n",
       "      <td>...</td>\n",
       "      <td>...</td>\n",
       "      <td>...</td>\n",
       "      <td>...</td>\n",
       "      <td>...</td>\n",
       "      <td>...</td>\n",
       "      <td>...</td>\n",
       "      <td>...</td>\n",
       "    </tr>\n",
       "    <tr>\n",
       "      <th>2518</th>\n",
       "      <td>Curcumin</td>\n",
       "      <td>1</td>\n",
       "      <td>GPNCL, ENZO</td>\n",
       "      <td>Source 12 - Yousefzadeh et al, 2018</td>\n",
       "      <td>COC1=C(C=CC(=C1)/C=C/C(=O)CC(=O)/C=C/C2=CC(=C(...</td>\n",
       "      <td>1.958861</td>\n",
       "      <td>822.040000</td>\n",
       "      <td>19.811190</td>\n",
       "      <td>15.008030</td>\n",
       "      <td>15.008030</td>\n",
       "      <td>...</td>\n",
       "      <td>0</td>\n",
       "      <td>0</td>\n",
       "      <td>0</td>\n",
       "      <td>0</td>\n",
       "      <td>0</td>\n",
       "      <td>0</td>\n",
       "      <td>0</td>\n",
       "      <td>0</td>\n",
       "      <td>0</td>\n",
       "      <td>0.548123</td>\n",
       "    </tr>\n",
       "    <tr>\n",
       "      <th>2519</th>\n",
       "      <td>Dasatinib</td>\n",
       "      <td>1</td>\n",
       "      <td>Unknown library, see publication source</td>\n",
       "      <td>Source 13 - Zhu et al, 2015</td>\n",
       "      <td>CC1=C(C(=CC=C1)Cl)NC(=O)C2=CN=C(S2)NC3=CC(=NC(...</td>\n",
       "      <td>1.431593</td>\n",
       "      <td>1111.432171</td>\n",
       "      <td>23.371668</td>\n",
       "      <td>18.507135</td>\n",
       "      <td>20.079560</td>\n",
       "      <td>...</td>\n",
       "      <td>0</td>\n",
       "      <td>0</td>\n",
       "      <td>0</td>\n",
       "      <td>0</td>\n",
       "      <td>1</td>\n",
       "      <td>0</td>\n",
       "      <td>0</td>\n",
       "      <td>0</td>\n",
       "      <td>0</td>\n",
       "      <td>0.465717</td>\n",
       "    </tr>\n",
       "    <tr>\n",
       "      <th>2520</th>\n",
       "      <td>Navitoclax</td>\n",
       "      <td>1</td>\n",
       "      <td>Unknown library, see publication source</td>\n",
       "      <td>Source 14 - Zhu et al, 2016</td>\n",
       "      <td>CC1(CCC(=C(C1)CN2CCN(CC2)C3=CC=C(C=C3)C(=O)NS(...</td>\n",
       "      <td>1.017180</td>\n",
       "      <td>2532.551918</td>\n",
       "      <td>46.408991</td>\n",
       "      <td>36.449290</td>\n",
       "      <td>39.654708</td>\n",
       "      <td>...</td>\n",
       "      <td>1</td>\n",
       "      <td>1</td>\n",
       "      <td>0</td>\n",
       "      <td>0</td>\n",
       "      <td>0</td>\n",
       "      <td>0</td>\n",
       "      <td>0</td>\n",
       "      <td>0</td>\n",
       "      <td>0</td>\n",
       "      <td>0.104649</td>\n",
       "    </tr>\n",
       "    <tr>\n",
       "      <th>2521</th>\n",
       "      <td>A1331852</td>\n",
       "      <td>1</td>\n",
       "      <td>Unknown library, see publication source</td>\n",
       "      <td>Source 15 - Zhu et al, 2017</td>\n",
       "      <td>O=C(NC1=NC(C=CC=C2)=C2S1)C3=C(CN(C4=CC=C(C5=C(...</td>\n",
       "      <td>0.969918</td>\n",
       "      <td>2030.733706</td>\n",
       "      <td>32.569974</td>\n",
       "      <td>26.984648</td>\n",
       "      <td>27.801144</td>\n",
       "      <td>...</td>\n",
       "      <td>0</td>\n",
       "      <td>0</td>\n",
       "      <td>0</td>\n",
       "      <td>0</td>\n",
       "      <td>1</td>\n",
       "      <td>0</td>\n",
       "      <td>0</td>\n",
       "      <td>0</td>\n",
       "      <td>0</td>\n",
       "      <td>0.185260</td>\n",
       "    </tr>\n",
       "    <tr>\n",
       "      <th>2522</th>\n",
       "      <td>A1155463</td>\n",
       "      <td>1</td>\n",
       "      <td>Unknown library, see publication source</td>\n",
       "      <td>Source 15 - Zhu et al, 2017</td>\n",
       "      <td>O=C(NC1=NC(C=CC=C2)=C2S1)C3=C(CN(C4=NC(C(O)=O)...</td>\n",
       "      <td>1.105426</td>\n",
       "      <td>1978.955255</td>\n",
       "      <td>32.915274</td>\n",
       "      <td>25.878524</td>\n",
       "      <td>27.511517</td>\n",
       "      <td>...</td>\n",
       "      <td>0</td>\n",
       "      <td>0</td>\n",
       "      <td>0</td>\n",
       "      <td>0</td>\n",
       "      <td>2</td>\n",
       "      <td>0</td>\n",
       "      <td>0</td>\n",
       "      <td>1</td>\n",
       "      <td>0</td>\n",
       "      <td>0.131321</td>\n",
       "    </tr>\n",
       "  </tbody>\n",
       "</table>\n",
       "<p>2523 rows × 205 columns</p>\n",
       "</div>"
      ],
      "text/plain": [
       "                         Name  senolytic  \\\n",
       "0                Azaguanine-8          0   \n",
       "1                   Allantoin          0   \n",
       "2               Acetazolamide          0   \n",
       "3     Metformin hydrochloride          0   \n",
       "4         Atracurium besylate          0   \n",
       "...                       ...        ...   \n",
       "2518                 Curcumin          1   \n",
       "2519                Dasatinib          1   \n",
       "2520               Navitoclax          1   \n",
       "2521                 A1331852          1   \n",
       "2522                 A1155463          1   \n",
       "\n",
       "                                      Library  \\\n",
       "0                                   Prestwick   \n",
       "1                                   Prestwick   \n",
       "2                                   Prestwick   \n",
       "3                                   Prestwick   \n",
       "4                                   Prestwick   \n",
       "...                                       ...   \n",
       "2518                              GPNCL, ENZO   \n",
       "2519  Unknown library, see publication source   \n",
       "2520  Unknown library, see publication source   \n",
       "2521  Unknown library, see publication source   \n",
       "2522  Unknown library, see publication source   \n",
       "\n",
       "                                   Source  \\\n",
       "0                          Not identified   \n",
       "1                          Not identified   \n",
       "2                          Not identified   \n",
       "3                          Not identified   \n",
       "4                          Not identified   \n",
       "...                                   ...   \n",
       "2518  Source 12 - Yousefzadeh et al, 2018   \n",
       "2519          Source 13 - Zhu et al, 2015   \n",
       "2520          Source 14 - Zhu et al, 2016   \n",
       "2521          Source 15 - Zhu et al, 2017   \n",
       "2522          Source 15 - Zhu et al, 2017   \n",
       "\n",
       "                                                 SMILES  BalabanJ  \\\n",
       "0                           c12/N=C(\\NC(c1nn[nH]2)=O)/N  3.024307   \n",
       "1                                N1C(NC(C1=O)NC(=O)N)=O  2.534439   \n",
       "2                          c1(S(=O)(=O)N)sc(nn1)NC(=O)C  2.938691   \n",
       "3                                   C(NC(=N)N)(=N)N(C)C  3.644486   \n",
       "4     [N+]1(C(c2c(cc(c(c2)OC)OC)CC1)Cc1cc(c(cc1)OC)O...  0.987040   \n",
       "...                                                 ...       ...   \n",
       "2518  COC1=C(C=CC(=C1)/C=C/C(=O)CC(=O)/C=C/C2=CC(=C(...  1.958861   \n",
       "2519  CC1=C(C(=CC=C1)Cl)NC(=O)C2=CN=C(S2)NC3=CC(=NC(...  1.431593   \n",
       "2520  CC1(CCC(=C(C1)CN2CCN(CC2)C3=CC=C(C=C3)C(=O)NS(...  1.017180   \n",
       "2521  O=C(NC1=NC(C=CC=C2)=C2S1)C3=C(CN(C4=CC=C(C5=C(...  0.969918   \n",
       "2522  O=C(NC1=NC(C=CC=C2)=C2S1)C3=C(CN(C4=NC(C(O)=O)...  1.105426   \n",
       "\n",
       "          BertzCT       Chi0      Chi0n      Chi0v  ...  fr_sulfonamd  \\\n",
       "0      441.024163   7.844935   5.327239   5.327239  ...             0   \n",
       "1      225.377060   8.430721   5.379445   5.379445  ...             0   \n",
       "2      422.352468  10.060478   6.513019   8.146012  ...             1   \n",
       "3      126.919685   7.439158   5.524564   5.524564  ...             0   \n",
       "4     2158.836594  48.141042  41.328212  41.328212  ...             0   \n",
       "...           ...        ...        ...        ...  ...           ...   \n",
       "2518   822.040000  19.811190  15.008030  15.008030  ...             0   \n",
       "2519  1111.432171  23.371668  18.507135  20.079560  ...             0   \n",
       "2520  2532.551918  46.408991  36.449290  39.654708  ...             1   \n",
       "2521  2030.733706  32.569974  26.984648  27.801144  ...             0   \n",
       "2522  1978.955255  32.915274  25.878524  27.511517  ...             0   \n",
       "\n",
       "      fr_sulfone  fr_term_acetylene  fr_tetrazole  fr_thiazole  fr_thiocyan  \\\n",
       "0              0                  0             0            0            0   \n",
       "1              0                  0             0            0            0   \n",
       "2              0                  0             0            0            0   \n",
       "3              0                  0             0            0            0   \n",
       "4              0                  0             0            0            0   \n",
       "...          ...                ...           ...          ...          ...   \n",
       "2518           0                  0             0            0            0   \n",
       "2519           0                  0             0            1            0   \n",
       "2520           1                  0             0            0            0   \n",
       "2521           0                  0             0            1            0   \n",
       "2522           0                  0             0            2            0   \n",
       "\n",
       "      fr_thiophene  fr_unbrch_alkane  fr_urea       qed  \n",
       "0                0                 0        0  0.430316  \n",
       "1                0                 0        2  0.325138  \n",
       "2                0                 0        0  0.631859  \n",
       "3                0                 0        0  0.248785  \n",
       "4                0                 4        0  0.038349  \n",
       "...            ...               ...      ...       ...  \n",
       "2518             0                 0        0  0.548123  \n",
       "2519             0                 0        0  0.465717  \n",
       "2520             0                 0        0  0.104649  \n",
       "2521             0                 0        0  0.185260  \n",
       "2522             0                 1        0  0.131321  \n",
       "\n",
       "[2523 rows x 205 columns]"
      ]
     },
     "execution_count": 2,
     "metadata": {},
     "output_type": "execute_result"
    }
   ],
   "source": [
    "# Senolytic dataset - labelled\n",
    "senolytics_df = pd.read_csv('list_of_compounds_for_training.csv')\n",
    "senolytics_df"
   ]
  },
  {
   "cell_type": "code",
   "execution_count": 3,
   "metadata": {
    "colab": {
     "base_uri": "https://localhost:8080/",
     "height": 424
    },
    "id": "OrOR9_0E1cNU",
    "outputId": "5ab03543-5a76-409c-8e50-69e6aba570ce"
   },
   "outputs": [
    {
     "data": {
      "text/html": [
       "<div>\n",
       "<style scoped>\n",
       "    .dataframe tbody tr th:only-of-type {\n",
       "        vertical-align: middle;\n",
       "    }\n",
       "\n",
       "    .dataframe tbody tr th {\n",
       "        vertical-align: top;\n",
       "    }\n",
       "\n",
       "    .dataframe thead th {\n",
       "        text-align: right;\n",
       "    }\n",
       "</style>\n",
       "<table border=\"1\" class=\"dataframe\">\n",
       "  <thead>\n",
       "    <tr style=\"text-align: right;\">\n",
       "      <th></th>\n",
       "      <th>SMILES</th>\n",
       "      <th>senolytic</th>\n",
       "    </tr>\n",
       "  </thead>\n",
       "  <tbody>\n",
       "    <tr>\n",
       "      <th>0</th>\n",
       "      <td>c12/N=C(\\NC(c1nn[nH]2)=O)/N</td>\n",
       "      <td>0</td>\n",
       "    </tr>\n",
       "    <tr>\n",
       "      <th>1</th>\n",
       "      <td>N1C(NC(C1=O)NC(=O)N)=O</td>\n",
       "      <td>0</td>\n",
       "    </tr>\n",
       "    <tr>\n",
       "      <th>2</th>\n",
       "      <td>c1(S(=O)(=O)N)sc(nn1)NC(=O)C</td>\n",
       "      <td>0</td>\n",
       "    </tr>\n",
       "    <tr>\n",
       "      <th>3</th>\n",
       "      <td>C(NC(=N)N)(=N)N(C)C</td>\n",
       "      <td>0</td>\n",
       "    </tr>\n",
       "    <tr>\n",
       "      <th>4</th>\n",
       "      <td>[N+]1(C(c2c(cc(c(c2)OC)OC)CC1)Cc1cc(c(cc1)OC)O...</td>\n",
       "      <td>0</td>\n",
       "    </tr>\n",
       "    <tr>\n",
       "      <th>...</th>\n",
       "      <td>...</td>\n",
       "      <td>...</td>\n",
       "    </tr>\n",
       "    <tr>\n",
       "      <th>2518</th>\n",
       "      <td>COC1=C(C=CC(=C1)/C=C/C(=O)CC(=O)/C=C/C2=CC(=C(...</td>\n",
       "      <td>1</td>\n",
       "    </tr>\n",
       "    <tr>\n",
       "      <th>2519</th>\n",
       "      <td>CC1=C(C(=CC=C1)Cl)NC(=O)C2=CN=C(S2)NC3=CC(=NC(...</td>\n",
       "      <td>1</td>\n",
       "    </tr>\n",
       "    <tr>\n",
       "      <th>2520</th>\n",
       "      <td>CC1(CCC(=C(C1)CN2CCN(CC2)C3=CC=C(C=C3)C(=O)NS(...</td>\n",
       "      <td>1</td>\n",
       "    </tr>\n",
       "    <tr>\n",
       "      <th>2521</th>\n",
       "      <td>O=C(NC1=NC(C=CC=C2)=C2S1)C3=C(CN(C4=CC=C(C5=C(...</td>\n",
       "      <td>1</td>\n",
       "    </tr>\n",
       "    <tr>\n",
       "      <th>2522</th>\n",
       "      <td>O=C(NC1=NC(C=CC=C2)=C2S1)C3=C(CN(C4=NC(C(O)=O)...</td>\n",
       "      <td>1</td>\n",
       "    </tr>\n",
       "  </tbody>\n",
       "</table>\n",
       "<p>2523 rows × 2 columns</p>\n",
       "</div>"
      ],
      "text/plain": [
       "                                                 SMILES  senolytic\n",
       "0                           c12/N=C(\\NC(c1nn[nH]2)=O)/N          0\n",
       "1                                N1C(NC(C1=O)NC(=O)N)=O          0\n",
       "2                          c1(S(=O)(=O)N)sc(nn1)NC(=O)C          0\n",
       "3                                   C(NC(=N)N)(=N)N(C)C          0\n",
       "4     [N+]1(C(c2c(cc(c(c2)OC)OC)CC1)Cc1cc(c(cc1)OC)O...          0\n",
       "...                                                 ...        ...\n",
       "2518  COC1=C(C=CC(=C1)/C=C/C(=O)CC(=O)/C=C/C2=CC(=C(...          1\n",
       "2519  CC1=C(C(=CC=C1)Cl)NC(=O)C2=CN=C(S2)NC3=CC(=NC(...          1\n",
       "2520  CC1(CCC(=C(C1)CN2CCN(CC2)C3=CC=C(C=C3)C(=O)NS(...          1\n",
       "2521  O=C(NC1=NC(C=CC=C2)=C2S1)C3=C(CN(C4=CC=C(C5=C(...          1\n",
       "2522  O=C(NC1=NC(C=CC=C2)=C2S1)C3=C(CN(C4=NC(C(O)=O)...          1\n",
       "\n",
       "[2523 rows x 2 columns]"
      ]
     },
     "execution_count": 3,
     "metadata": {},
     "output_type": "execute_result"
    }
   ],
   "source": [
    "training_df = senolytics_df[['SMILES', 'senolytic']]\n",
    "training_df"
   ]
  },
  {
   "cell_type": "code",
   "execution_count": 4,
   "metadata": {
    "colab": {
     "base_uri": "https://localhost:8080/",
     "height": 424
    },
    "id": "OCBDQUq_SA8_",
    "outputId": "cf6c27fe-b6d2-42c4-b299-6b0977b5b4a9"
   },
   "outputs": [],
   "source": [
    "# # Subset for testing new code\n",
    "\n",
    "#training_df =  training_df.groupby('senolytic', group_keys=False).apply(lambda x: x.sample(frac=0.1))\n",
    "#training_df\n",
    "\n"
   ]
  },
  {
   "cell_type": "code",
   "execution_count": 5,
   "metadata": {
    "colab": {
     "base_uri": "https://localhost:8080/"
    },
    "id": "Mex0yzEfSnnc",
    "outputId": "c9c972e6-6ddd-4efe-ea79-82a2f72909ce"
   },
   "outputs": [
    {
     "data": {
      "text/plain": [
       "0.022988505747126436"
      ]
     },
     "execution_count": 5,
     "metadata": {},
     "output_type": "execute_result"
    }
   ],
   "source": [
    "# Check sample is representative of the actual distribution\n",
    "sum(training_df['senolytic'])/len(training_df)"
   ]
  },
  {
   "cell_type": "code",
   "execution_count": 6,
   "metadata": {},
   "outputs": [],
   "source": [
    "# Load model directly\n",
    "from transformers import AutoTokenizer, AutoModelForCausalLM\n",
    "\n",
    "tokenizer = AutoTokenizer.from_pretrained(\"ncfrey/ChemGPT-4.7M\")\n",
    "model = AutoModelForCausalLM.from_pretrained(\"ncfrey/ChemGPT-4.7M\")"
   ]
  },
  {
   "cell_type": "code",
   "execution_count": 7,
   "metadata": {},
   "outputs": [
    {
     "name": "stdout",
     "output_type": "stream",
     "text": [
      "S1(c2cc(S(=O)(=O)N)c(cc2CCC1)C)(=O)=O\n"
     ]
    },
    {
     "name": "stderr",
     "output_type": "stream",
     "text": [
      "Setting `pad_token_id` to `eos_token_id`:50256 for open-end generation.\n"
     ]
    },
    {
     "data": {
      "text/plain": [
       "[{'generated_text': 'S1(c2cc(S(=O)(=O)N)c(cc2CCC1)C)(=O)=O[C] [C] [C] [C] [C] [C] [C] [C] [C] [C] [C] [C] [C] [C] [C] [C] [C] [C] [C] [C] [C] [C] [C] [C] [C] [C] [C] [C] [C] [C] [C] [C] [C] [C] [C] [C] [C] [C] [C] [C] [C] [C] [C] [C] [C] [C] [C] [C] [C] [C] [C] [C] [C] [C] [C] [C] [C] [C] [C] [C] [C] [C] [C] [C] [C] [C] [C] [C] [C] [C] [C] [C] [C] [C] [C] [C] [C] [C] [C] [C] [C] [C] [C] [C] [C] [C] [C] [C] [C] [C] [C] [C] [C] [C] [C] [C] [C] [C] [C] [C] [C] [C] [C] [C] [C] [C] [C] [C] [C] [C] [C] [C] [C] [C] [C] [C] [C] [C] [C] [C] [C] [C] [C] [C] [C] [C] [C] [C] [C] [C] [C] [C] [C] [C] [C] [C] [C] [C] [C] [C] [C] [C] [C] [C] [C] [C] [C] [C] [C] [C] [C] [C] [C] [C] [C] [C] [C] [C] [C] [C] [C] [C] [C] [C] [C] [C] [C] [C] [C] [C] [C] [C] [C] [C] [C] [C] [C] [C] [C] [C] [C] [C] [C] [C] [C] [C] [C] [C] [C] [C] [C] [C] [C] [C] [C] [C] [C] [C] [C] [C] [C] [C] [C] [C] [C] [C] [C] [C] [C] [C] [C] [C] [C] [C] [C] [C] [C] [C] [C] [C] [C] [C] [C] [C] [C] [C] [C] [C] [C] [C] [C] [C] [C] [C] [C] [C] [C] [C] [C] [C] [C] [C] [C] [C] [C] [C] [C] [C] [C] [C] [C] [C] [C] [C] [C] [C] [C] [C] [C] [C] [C] [C] [C] [C] [C] [C] [C] [C] [C] [C] [C] [C] [C] [C] [C] [C] [C] [C] [C] [C] [C] [C] [C] [C] [C] [C] [C] [C] [C] [C] [C] [C] [C] [C] [C] [C] [C] [C] [C] [C] [C] [C] [C] [C] [C] [C] [C] [C] [C] [C] [C] [C] [C] [C] [C] [C] [Ring2] [S] [N] [C] [Branch1_1] [Branch1_1] [C] [Ring2] [Ring1] [=O] [C] [Ring2] [Ring1] [#C] [=C] [C] [Ring2] [Branch2_1] [N] [C] [C] [Branch1_1] [C] [C] [Branch1_1] [C] [C] [C] [Ring1] [Branch1_2] [C] [N] [Branch1_1] [C] [C] [Branch1_2] [C] [N] [=N] [C] [Expl=Ring1] [Branch2_1] [Branch2_1] [C] [Branch1_1] [C] [Ring1] [Branch1_2] [C] [Branch1_1] [C] [C] [C] [Branch2_1] [Ring1] [Branch1_1] [=C] [N] [=C] [C] [C] [Branch1_1] [C] [C] [C] [Branch1_2] [C] [C] [=O] [C] [Ring1] [Branch1_3] [C] [C] [Ring2] [Ring2] [Branch1_1] [C] [C] [C] [C] [Ring2] [Ring2] [Branch2_1] [C] [C] [C] [C] [C] [C] [C] [C] [C] [C] [C] [C] [C] [C] [C] [C] [C] [C] [C] [C] [C] [C] [C] [C] [C] [C] [C] [C] [C] [C] [C] [C] [C] [C] [C] [C] [C] [C] [C] [C] [C] [C] [C] [C] [C] [C] [C] [C] [C] [C] [C] [C] [C] [C] [C] [C] [C] [C] [C] [C] [C] [C] [C] [C] [C] [C] [C] [O] [C] [Ring1] [Branch1_2] [C] [=N+expl] [Ring1] [O] [C] [C] [Branch1_1] [=N] [C] [O] [Ring1] [Branch2_2] [Ring1] [N] [Cl] [C] [N] [=N] [Ring1] [Branch1_2] [C] [Branch2_3] [Ring1] [Branch1_2] [N] [C] [O] [O] [#N] [=N] [F] [N] [=N] [N] [N] [=C] [Ring1] [Branch1_2]'}]"
      ]
     },
     "execution_count": 7,
     "metadata": {},
     "output_type": "execute_result"
    }
   ],
   "source": [
    "# Use a pipeline as a high-level helper\n",
    "from transformers import pipeline\n",
    "smiles_string = training_df['SMILES'][9]\n",
    "print(smiles_string)\n",
    "\n",
    "pipe = pipeline(\"text-generation\", model=\"ncfrey/ChemGPT-4.7M\")\n",
    "\n",
    "pipe(smiles_string)\n"
   ]
  },
  {
   "cell_type": "markdown",
   "metadata": {
    "id": "DCOQKbIPDLAt"
   },
   "source": [
    "## Finetune\n",
    "https://huggingface.co/docs/transformers/training"
   ]
  },
  {
   "cell_type": "code",
   "execution_count": 8,
   "metadata": {
    "colab": {
     "base_uri": "https://localhost:8080/"
    },
    "id": "YtKRX78_524s",
    "outputId": "7888feb8-d87c-427f-9a83-43677acaa74c"
   },
   "outputs": [
    {
     "name": "stderr",
     "output_type": "stream",
     "text": [
      "Some weights of GPTNeoForSequenceClassification were not initialized from the model checkpoint at ncfrey/ChemGPT-4.7M and are newly initialized: ['score.weight']\n",
      "You should probably TRAIN this model on a down-stream task to be able to use it for predictions and inference.\n"
     ]
    },
    {
     "name": "stdout",
     "output_type": "stream",
     "text": [
      "Model size: 5099520 parameters.\n"
     ]
    }
   ],
   "source": [
    "tokenizer = AutoTokenizer.from_pretrained(\"ncfrey/ChemGPT-4.7M\", pad_token=\"[PAD]\")\n",
    "if tokenizer.pad_token is None:\n",
    "    tokenizer.add_special_tokens({'pad_token': '[PAD]'})\n",
    "    model.resize_token_embeddings(len(tokenizer))\n",
    "\n",
    "\n",
    "config = AutoConfig.from_pretrained(\"ncfrey/ChemGPT-4.7M\")\n",
    "config.num_hidden_layers += 1\n",
    "model = AutoModelForSequenceClassification.from_pretrained(\"ncfrey/ChemGPT-4.7M\", num_labels=2, problem_type = \"single_label_classification\")\n",
    "model.config.pad_token_id = tokenizer.pad_token_id\n",
    "\n",
    "print(f\"Model size: {model.num_parameters()} parameters.\")\n",
    "\n"
   ]
  },
  {
   "cell_type": "code",
   "execution_count": 9,
   "metadata": {
    "id": "0jU4hDaB9ZeP"
   },
   "outputs": [],
   "source": [
    "from sklearn.model_selection import train_test_split\n",
    "X = training_df[['SMILES']]\n",
    "y = training_df['senolytic']\n",
    "X_train, X_test, y_train, y_test = train_test_split(X, y, test_size=0.3, random_state=42, stratify=y) # the data should be shuffled\n"
   ]
  },
  {
   "cell_type": "code",
   "execution_count": 10,
   "metadata": {
    "id": "1tJA6uNe9FrY"
   },
   "outputs": [],
   "source": [
    "# Dataset set up\n",
    "\n",
    "#smiles_train = X_train['SMILES'].astype(str).tolist()\n",
    "#smiles_test = X_test['SMILES'].astype(str).tolist()\n"
   ]
  },
  {
   "cell_type": "code",
   "execution_count": 11,
   "metadata": {
    "id": "BiniuqzuA2KI"
   },
   "outputs": [],
   "source": [
    "# # https://huggingface.co/transformers/v3.2.0/custom_datasets.html -> does not work!!\n",
    "# from transformers import AutoTokenizer, AutoModel\n",
    "# import torch\n",
    "\n",
    "\n",
    "# class SenolyticsDataset(torch.utils.data.Dataset):\n",
    "#     def __init__(self, encodings, labels):\n",
    "#         self.encodings = encodings\n",
    "#         self.labels = labels\n",
    "\n",
    "#     def __getitem__(self, idx):\n",
    "#         #print(idx)\n",
    "#         input_ids = torch.tensor(self.encodings['input_ids'])\n",
    "#         if self.labels is not None and idx in self.labels.keys():\n",
    "#             target_ids = torch.tensor(self.labels[idx])\n",
    "#         else:\n",
    "#             # Handle the case where self.labels is None or idx is out of range\n",
    "#             target_ids = None\n",
    "#         return {\"input_ids\": input_ids, \"labels\": target_ids}\n",
    "\n",
    "#     def __len__(self):\n",
    "#         return len(self.labels)\n",
    "# #train_dataset = IMDbDataset(train_encodings, train_labels)\n",
    "# #val_dataset = IMDbDataset(val_encodings, val_labels)\n",
    "# #test_dataset = IMDbDataset(test_encodings, test_labels)\n",
    "\n",
    "# tokenized_train = tokenizer(smiles_train, padding=True, truncation=True, max_length=None, return_tensors='pt')\n",
    "# tokenized_test = tokenizer(smiles_test, padding=True, truncation=True, max_length=None, return_tensors='pt')\n",
    "\n",
    "# train_dataset = SenolyticsDataset(tokenized_train, y_train)\n",
    "# test_dataset = SenolyticsDataset(tokenized_test, y_test)\n"
   ]
  },
  {
   "cell_type": "code",
   "execution_count": 12,
   "metadata": {
    "id": "Yh4grRWQjsLj"
   },
   "outputs": [],
   "source": [
    "import torch\n",
    "\n",
    "#Current version\n",
    "class Dataset(torch.utils.data.Dataset):\n",
    "    def __init__(self, dataframe, labels, tokenizer):\n",
    "        self.dataframe = dataframe\n",
    "        self.tokenizer = tokenizer\n",
    "\n",
    "        # Tokenize the SMILES strings and store them\n",
    "        self.encodings = self.tokenize_smiles(dataframe['SMILES'].tolist())\n",
    "\n",
    "        # Store the labels\n",
    "        self.labels = labels.tolist()\n",
    "\n",
    "\n",
    "    def tokenize_smiles(self, smiles_list):\n",
    "        return self.tokenizer(\n",
    "            smiles_list,\n",
    "            truncation=False,\n",
    "            padding=True,\n",
    "            max_length=None,\n",
    "            return_tensors='pt'\n",
    "        )\n",
    "\n",
    "    def __getitem__(self, idx):\n",
    "        item = {\n",
    "            'input_ids': self.encodings['input_ids'][idx],\n",
    "            'attention_mask': self.encodings['attention_mask'][idx],\n",
    "            'labels': torch.tensor(self.labels[idx], dtype=torch.float)\n",
    "        }\n",
    "        return item\n",
    "\n",
    "    def __len__(self):\n",
    "        return len(self.labels)\n"
   ]
  },
  {
   "cell_type": "code",
   "execution_count": 13,
   "metadata": {
    "id": "rTFXIMO6jycF"
   },
   "outputs": [],
   "source": [
    "train_dataset = Dataset(X_train, y_train, tokenizer)\n",
    "test_dataset = Dataset(X_test, y_test, tokenizer)"
   ]
  },
  {
   "cell_type": "code",
   "execution_count": 14,
   "metadata": {
    "colab": {
     "base_uri": "https://localhost:8080/"
    },
    "id": "wHP3C4JUyB9g",
    "outputId": "b5b926e7-f64b-49ac-9409-210adf4f5c04"
   },
   "outputs": [
    {
     "data": {
      "text/plain": [
       "torch.Tensor"
      ]
     },
     "execution_count": 14,
     "metadata": {},
     "output_type": "execute_result"
    }
   ],
   "source": [
    "type(train_dataset[-1]['input_ids'])"
   ]
  },
  {
   "cell_type": "code",
   "execution_count": 15,
   "metadata": {
    "colab": {
     "base_uri": "https://localhost:8080/",
     "height": 49,
     "referenced_widgets": [
      "1bee975014d1451b9ff65d5fe1900ff3",
      "7f77b287bc334e3dba59b9d4c3307e46",
      "091723f2ddaa43b98f16a4756fd02390",
      "5d939c494595405797930594beee593d",
      "74135322bba54fa3b6578825dbfac89f",
      "9781d331577d4612bcabe465634f52a2",
      "35f2824b2c644032a227f956719fe2a7",
      "8088374a3d6f4332b642708bbd768add",
      "d97c6f2aac474568949ac75dcae64a78",
      "58da272eecb64352a162858fdfdb9a10",
      "f5f0d29fc0ef4fcfb09f17906c822687"
     ]
    },
    "id": "-kEDerSWDgSQ",
    "outputId": "27dbcb00-5bda-487f-9804-33b7284e05a7"
   },
   "outputs": [],
   "source": [
    "\n",
    "\n",
    "metric = evaluate.load(\"f1\")"
   ]
  },
  {
   "cell_type": "code",
   "execution_count": 16,
   "metadata": {
    "id": "KWaaH8HzEqxl"
   },
   "outputs": [],
   "source": [
    "# https://stackoverflow.com/questions/67457480/how-to-get-the-accuracy-per-epoch-or-step-for-the-huggingface-transformers-train\n",
    "\n",
    "def compute_metrics(eval_pred):\n",
    "    metrics = [\"accuracy\", \"recall\", \"precision\", \"f1\"] #List of metrics to return\n",
    "    metric={}\n",
    "    for met in metrics:\n",
    "       metric[met] = evaluate.load(met)\n",
    "    logits, labels = eval_pred\n",
    "    predictions = np.argmax(logits, axis=-1)\n",
    "    metric_res={}\n",
    "    for met in metrics:\n",
    "       metric_res[met]=metric[met].compute(predictions=predictions, references=labels)[met]\n",
    "    return metric_res"
   ]
  },
  {
   "cell_type": "code",
   "execution_count": 17,
   "metadata": {
    "colab": {
     "base_uri": "https://localhost:8080/"
    },
    "id": "Pd8k07IiLvnt",
    "outputId": "ee4e1598-d1dd-4d1c-dcb0-5c1de3765994"
   },
   "outputs": [
    {
     "name": "stdout",
     "output_type": "stream",
     "text": [
      "[ 0.51188406 21.53658537]\n"
     ]
    }
   ],
   "source": [
    "# Class weights\n",
    "\n",
    "\n",
    "\n",
    "\n",
    "class_weights = compute_class_weight(class_weight=\"balanced\",classes=np.unique(y_train),y=y_train)\n",
    "\n",
    "\n",
    "print(class_weights)"
   ]
  },
  {
   "cell_type": "code",
   "execution_count": 18,
   "metadata": {
    "id": "1Vgd0ucdLaeI"
   },
   "outputs": [],
   "source": [
    "# https://huggingface.co/docs/transformers/main/main_classes/trainer\n",
    "\n",
    "\n",
    "\n",
    "\n",
    "class CustomTrainer(Trainer):\n",
    "\n",
    "    def __init__(self, *args, **kwargs):\n",
    "        super().__init__(*args, **kwargs)\n",
    "    def compute_loss(self, model, inputs, return_outputs=False):\n",
    "        labels = inputs.pop(\"labels\").long()\n",
    "        # forward pass\n",
    "        outputs = model(**inputs)\n",
    "        logits = outputs.get(\"logits\")\n",
    "        # compute custom loss with class_weights=balanced from above\n",
    "        loss_fct = nn.CrossEntropyLoss(weight=torch.tensor(class_weights, device=model.device, dtype=torch.float))\n",
    "        loss = loss_fct(logits.view(-1, self.model.config.num_labels), labels.view(-1))\n",
    "        return (loss, outputs) if return_outputs else loss"
   ]
  },
  {
   "cell_type": "code",
   "execution_count": null,
   "metadata": {
    "id": "aUdFmJL-iq4O"
   },
   "outputs": [],
   "source": []
  },
  {
   "cell_type": "code",
   "execution_count": 19,
   "metadata": {
    "id": "AB7ZRaOBpVBS"
   },
   "outputs": [],
   "source": [
    "X = training_df[['SMILES']]\n",
    "y = training_df['senolytic']\n",
    "X_train, X_test, y_train, y_test = train_test_split(X, y, test_size=0.3, random_state=42, stratify=y)\n",
    "\n",
    "train_dataset = Dataset(X_train, y_train, tokenizer)\n",
    "test_dataset = Dataset(X_test, y_test, tokenizer)\n"
   ]
  },
  {
   "cell_type": "code",
   "execution_count": 20,
   "metadata": {},
   "outputs": [
    {
     "name": "stdout",
     "output_type": "stream",
     "text": [
      "{\"best_value\": 0.8544822926882423, \"best_params\": {\"learning_rate\": 0.00023738342619168549, \"weight_decay\": 0.0012279807479264777, \"num_train_epochs\": 10, \"warmup_ratio\": 0.2997009188502863}, \"best_trial_number\": 86}\n"
     ]
    }
   ],
   "source": [
    "# Just loading chemberta's best just to have something to work with and this code was already in the notebook\n",
    "\n",
    "f = open(\"best_trial_100.txt\", \"r\")\n",
    "print(f.read())"
   ]
  },
  {
   "cell_type": "code",
   "execution_count": 21,
   "metadata": {},
   "outputs": [
    {
     "name": "stdout",
     "output_type": "stream",
     "text": [
      "{'learning_rate': 0.0002822312812361537, 'weight_decay': 5.0796095265955036e-05, 'num_train_epochs': 10}\n"
     ]
    }
   ],
   "source": [
    "import json\n",
    "\n",
    "with open(\"best_trial_100_chemGPT_1.txt\", \"r\") as fp:\n",
    "    best_trial_dict = json.load(fp)\n",
    "\n",
    "\n",
    "print(best_trial_dict['best_params'])\n",
    "best_params = best_trial_dict['best_params']"
   ]
  },
  {
   "cell_type": "code",
   "execution_count": 23,
   "metadata": {
    "id": "scITAOltPAtr"
   },
   "outputs": [],
   "source": [
    "from transformers import TrainingArguments, Trainer\n",
    "\n",
    "# many more parameters to experiment with https://huggingface.co/docs/transformers/v4.33.2/en/main_classes/trainer#transformers.TrainingArguments\n",
    "training_args = TrainingArguments(output_dir=\"test_2\", load_best_model_at_end=True, evaluation_strategy='epoch',\n",
    "    logging_strategy=\"epoch\", save_strategy=\"epoch\",per_device_train_batch_size=16,  # batch size per device during training\n",
    "    per_device_eval_batch_size=64,optim=\"adamw_torch\", num_train_epochs=best_params['num_train_epochs'], learning_rate=best_params['learning_rate'],\n",
    "                                  weight_decay=best_params['weight_decay']) # switch optimizer to avoid warning)\n"
   ]
  },
  {
   "cell_type": "code",
   "execution_count": 24,
   "metadata": {
    "id": "wtAfs7GKE0dU"
   },
   "outputs": [],
   "source": [
    "from transformers import TrainerCallback\n",
    "trainer = CustomTrainer(\n",
    "    model=model,\n",
    "    args=training_args,\n",
    "    train_dataset=train_dataset,\n",
    "    eval_dataset=test_dataset,\n",
    "    compute_metrics=compute_metrics,\n",
    ")\n",
    "\n",
    "# Define a callback for printing validation loss\n",
    "class PrintValidationLossCallback(TrainerCallback):\n",
    "    def on_evaluate(self, args, state, control, **kwargs):\n",
    "        if state is not None and hasattr(state, 'eval_loss'):\n",
    "            print(f\"Validation loss: {state.eval_loss:.4f}\")\n",
    "\n",
    "# Add the callback to the trainer\n",
    "trainer.add_callback(PrintValidationLossCallback())\n",
    "#trainer.train()"
   ]
  },
  {
   "cell_type": "code",
   "execution_count": 25,
   "metadata": {
    "id": "GEDQnTztZeuf",
    "scrolled": true
   },
   "outputs": [
    {
     "data": {
      "text/html": [
       "\n",
       "    <div>\n",
       "      \n",
       "      <progress value='1110' max='1110' style='width:300px; height:20px; vertical-align: middle;'></progress>\n",
       "      [1110/1110 01:38, Epoch 10/10]\n",
       "    </div>\n",
       "    <table border=\"1\" class=\"dataframe\">\n",
       "  <thead>\n",
       " <tr style=\"text-align: left;\">\n",
       "      <th>Epoch</th>\n",
       "      <th>Training Loss</th>\n",
       "      <th>Validation Loss</th>\n",
       "      <th>Accuracy</th>\n",
       "      <th>Recall</th>\n",
       "      <th>Precision</th>\n",
       "      <th>F1</th>\n",
       "    </tr>\n",
       "  </thead>\n",
       "  <tbody>\n",
       "    <tr>\n",
       "      <td>1</td>\n",
       "      <td>0.972100</td>\n",
       "      <td>1.953658</td>\n",
       "      <td>0.977543</td>\n",
       "      <td>0.000000</td>\n",
       "      <td>0.000000</td>\n",
       "      <td>0.000000</td>\n",
       "    </tr>\n",
       "    <tr>\n",
       "      <td>2</td>\n",
       "      <td>1.123700</td>\n",
       "      <td>1.515244</td>\n",
       "      <td>0.977543</td>\n",
       "      <td>0.000000</td>\n",
       "      <td>0.000000</td>\n",
       "      <td>0.000000</td>\n",
       "    </tr>\n",
       "    <tr>\n",
       "      <td>3</td>\n",
       "      <td>1.016200</td>\n",
       "      <td>2.041103</td>\n",
       "      <td>0.977543</td>\n",
       "      <td>0.000000</td>\n",
       "      <td>0.000000</td>\n",
       "      <td>0.000000</td>\n",
       "    </tr>\n",
       "    <tr>\n",
       "      <td>4</td>\n",
       "      <td>1.035000</td>\n",
       "      <td>1.809806</td>\n",
       "      <td>0.977543</td>\n",
       "      <td>0.000000</td>\n",
       "      <td>0.000000</td>\n",
       "      <td>0.000000</td>\n",
       "    </tr>\n",
       "    <tr>\n",
       "      <td>5</td>\n",
       "      <td>0.960200</td>\n",
       "      <td>1.999508</td>\n",
       "      <td>0.977543</td>\n",
       "      <td>0.000000</td>\n",
       "      <td>0.000000</td>\n",
       "      <td>0.000000</td>\n",
       "    </tr>\n",
       "    <tr>\n",
       "      <td>6</td>\n",
       "      <td>1.041700</td>\n",
       "      <td>1.688586</td>\n",
       "      <td>0.977543</td>\n",
       "      <td>0.000000</td>\n",
       "      <td>0.000000</td>\n",
       "      <td>0.000000</td>\n",
       "    </tr>\n",
       "    <tr>\n",
       "      <td>7</td>\n",
       "      <td>1.014900</td>\n",
       "      <td>1.824326</td>\n",
       "      <td>0.977543</td>\n",
       "      <td>0.000000</td>\n",
       "      <td>0.000000</td>\n",
       "      <td>0.000000</td>\n",
       "    </tr>\n",
       "    <tr>\n",
       "      <td>8</td>\n",
       "      <td>0.986100</td>\n",
       "      <td>1.699775</td>\n",
       "      <td>0.977543</td>\n",
       "      <td>0.000000</td>\n",
       "      <td>0.000000</td>\n",
       "      <td>0.000000</td>\n",
       "    </tr>\n",
       "    <tr>\n",
       "      <td>9</td>\n",
       "      <td>0.940800</td>\n",
       "      <td>1.601577</td>\n",
       "      <td>0.977543</td>\n",
       "      <td>0.000000</td>\n",
       "      <td>0.000000</td>\n",
       "      <td>0.000000</td>\n",
       "    </tr>\n",
       "    <tr>\n",
       "      <td>10</td>\n",
       "      <td>0.913000</td>\n",
       "      <td>1.808210</td>\n",
       "      <td>0.977543</td>\n",
       "      <td>0.000000</td>\n",
       "      <td>0.000000</td>\n",
       "      <td>0.000000</td>\n",
       "    </tr>\n",
       "  </tbody>\n",
       "</table><p>"
      ],
      "text/plain": [
       "<IPython.core.display.HTML object>"
      ]
     },
     "metadata": {},
     "output_type": "display_data"
    },
    {
     "name": "stderr",
     "output_type": "stream",
     "text": [
      "/home/losullivan/.local/lib/python3.10/site-packages/sklearn/metrics/_classification.py:1471: UndefinedMetricWarning: Precision is ill-defined and being set to 0.0 due to no predicted samples. Use `zero_division` parameter to control this behavior.\n",
      "  _warn_prf(average, modifier, msg_start, len(result))\n",
      "/home/losullivan/.local/lib/python3.10/site-packages/sklearn/metrics/_classification.py:1471: UndefinedMetricWarning: Precision is ill-defined and being set to 0.0 due to no predicted samples. Use `zero_division` parameter to control this behavior.\n",
      "  _warn_prf(average, modifier, msg_start, len(result))\n",
      "/home/losullivan/.local/lib/python3.10/site-packages/sklearn/metrics/_classification.py:1471: UndefinedMetricWarning: Precision is ill-defined and being set to 0.0 due to no predicted samples. Use `zero_division` parameter to control this behavior.\n",
      "  _warn_prf(average, modifier, msg_start, len(result))\n",
      "/home/losullivan/.local/lib/python3.10/site-packages/sklearn/metrics/_classification.py:1471: UndefinedMetricWarning: Precision is ill-defined and being set to 0.0 due to no predicted samples. Use `zero_division` parameter to control this behavior.\n",
      "  _warn_prf(average, modifier, msg_start, len(result))\n",
      "/home/losullivan/.local/lib/python3.10/site-packages/sklearn/metrics/_classification.py:1471: UndefinedMetricWarning: Precision is ill-defined and being set to 0.0 due to no predicted samples. Use `zero_division` parameter to control this behavior.\n",
      "  _warn_prf(average, modifier, msg_start, len(result))\n",
      "/home/losullivan/.local/lib/python3.10/site-packages/sklearn/metrics/_classification.py:1471: UndefinedMetricWarning: Precision is ill-defined and being set to 0.0 due to no predicted samples. Use `zero_division` parameter to control this behavior.\n",
      "  _warn_prf(average, modifier, msg_start, len(result))\n",
      "/home/losullivan/.local/lib/python3.10/site-packages/sklearn/metrics/_classification.py:1471: UndefinedMetricWarning: Precision is ill-defined and being set to 0.0 due to no predicted samples. Use `zero_division` parameter to control this behavior.\n",
      "  _warn_prf(average, modifier, msg_start, len(result))\n",
      "/home/losullivan/.local/lib/python3.10/site-packages/sklearn/metrics/_classification.py:1471: UndefinedMetricWarning: Precision is ill-defined and being set to 0.0 due to no predicted samples. Use `zero_division` parameter to control this behavior.\n",
      "  _warn_prf(average, modifier, msg_start, len(result))\n",
      "/home/losullivan/.local/lib/python3.10/site-packages/sklearn/metrics/_classification.py:1471: UndefinedMetricWarning: Precision is ill-defined and being set to 0.0 due to no predicted samples. Use `zero_division` parameter to control this behavior.\n",
      "  _warn_prf(average, modifier, msg_start, len(result))\n",
      "/home/losullivan/.local/lib/python3.10/site-packages/sklearn/metrics/_classification.py:1471: UndefinedMetricWarning: Precision is ill-defined and being set to 0.0 due to no predicted samples. Use `zero_division` parameter to control this behavior.\n",
      "  _warn_prf(average, modifier, msg_start, len(result))\n"
     ]
    },
    {
     "data": {
      "text/plain": [
       "TrainOutput(global_step=1110, training_loss=1.0003696544750316, metrics={'train_runtime': 99.7495, 'train_samples_per_second': 177.044, 'train_steps_per_second': 11.128, 'total_flos': 29190898360320.0, 'train_loss': 1.0003696544750316, 'epoch': 10.0})"
      ]
     },
     "execution_count": 25,
     "metadata": {},
     "output_type": "execute_result"
    }
   ],
   "source": [
    "trainer.train()"
   ]
  },
  {
   "cell_type": "code",
   "execution_count": 26,
   "metadata": {
    "id": "8VxPSWR_oprj"
   },
   "outputs": [],
   "source": [
    "# Save the model\n",
    "trainer.save_model(\"./full_model_chemGPT_experiment1\")"
   ]
  },
  {
   "cell_type": "code",
   "execution_count": 27,
   "metadata": {},
   "outputs": [
    {
     "data": {
      "text/plain": [
       "GPTNeoForSequenceClassification(\n",
       "  (transformer): GPTNeoModel(\n",
       "    (wte): Embedding(684, 128)\n",
       "    (wpe): Embedding(2048, 128)\n",
       "    (drop): Dropout(p=0.0, inplace=False)\n",
       "    (h): ModuleList(\n",
       "      (0-23): 24 x GPTNeoBlock(\n",
       "        (ln_1): LayerNorm((128,), eps=1e-05, elementwise_affine=True)\n",
       "        (attn): GPTNeoAttention(\n",
       "          (attention): GPTNeoSelfAttention(\n",
       "            (attn_dropout): Dropout(p=0.0, inplace=False)\n",
       "            (resid_dropout): Dropout(p=0.0, inplace=False)\n",
       "            (k_proj): Linear(in_features=128, out_features=128, bias=False)\n",
       "            (v_proj): Linear(in_features=128, out_features=128, bias=False)\n",
       "            (q_proj): Linear(in_features=128, out_features=128, bias=False)\n",
       "            (out_proj): Linear(in_features=128, out_features=128, bias=True)\n",
       "          )\n",
       "        )\n",
       "        (ln_2): LayerNorm((128,), eps=1e-05, elementwise_affine=True)\n",
       "        (mlp): GPTNeoMLP(\n",
       "          (c_fc): Linear(in_features=128, out_features=512, bias=True)\n",
       "          (c_proj): Linear(in_features=512, out_features=128, bias=True)\n",
       "          (act): NewGELUActivation()\n",
       "          (dropout): Dropout(p=0.0, inplace=False)\n",
       "        )\n",
       "      )\n",
       "    )\n",
       "    (ln_f): LayerNorm((128,), eps=1e-05, elementwise_affine=True)\n",
       "  )\n",
       "  (score): Linear(in_features=128, out_features=2, bias=False)\n",
       ")"
      ]
     },
     "execution_count": 27,
     "metadata": {},
     "output_type": "execute_result"
    }
   ],
   "source": [
    "model.eval()"
   ]
  },
  {
   "cell_type": "code",
   "execution_count": 28,
   "metadata": {
    "id": "t6BCwFDVKM05"
   },
   "outputs": [
    {
     "data": {
      "text/html": [],
      "text/plain": [
       "<IPython.core.display.HTML object>"
      ]
     },
     "metadata": {},
     "output_type": "display_data"
    },
    {
     "name": "stderr",
     "output_type": "stream",
     "text": [
      "/home/losullivan/.local/lib/python3.10/site-packages/sklearn/metrics/_classification.py:1471: UndefinedMetricWarning: Precision is ill-defined and being set to 0.0 due to no predicted samples. Use `zero_division` parameter to control this behavior.\n",
      "  _warn_prf(average, modifier, msg_start, len(result))\n"
     ]
    }
   ],
   "source": [
    "predictions = trainer.predict(test_dataset)"
   ]
  },
  {
   "cell_type": "code",
   "execution_count": 29,
   "metadata": {},
   "outputs": [
    {
     "data": {
      "text/plain": [
       "array([[ 2.1793094, -1.3867288],\n",
       "       [ 2.1793094, -1.3867288],\n",
       "       [ 2.151001 , -1.374819 ],\n",
       "       ...,\n",
       "       [ 2.1280537, -1.3537277],\n",
       "       [ 2.1793094, -1.3867288],\n",
       "       [ 2.1793094, -1.3867288]], dtype=float32)"
      ]
     },
     "execution_count": 29,
     "metadata": {},
     "output_type": "execute_result"
    }
   ],
   "source": [
    "predictions.predictions"
   ]
  },
  {
   "cell_type": "code",
   "execution_count": 30,
   "metadata": {},
   "outputs": [
    {
     "data": {
      "text/html": [
       "\n",
       "    <div>\n",
       "      \n",
       "      <progress value='12' max='12' style='width:300px; height:20px; vertical-align: middle;'></progress>\n",
       "      [12/12 00:00]\n",
       "    </div>\n",
       "    "
      ],
      "text/plain": [
       "<IPython.core.display.HTML object>"
      ]
     },
     "metadata": {},
     "output_type": "display_data"
    },
    {
     "name": "stderr",
     "output_type": "stream",
     "text": [
      "/home/losullivan/.local/lib/python3.10/site-packages/sklearn/metrics/_classification.py:1471: UndefinedMetricWarning: Precision is ill-defined and being set to 0.0 due to no predicted samples. Use `zero_division` parameter to control this behavior.\n",
      "  _warn_prf(average, modifier, msg_start, len(result))\n"
     ]
    },
    {
     "data": {
      "text/plain": [
       "{'eval_loss': 1.5152441263198853,\n",
       " 'eval_accuracy': 0.9775429326287979,\n",
       " 'eval_recall': 0.0,\n",
       " 'eval_precision': 0.0,\n",
       " 'eval_f1': 0.0,\n",
       " 'eval_runtime': 3.9841,\n",
       " 'eval_samples_per_second': 190.008,\n",
       " 'eval_steps_per_second': 3.012,\n",
       " 'epoch': 10.0}"
      ]
     },
     "execution_count": 30,
     "metadata": {},
     "output_type": "execute_result"
    }
   ],
   "source": [
    "trainer.evaluate()"
   ]
  },
  {
   "cell_type": "code",
   "execution_count": 31,
   "metadata": {
    "id": "GqQG_UvsqAXV"
   },
   "outputs": [
    {
     "data": {
      "text/plain": [
       "array([0, 0, 0, 0, 0, 0, 0, 0, 0, 0, 0, 0, 0, 0, 0, 0, 0, 0, 0, 0, 0, 0,\n",
       "       0, 0, 0, 0, 0, 0, 0, 0, 0, 0, 0, 0, 0, 0, 0, 0, 0, 0, 0, 0, 0, 0,\n",
       "       0, 0, 0, 0, 0, 0, 0, 0, 0, 0, 0, 0, 0, 0, 0, 0, 0, 0, 0, 0, 0, 0,\n",
       "       0, 0, 0, 0, 0, 0, 0, 0, 0, 0, 0, 0, 0, 0, 0, 0, 0, 0, 0, 0, 0, 0,\n",
       "       0, 0, 0, 0, 0, 0, 0, 0, 0, 0, 0, 0, 0, 0, 0, 0, 0, 0, 0, 0, 0, 0,\n",
       "       0, 0, 0, 0, 0, 0, 0, 0, 0, 0, 0, 0, 0, 0, 0, 0, 0, 0, 0, 0, 0, 0,\n",
       "       0, 0, 0, 0, 0, 0, 0, 0, 0, 0, 0, 0, 0, 0, 0, 0, 0, 0, 0, 0, 0, 0,\n",
       "       0, 0, 0, 0, 0, 0, 0, 0, 0, 0, 0, 0, 0, 0, 0, 0, 0, 0, 0, 0, 0, 0,\n",
       "       0, 0, 0, 0, 0, 0, 0, 0, 0, 0, 0, 0, 0, 0, 0, 0, 0, 0, 0, 0, 0, 0,\n",
       "       0, 0, 0, 0, 0, 0, 0, 0, 0, 0, 0, 0, 0, 0, 0, 0, 0, 0, 0, 0, 0, 0,\n",
       "       0, 0, 0, 0, 0, 0, 0, 0, 0, 0, 0, 0, 0, 0, 0, 0, 0, 0, 0, 0, 0, 0,\n",
       "       0, 0, 0, 0, 0, 0, 0, 0, 0, 0, 0, 0, 0, 0, 0, 0, 0, 0, 0, 0, 0, 0,\n",
       "       0, 0, 0, 0, 0, 0, 0, 0, 0, 0, 0, 0, 0, 0, 0, 0, 0, 0, 0, 0, 0, 0,\n",
       "       0, 0, 0, 0, 0, 0, 0, 0, 0, 0, 0, 0, 0, 0, 0, 0, 0, 0, 0, 0, 0, 0,\n",
       "       0, 0, 0, 0, 0, 0, 0, 0, 0, 0, 0, 0, 0, 0, 0, 0, 0, 0, 0, 0, 0, 0,\n",
       "       0, 0, 0, 0, 0, 0, 0, 0, 0, 0, 0, 0, 0, 0, 0, 0, 0, 0, 0, 0, 0, 0,\n",
       "       0, 0, 0, 0, 0, 0, 0, 0, 0, 0, 0, 0, 0, 0, 0, 0, 0, 0, 0, 0, 0, 0,\n",
       "       0, 0, 0, 0, 0, 0, 0, 0, 0, 0, 0, 0, 0, 0, 0, 0, 0, 0, 0, 0, 0, 0,\n",
       "       0, 0, 0, 0, 0, 0, 0, 0, 0, 0, 0, 0, 0, 0, 0, 0, 0, 0, 0, 0, 0, 0,\n",
       "       0, 0, 0, 0, 0, 0, 0, 0, 0, 0, 0, 0, 0, 0, 0, 0, 0, 0, 0, 0, 0, 0,\n",
       "       0, 0, 0, 0, 0, 0, 0, 0, 0, 0, 0, 0, 0, 0, 0, 0, 0, 0, 0, 0, 0, 0,\n",
       "       0, 0, 0, 0, 0, 0, 0, 0, 0, 0, 0, 0, 0, 0, 0, 0, 0, 0, 0, 0, 0, 0,\n",
       "       0, 0, 0, 0, 0, 0, 0, 0, 0, 0, 0, 0, 0, 0, 0, 0, 0, 0, 0, 0, 0, 0,\n",
       "       0, 0, 0, 0, 0, 0, 0, 0, 0, 0, 0, 0, 0, 0, 0, 0, 0, 0, 0, 0, 0, 0,\n",
       "       0, 0, 0, 0, 0, 0, 0, 0, 0, 0, 0, 0, 0, 0, 0, 0, 0, 0, 0, 0, 0, 0,\n",
       "       0, 0, 0, 0, 0, 0, 0, 0, 0, 0, 0, 0, 0, 0, 0, 0, 0, 0, 0, 0, 0, 0,\n",
       "       0, 0, 0, 0, 0, 0, 0, 0, 0, 0, 0, 0, 0, 0, 0, 0, 0, 0, 0, 0, 0, 0,\n",
       "       0, 0, 0, 0, 0, 0, 0, 0, 0, 0, 0, 0, 0, 0, 0, 0, 0, 0, 0, 0, 0, 0,\n",
       "       0, 0, 0, 0, 0, 0, 0, 0, 0, 0, 0, 0, 0, 0, 0, 0, 0, 0, 0, 0, 0, 0,\n",
       "       0, 0, 0, 0, 0, 0, 0, 0, 0, 0, 0, 0, 0, 0, 0, 0, 0, 0, 0, 0, 0, 0,\n",
       "       0, 0, 0, 0, 0, 0, 0, 0, 0, 0, 0, 0, 0, 0, 0, 0, 0, 0, 0, 0, 0, 0,\n",
       "       0, 0, 0, 0, 0, 0, 0, 0, 0, 0, 0, 0, 0, 0, 0, 0, 0, 0, 0, 0, 0, 0,\n",
       "       0, 0, 0, 0, 0, 0, 0, 0, 0, 0, 0, 0, 0, 0, 0, 0, 0, 0, 0, 0, 0, 0,\n",
       "       0, 0, 0, 0, 0, 0, 0, 0, 0, 0, 0, 0, 0, 0, 0, 0, 0, 0, 0, 0, 0, 0,\n",
       "       0, 0, 0, 0, 0, 0, 0, 0, 0])"
      ]
     },
     "execution_count": 31,
     "metadata": {},
     "output_type": "execute_result"
    }
   ],
   "source": [
    "y_pred = np.argmax(predictions.predictions, axis=-1)\n",
    "y_pred"
   ]
  },
  {
   "cell_type": "code",
   "execution_count": 32,
   "metadata": {
    "id": "athSKeXvraLC"
   },
   "outputs": [
    {
     "data": {
      "text/plain": [
       "17"
      ]
     },
     "execution_count": 32,
     "metadata": {},
     "output_type": "execute_result"
    }
   ],
   "source": [
    "y_test.sum()"
   ]
  },
  {
   "cell_type": "code",
   "execution_count": 33,
   "metadata": {
    "id": "CuX5MHp_7j3k"
   },
   "outputs": [
    {
     "data": {
      "text/plain": [
       "0"
      ]
     },
     "execution_count": 33,
     "metadata": {},
     "output_type": "execute_result"
    }
   ],
   "source": [
    "# senolytics predicted\n",
    "y_pred.sum()"
   ]
  },
  {
   "cell_type": "code",
   "execution_count": 34,
   "metadata": {
    "id": "5QG0sQUi7oKK"
   },
   "outputs": [
    {
     "data": {
      "text/plain": [
       "[{'loss': 0.9721,\n",
       "  'learning_rate': 0.00025400815311253834,\n",
       "  'epoch': 1.0,\n",
       "  'step': 111},\n",
       " {'eval_loss': 1.9536577463150024,\n",
       "  'eval_accuracy': 0.9775429326287979,\n",
       "  'eval_recall': 0.0,\n",
       "  'eval_precision': 0.0,\n",
       "  'eval_f1': 0.0,\n",
       "  'eval_runtime': 3.925,\n",
       "  'eval_samples_per_second': 192.865,\n",
       "  'eval_steps_per_second': 3.057,\n",
       "  'epoch': 1.0,\n",
       "  'step': 111},\n",
       " {'loss': 1.1237,\n",
       "  'learning_rate': 0.00022578502498892298,\n",
       "  'epoch': 2.0,\n",
       "  'step': 222},\n",
       " {'eval_loss': 1.5152441263198853,\n",
       "  'eval_accuracy': 0.9775429326287979,\n",
       "  'eval_recall': 0.0,\n",
       "  'eval_precision': 0.0,\n",
       "  'eval_f1': 0.0,\n",
       "  'eval_runtime': 4.1951,\n",
       "  'eval_samples_per_second': 180.449,\n",
       "  'eval_steps_per_second': 2.86,\n",
       "  'epoch': 2.0,\n",
       "  'step': 222},\n",
       " {'loss': 1.0162,\n",
       "  'learning_rate': 0.00019756189686530757,\n",
       "  'epoch': 3.0,\n",
       "  'step': 333},\n",
       " {'eval_loss': 2.0411031246185303,\n",
       "  'eval_accuracy': 0.9775429326287979,\n",
       "  'eval_recall': 0.0,\n",
       "  'eval_precision': 0.0,\n",
       "  'eval_f1': 0.0,\n",
       "  'eval_runtime': 4.1865,\n",
       "  'eval_samples_per_second': 180.819,\n",
       "  'eval_steps_per_second': 2.866,\n",
       "  'epoch': 3.0,\n",
       "  'step': 333},\n",
       " {'loss': 1.035,\n",
       "  'learning_rate': 0.0001693387687416922,\n",
       "  'epoch': 4.0,\n",
       "  'step': 444},\n",
       " {'eval_loss': 1.8098057508468628,\n",
       "  'eval_accuracy': 0.9775429326287979,\n",
       "  'eval_recall': 0.0,\n",
       "  'eval_precision': 0.0,\n",
       "  'eval_f1': 0.0,\n",
       "  'eval_runtime': 3.9689,\n",
       "  'eval_samples_per_second': 190.732,\n",
       "  'eval_steps_per_second': 3.023,\n",
       "  'epoch': 4.0,\n",
       "  'step': 444},\n",
       " {'loss': 0.9602,\n",
       "  'learning_rate': 0.00014111564061807685,\n",
       "  'epoch': 5.0,\n",
       "  'step': 555},\n",
       " {'eval_loss': 1.9995079040527344,\n",
       "  'eval_accuracy': 0.9775429326287979,\n",
       "  'eval_recall': 0.0,\n",
       "  'eval_precision': 0.0,\n",
       "  'eval_f1': 0.0,\n",
       "  'eval_runtime': 4.2105,\n",
       "  'eval_samples_per_second': 179.788,\n",
       "  'eval_steps_per_second': 2.85,\n",
       "  'epoch': 5.0,\n",
       "  'step': 555},\n",
       " {'loss': 1.0417,\n",
       "  'learning_rate': 0.00011289251249446149,\n",
       "  'epoch': 6.0,\n",
       "  'step': 666},\n",
       " {'eval_loss': 1.6885859966278076,\n",
       "  'eval_accuracy': 0.9775429326287979,\n",
       "  'eval_recall': 0.0,\n",
       "  'eval_precision': 0.0,\n",
       "  'eval_f1': 0.0,\n",
       "  'eval_runtime': 3.7502,\n",
       "  'eval_samples_per_second': 201.856,\n",
       "  'eval_steps_per_second': 3.2,\n",
       "  'epoch': 6.0,\n",
       "  'step': 666},\n",
       " {'loss': 1.0149,\n",
       "  'learning_rate': 8.46693843708461e-05,\n",
       "  'epoch': 7.0,\n",
       "  'step': 777},\n",
       " {'eval_loss': 1.8243262767791748,\n",
       "  'eval_accuracy': 0.9775429326287979,\n",
       "  'eval_recall': 0.0,\n",
       "  'eval_precision': 0.0,\n",
       "  'eval_f1': 0.0,\n",
       "  'eval_runtime': 4.6253,\n",
       "  'eval_samples_per_second': 163.664,\n",
       "  'eval_steps_per_second': 2.594,\n",
       "  'epoch': 7.0,\n",
       "  'step': 777},\n",
       " {'loss': 0.9861,\n",
       "  'learning_rate': 5.6446256247230745e-05,\n",
       "  'epoch': 8.0,\n",
       "  'step': 888},\n",
       " {'eval_loss': 1.6997750997543335,\n",
       "  'eval_accuracy': 0.9775429326287979,\n",
       "  'eval_recall': 0.0,\n",
       "  'eval_precision': 0.0,\n",
       "  'eval_f1': 0.0,\n",
       "  'eval_runtime': 3.9746,\n",
       "  'eval_samples_per_second': 190.461,\n",
       "  'eval_steps_per_second': 3.019,\n",
       "  'epoch': 8.0,\n",
       "  'step': 888},\n",
       " {'loss': 0.9408,\n",
       "  'learning_rate': 2.8223128123615372e-05,\n",
       "  'epoch': 9.0,\n",
       "  'step': 999},\n",
       " {'eval_loss': 1.601576566696167,\n",
       "  'eval_accuracy': 0.9775429326287979,\n",
       "  'eval_recall': 0.0,\n",
       "  'eval_precision': 0.0,\n",
       "  'eval_f1': 0.0,\n",
       "  'eval_runtime': 3.7125,\n",
       "  'eval_samples_per_second': 203.907,\n",
       "  'eval_steps_per_second': 3.232,\n",
       "  'epoch': 9.0,\n",
       "  'step': 999},\n",
       " {'loss': 0.913, 'learning_rate': 0.0, 'epoch': 10.0, 'step': 1110},\n",
       " {'eval_loss': 1.8082104921340942,\n",
       "  'eval_accuracy': 0.9775429326287979,\n",
       "  'eval_recall': 0.0,\n",
       "  'eval_precision': 0.0,\n",
       "  'eval_f1': 0.0,\n",
       "  'eval_runtime': 3.5875,\n",
       "  'eval_samples_per_second': 211.008,\n",
       "  'eval_steps_per_second': 3.345,\n",
       "  'epoch': 10.0,\n",
       "  'step': 1110},\n",
       " {'train_runtime': 99.7495,\n",
       "  'train_samples_per_second': 177.044,\n",
       "  'train_steps_per_second': 11.128,\n",
       "  'total_flos': 29190898360320.0,\n",
       "  'train_loss': 1.0003696544750316,\n",
       "  'epoch': 10.0,\n",
       "  'step': 1110},\n",
       " {'eval_loss': 1.5152441263198853,\n",
       "  'eval_accuracy': 0.9775429326287979,\n",
       "  'eval_recall': 0.0,\n",
       "  'eval_precision': 0.0,\n",
       "  'eval_f1': 0.0,\n",
       "  'eval_runtime': 3.9841,\n",
       "  'eval_samples_per_second': 190.008,\n",
       "  'eval_steps_per_second': 3.012,\n",
       "  'epoch': 10.0,\n",
       "  'step': 1110}]"
      ]
     },
     "execution_count": 34,
     "metadata": {},
     "output_type": "execute_result"
    }
   ],
   "source": [
    "trainer.state.log_history\n",
    "\n"
   ]
  },
  {
   "cell_type": "code",
   "execution_count": 35,
   "metadata": {
    "id": "fV2PWhiFZbP_"
   },
   "outputs": [],
   "source": [
    "training_losses = [element['loss'] for element in trainer.state.log_history if 'loss' in element.keys()]\n",
    "val_losses = [element['eval_loss'] for element in trainer.state.log_history if 'eval_loss' in element.keys()]"
   ]
  },
  {
   "cell_type": "code",
   "execution_count": 36,
   "metadata": {
    "id": "5qHIg_KbZ1px"
   },
   "outputs": [
    {
     "data": {
      "image/png": "[encoded data removed]",
      "text/plain": [
       "<Figure size 640x480 with 1 Axes>"
      ]
     },
     "metadata": {},
     "output_type": "display_data"
    }
   ],
   "source": [
    "plt.plot(training_losses)\n",
    "plt.plot(val_losses)\n",
    "plt.title(\"Train and validation loss\")\n",
    "plt.xlabel(\"Epoch\")\n",
    "plt.ylabel('Loss')\n",
    "plt.xticks([i for i in range(0,len(val_losses))])\n",
    "plt.legend(['Train', 'Validation'])\n",
    "plt.show()"
   ]
  },
  {
   "cell_type": "code",
   "execution_count": 37,
   "metadata": {
    "id": "-hF5zaSDteh1"
   },
   "outputs": [
    {
     "name": "stdout",
     "output_type": "stream",
     "text": [
      "Accuracy: 0.9775429326287979\n",
      "Precision: 0.0\n",
      "Recall: 0.0\n",
      "F1: 0.0\n",
      "\n",
      "\n"
     ]
    },
    {
     "name": "stderr",
     "output_type": "stream",
     "text": [
      "/home/losullivan/.local/lib/python3.10/site-packages/sklearn/metrics/_classification.py:1471: UndefinedMetricWarning: Precision is ill-defined and being set to 0.0 due to no predicted samples. Use `zero_division` parameter to control this behavior.\n",
      "  _warn_prf(average, modifier, msg_start, len(result))\n"
     ]
    },
    {
     "data": {
      "image/png": "[encoded data removed]",
      "text/plain": [
       "<Figure size 640x480 with 2 Axes>"
      ]
     },
     "metadata": {},
     "output_type": "display_data"
    }
   ],
   "source": [
    "from sklearn.metrics import (\n",
    "    accuracy_score,\n",
    "    classification_report,\n",
    "    confusion_matrix,\n",
    "    f1_score,\n",
    "    make_scorer,\n",
    "    precision_score,\n",
    "    recall_score,\n",
    "    ConfusionMatrixDisplay,\n",
    ")\n",
    "\n",
    "\n",
    "print(\"Accuracy:\", accuracy_score(y_test, y_pred))\n",
    "print(\"Precision:\", precision_score(y_test, y_pred))\n",
    "print(\"Recall:\", recall_score(y_test, y_pred))\n",
    "print(\"F1:\", f1_score(y_test, y_pred))\n",
    "\n",
    "\n",
    "print(\"\\n\")\n",
    "cm = confusion_matrix(y_test, y_pred)\n",
    "\n",
    "disp = ConfusionMatrixDisplay(confusion_matrix=cm)\n",
    "\n",
    "\n",
    "disp.plot()\n",
    "\n",
    "plt.show()\n",
    "\n",
    "\n"
   ]
  },
  {
   "cell_type": "code",
   "execution_count": 38,
   "metadata": {
    "id": "pE2ZM8FXu_aO"
   },
   "outputs": [
    {
     "data": {
      "image/png": "[encoded data removed]",
      "text/plain": [
       "<Figure size 640x480 with 1 Axes>"
      ]
     },
     "metadata": {},
     "output_type": "display_data"
    }
   ],
   "source": [
    "#https://scikit-learn.org/stable/modules/generated/sklearn.metrics.PrecisionRecallDisplay.html\n",
    "from sklearn.metrics import (precision_recall_curve,\n",
    "                              PrecisionRecallDisplay)\n",
    "\n",
    "disp = PrecisionRecallDisplay.from_predictions(y_test, y_pred)\n",
    "plt.show()\n",
    "\n"
   ]
  },
  {
   "cell_type": "code",
   "execution_count": 39,
   "metadata": {
    "colab": {
     "base_uri": "https://localhost:8080/"
    },
    "id": "DG4kSuxgxb8X",
    "outputId": "e2e1b720-c53d-4dbb-ad40-b38ce46d0f1e"
   },
   "outputs": [
    {
     "name": "stdout",
     "output_type": "stream",
     "text": [
      "[]\n"
     ]
    }
   ],
   "source": [
    "# https://stackoverflow.com/questions/67432457/python-get-the-index-of-two-list-where-the-values-are-the-same\n",
    "print([i for i, v in enumerate(list(y_pred)) if v == list(y_test)[i] and v==1])"
   ]
  },
  {
   "cell_type": "code",
   "execution_count": 40,
   "metadata": {
    "id": "ESeeSJV6x1mi"
   },
   "outputs": [],
   "source": [
    "#X_test.iloc[213]"
   ]
  },
  {
   "cell_type": "code",
   "execution_count": 41,
   "metadata": {
    "colab": {
     "base_uri": "https://localhost:8080/"
    },
    "id": "peULwIvIyMEo",
    "outputId": "e6209437-c3fe-4ba2-88c7-c01f8a152d14"
   },
   "outputs": [],
   "source": [
    "#where they equal\n",
    "correct_predictions_indices = [i for i, v in enumerate(list(y_pred)) if v == list(y_test)[i] and v==1]\n",
    "\n",
    "for prediction_index in correct_predictions_indices:\n",
    "    print(senolytics_df.loc[X_test.iloc[[prediction_index]].index[0]]['Name'])"
   ]
  },
  {
   "cell_type": "code",
   "execution_count": null,
   "metadata": {},
   "outputs": [],
   "source": []
  }
 ],
 "metadata": {
  "colab": {
   "provenance": []
  },
  "kernelspec": {
   "display_name": "Python 3 (ipykernel)",
   "language": "python",
   "name": "python3"
  },
  "language_info": {
   "codemirror_mode": {
    "name": "ipython",
    "version": 3
   },
   "file_extension": ".py",
   "mimetype": "text/x-python",
   "name": "python",
   "nbconvert_exporter": "python",
   "pygments_lexer": "ipython3",
   "version": "3.10.12"
  },
  "widgets": {
   "application/vnd.jupyter.widget-state+json": {
    "091723f2ddaa43b98f16a4756fd02390": {
     "model_module": "@jupyter-widgets/controls",
     "model_module_version": "1.5.0",
     "model_name": "FloatProgressModel",
     "state": {
      "_dom_classes": [],
      "_model_module": "@jupyter-widgets/controls",
      "_model_module_version": "1.5.0",
      "_model_name": "FloatProgressModel",
      "_view_count": null,
      "_view_module": "@jupyter-widgets/controls",
      "_view_module_version": "1.5.0",
      "_view_name": "ProgressView",
      "bar_style": "success",
      "description": "",
      "description_tooltip": null,
      "layout": "IPY_MODEL_8088374a3d6f4332b642708bbd768add",
      "max": 6771,
      "min": 0,
      "orientation": "horizontal",
      "style": "IPY_MODEL_d97c6f2aac474568949ac75dcae64a78",
      "value": 6771
     }
    },
    "1bee975014d1451b9ff65d5fe1900ff3": {
     "model_module": "@jupyter-widgets/controls",
     "model_module_version": "1.5.0",
     "model_name": "HBoxModel",
     "state": {
      "_dom_classes": [],
      "_model_module": "@jupyter-widgets/controls",
      "_model_module_version": "1.5.0",
      "_model_name": "HBoxModel",
      "_view_count": null,
      "_view_module": "@jupyter-widgets/controls",
      "_view_module_version": "1.5.0",
      "_view_name": "HBoxView",
      "box_style": "",
      "children": [
       "IPY_MODEL_7f77b287bc334e3dba59b9d4c3307e46",
       "IPY_MODEL_091723f2ddaa43b98f16a4756fd02390",
       "IPY_MODEL_5d939c494595405797930594beee593d"
      ],
      "layout": "IPY_MODEL_74135322bba54fa3b6578825dbfac89f"
     }
    },
    "35f2824b2c644032a227f956719fe2a7": {
     "model_module": "@jupyter-widgets/controls",
     "model_module_version": "1.5.0",
     "model_name": "DescriptionStyleModel",
     "state": {
      "_model_module": "@jupyter-widgets/controls",
      "_model_module_version": "1.5.0",
      "_model_name": "DescriptionStyleModel",
      "_view_count": null,
      "_view_module": "@jupyter-widgets/base",
      "_view_module_version": "1.2.0",
      "_view_name": "StyleView",
      "description_width": ""
     }
    },
    "58da272eecb64352a162858fdfdb9a10": {
     "model_module": "@jupyter-widgets/base",
     "model_module_version": "1.2.0",
     "model_name": "LayoutModel",
     "state": {
      "_model_module": "@jupyter-widgets/base",
      "_model_module_version": "1.2.0",
      "_model_name": "LayoutModel",
      "_view_count": null,
      "_view_module": "@jupyter-widgets/base",
      "_view_module_version": "1.2.0",
      "_view_name": "LayoutView",
      "align_content": null,
      "align_items": null,
      "align_self": null,
      "border": null,
      "bottom": null,
      "display": null,
      "flex": null,
      "flex_flow": null,
      "grid_area": null,
      "grid_auto_columns": null,
      "grid_auto_flow": null,
      "grid_auto_rows": null,
      "grid_column": null,
      "grid_gap": null,
      "grid_row": null,
      "grid_template_areas": null,
      "grid_template_columns": null,
      "grid_template_rows": null,
      "height": null,
      "justify_content": null,
      "justify_items": null,
      "left": null,
      "margin": null,
      "max_height": null,
      "max_width": null,
      "min_height": null,
      "min_width": null,
      "object_fit": null,
      "object_position": null,
      "order": null,
      "overflow": null,
      "overflow_x": null,
      "overflow_y": null,
      "padding": null,
      "right": null,
      "top": null,
      "visibility": null,
      "width": null
     }
    },
    "5d939c494595405797930594beee593d": {
     "model_module": "@jupyter-widgets/controls",
     "model_module_version": "1.5.0",
     "model_name": "HTMLModel",
     "state": {
      "_dom_classes": [],
      "_model_module": "@jupyter-widgets/controls",
      "_model_module_version": "1.5.0",
      "_model_name": "HTMLModel",
      "_view_count": null,
      "_view_module": "@jupyter-widgets/controls",
      "_view_module_version": "1.5.0",
      "_view_name": "HTMLView",
      "description": "",
      "description_tooltip": null,
      "layout": "IPY_MODEL_58da272eecb64352a162858fdfdb9a10",
      "placeholder": "​",
      "style": "IPY_MODEL_f5f0d29fc0ef4fcfb09f17906c822687",
      "value": " 6.77k/6.77k [00:00&lt;00:00, 224kB/s]"
     }
    },
    "74135322bba54fa3b6578825dbfac89f": {
     "model_module": "@jupyter-widgets/base",
     "model_module_version": "1.2.0",
     "model_name": "LayoutModel",
     "state": {
      "_model_module": "@jupyter-widgets/base",
      "_model_module_version": "1.2.0",
      "_model_name": "LayoutModel",
      "_view_count": null,
      "_view_module": "@jupyter-widgets/base",
      "_view_module_version": "1.2.0",
      "_view_name": "LayoutView",
      "align_content": null,
      "align_items": null,
      "align_self": null,
      "border": null,
      "bottom": null,
      "display": null,
      "flex": null,
      "flex_flow": null,
      "grid_area": null,
      "grid_auto_columns": null,
      "grid_auto_flow": null,
      "grid_auto_rows": null,
      "grid_column": null,
      "grid_gap": null,
      "grid_row": null,
      "grid_template_areas": null,
      "grid_template_columns": null,
      "grid_template_rows": null,
      "height": null,
      "justify_content": null,
      "justify_items": null,
      "left": null,
      "margin": null,
      "max_height": null,
      "max_width": null,
      "min_height": null,
      "min_width": null,
      "object_fit": null,
      "object_position": null,
      "order": null,
      "overflow": null,
      "overflow_x": null,
      "overflow_y": null,
      "padding": null,
      "right": null,
      "top": null,
      "visibility": null,
      "width": null
     }
    },
    "7f77b287bc334e3dba59b9d4c3307e46": {
     "model_module": "@jupyter-widgets/controls",
     "model_module_version": "1.5.0",
     "model_name": "HTMLModel",
     "state": {
      "_dom_classes": [],
      "_model_module": "@jupyter-widgets/controls",
      "_model_module_version": "1.5.0",
      "_model_name": "HTMLModel",
      "_view_count": null,
      "_view_module": "@jupyter-widgets/controls",
      "_view_module_version": "1.5.0",
      "_view_name": "HTMLView",
      "description": "",
      "description_tooltip": null,
      "layout": "IPY_MODEL_9781d331577d4612bcabe465634f52a2",
      "placeholder": "​",
      "style": "IPY_MODEL_35f2824b2c644032a227f956719fe2a7",
      "value": "Downloading builder script: 100%"
     }
    },
    "8088374a3d6f4332b642708bbd768add": {
     "model_module": "@jupyter-widgets/base",
     "model_module_version": "1.2.0",
     "model_name": "LayoutModel",
     "state": {
      "_model_module": "@jupyter-widgets/base",
      "_model_module_version": "1.2.0",
      "_model_name": "LayoutModel",
      "_view_count": null,
      "_view_module": "@jupyter-widgets/base",
      "_view_module_version": "1.2.0",
      "_view_name": "LayoutView",
      "align_content": null,
      "align_items": null,
      "align_self": null,
      "border": null,
      "bottom": null,
      "display": null,
      "flex": null,
      "flex_flow": null,
      "grid_area": null,
      "grid_auto_columns": null,
      "grid_auto_flow": null,
      "grid_auto_rows": null,
      "grid_column": null,
      "grid_gap": null,
      "grid_row": null,
      "grid_template_areas": null,
      "grid_template_columns": null,
      "grid_template_rows": null,
      "height": null,
      "justify_content": null,
      "justify_items": null,
      "left": null,
      "margin": null,
      "max_height": null,
      "max_width": null,
      "min_height": null,
      "min_width": null,
      "object_fit": null,
      "object_position": null,
      "order": null,
      "overflow": null,
      "overflow_x": null,
      "overflow_y": null,
      "padding": null,
      "right": null,
      "top": null,
      "visibility": null,
      "width": null
     }
    },
    "9781d331577d4612bcabe465634f52a2": {
     "model_module": "@jupyter-widgets/base",
     "model_module_version": "1.2.0",
     "model_name": "LayoutModel",
     "state": {
      "_model_module": "@jupyter-widgets/base",
      "_model_module_version": "1.2.0",
      "_model_name": "LayoutModel",
      "_view_count": null,
      "_view_module": "@jupyter-widgets/base",
      "_view_module_version": "1.2.0",
      "_view_name": "LayoutView",
      "align_content": null,
      "align_items": null,
      "align_self": null,
      "border": null,
      "bottom": null,
      "display": null,
      "flex": null,
      "flex_flow": null,
      "grid_area": null,
      "grid_auto_columns": null,
      "grid_auto_flow": null,
      "grid_auto_rows": null,
      "grid_column": null,
      "grid_gap": null,
      "grid_row": null,
      "grid_template_areas": null,
      "grid_template_columns": null,
      "grid_template_rows": null,
      "height": null,
      "justify_content": null,
      "justify_items": null,
      "left": null,
      "margin": null,
      "max_height": null,
      "max_width": null,
      "min_height": null,
      "min_width": null,
      "object_fit": null,
      "object_position": null,
      "order": null,
      "overflow": null,
      "overflow_x": null,
      "overflow_y": null,
      "padding": null,
      "right": null,
      "top": null,
      "visibility": null,
      "width": null
     }
    },
    "d97c6f2aac474568949ac75dcae64a78": {
     "model_module": "@jupyter-widgets/controls",
     "model_module_version": "1.5.0",
     "model_name": "ProgressStyleModel",
     "state": {
      "_model_module": "@jupyter-widgets/controls",
      "_model_module_version": "1.5.0",
      "_model_name": "ProgressStyleModel",
      "_view_count": null,
      "_view_module": "@jupyter-widgets/base",
      "_view_module_version": "1.2.0",
      "_view_name": "StyleView",
      "bar_color": null,
      "description_width": ""
     }
    },
    "f5f0d29fc0ef4fcfb09f17906c822687": {
     "model_module": "@jupyter-widgets/controls",
     "model_module_version": "1.5.0",
     "model_name": "DescriptionStyleModel",
     "state": {
      "_model_module": "@jupyter-widgets/controls",
      "_model_module_version": "1.5.0",
      "_model_name": "DescriptionStyleModel",
      "_view_count": null,
      "_view_module": "@jupyter-widgets/base",
      "_view_module_version": "1.2.0",
      "_view_name": "StyleView",
      "description_width": ""
     }
    }
   }
  }
 },
 "nbformat": 4,
 "nbformat_minor": 4
}
